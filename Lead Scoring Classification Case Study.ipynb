{
 "cells": [
  {
   "cell_type": "markdown",
   "id": "14964d66",
   "metadata": {},
   "source": [
    "***Problem Description***\n",
    "\n",
    "An education company named X Education sells online courses to industry professionals. On any given day, many professionals who are interested in the courses land on their website and browse for courses.\n",
    "\n",
    "The company markets its courses on several websites and search engines like Google. Once these people land on the website, they might browse the courses or fill up a form for the course or watch some videos. When these people fill up a form providing their email address or phone number, they are classified to be a lead. Moreover, the company also gets leads through past referrals. Once these leads are acquired, employees from the sales team start making calls, writing emails, etc. Through this process, some of the leads get converted while most do not. The typical lead conversion rate at X education is around 30%.\n",
    "\n",
    "X Education has appointed you to help them select the most promising leads, i.e. the leads that are most likely to convert into paying customers. The company requires you to build a model wherein you need to assign a lead score to each of the leads such that the customers with higher lead score have a higher conversion chance and the customers with lower lead score have a lower conversion chance. The CEO, in particular, has given a ballpark of the target lead conversion rate to be around 80%."
   ]
  },
  {
   "cell_type": "code",
   "execution_count": 43,
   "id": "81ce014e",
   "metadata": {},
   "outputs": [],
   "source": [
    "# Suppressing Warnings\n",
    "import warnings\n",
    "warnings.filterwarnings('ignore')\n",
    "# Importing Pandas and NumPy\n",
    "import pandas as pd, numpy as np"
   ]
  },
  {
   "cell_type": "code",
   "execution_count": 44,
   "id": "f0f1ac43",
   "metadata": {},
   "outputs": [
    {
     "data": {
      "text/html": [
       "<div>\n",
       "<style scoped>\n",
       "    .dataframe tbody tr th:only-of-type {\n",
       "        vertical-align: middle;\n",
       "    }\n",
       "\n",
       "    .dataframe tbody tr th {\n",
       "        vertical-align: top;\n",
       "    }\n",
       "\n",
       "    .dataframe thead th {\n",
       "        text-align: right;\n",
       "    }\n",
       "</style>\n",
       "<table border=\"1\" class=\"dataframe\">\n",
       "  <thead>\n",
       "    <tr style=\"text-align: right;\">\n",
       "      <th></th>\n",
       "      <th>Prospect ID</th>\n",
       "      <th>Lead Number</th>\n",
       "      <th>Lead Origin</th>\n",
       "      <th>Lead Source</th>\n",
       "      <th>Do Not Email</th>\n",
       "      <th>Do Not Call</th>\n",
       "      <th>Converted</th>\n",
       "      <th>TotalVisits</th>\n",
       "      <th>Total Time Spent on Website</th>\n",
       "      <th>Page Views Per Visit</th>\n",
       "      <th>...</th>\n",
       "      <th>Get updates on DM Content</th>\n",
       "      <th>Lead Profile</th>\n",
       "      <th>City</th>\n",
       "      <th>Asymmetrique Activity Index</th>\n",
       "      <th>Asymmetrique Profile Index</th>\n",
       "      <th>Asymmetrique Activity Score</th>\n",
       "      <th>Asymmetrique Profile Score</th>\n",
       "      <th>I agree to pay the amount through cheque</th>\n",
       "      <th>A free copy of Mastering The Interview</th>\n",
       "      <th>Last Notable Activity</th>\n",
       "    </tr>\n",
       "  </thead>\n",
       "  <tbody>\n",
       "    <tr>\n",
       "      <th>0</th>\n",
       "      <td>7927b2df-8bba-4d29-b9a2-b6e0beafe620</td>\n",
       "      <td>660737</td>\n",
       "      <td>API</td>\n",
       "      <td>Olark Chat</td>\n",
       "      <td>No</td>\n",
       "      <td>No</td>\n",
       "      <td>0</td>\n",
       "      <td>0.0</td>\n",
       "      <td>0</td>\n",
       "      <td>0.0</td>\n",
       "      <td>...</td>\n",
       "      <td>No</td>\n",
       "      <td>Select</td>\n",
       "      <td>Select</td>\n",
       "      <td>02.Medium</td>\n",
       "      <td>02.Medium</td>\n",
       "      <td>15.0</td>\n",
       "      <td>15.0</td>\n",
       "      <td>No</td>\n",
       "      <td>No</td>\n",
       "      <td>Modified</td>\n",
       "    </tr>\n",
       "    <tr>\n",
       "      <th>1</th>\n",
       "      <td>2a272436-5132-4136-86fa-dcc88c88f482</td>\n",
       "      <td>660728</td>\n",
       "      <td>API</td>\n",
       "      <td>Organic Search</td>\n",
       "      <td>No</td>\n",
       "      <td>No</td>\n",
       "      <td>0</td>\n",
       "      <td>5.0</td>\n",
       "      <td>674</td>\n",
       "      <td>2.5</td>\n",
       "      <td>...</td>\n",
       "      <td>No</td>\n",
       "      <td>Select</td>\n",
       "      <td>Select</td>\n",
       "      <td>02.Medium</td>\n",
       "      <td>02.Medium</td>\n",
       "      <td>15.0</td>\n",
       "      <td>15.0</td>\n",
       "      <td>No</td>\n",
       "      <td>No</td>\n",
       "      <td>Email Opened</td>\n",
       "    </tr>\n",
       "    <tr>\n",
       "      <th>2</th>\n",
       "      <td>8cc8c611-a219-4f35-ad23-fdfd2656bd8a</td>\n",
       "      <td>660727</td>\n",
       "      <td>Landing Page Submission</td>\n",
       "      <td>Direct Traffic</td>\n",
       "      <td>No</td>\n",
       "      <td>No</td>\n",
       "      <td>1</td>\n",
       "      <td>2.0</td>\n",
       "      <td>1532</td>\n",
       "      <td>2.0</td>\n",
       "      <td>...</td>\n",
       "      <td>No</td>\n",
       "      <td>Potential Lead</td>\n",
       "      <td>Mumbai</td>\n",
       "      <td>02.Medium</td>\n",
       "      <td>01.High</td>\n",
       "      <td>14.0</td>\n",
       "      <td>20.0</td>\n",
       "      <td>No</td>\n",
       "      <td>Yes</td>\n",
       "      <td>Email Opened</td>\n",
       "    </tr>\n",
       "    <tr>\n",
       "      <th>3</th>\n",
       "      <td>0cc2df48-7cf4-4e39-9de9-19797f9b38cc</td>\n",
       "      <td>660719</td>\n",
       "      <td>Landing Page Submission</td>\n",
       "      <td>Direct Traffic</td>\n",
       "      <td>No</td>\n",
       "      <td>No</td>\n",
       "      <td>0</td>\n",
       "      <td>1.0</td>\n",
       "      <td>305</td>\n",
       "      <td>1.0</td>\n",
       "      <td>...</td>\n",
       "      <td>No</td>\n",
       "      <td>Select</td>\n",
       "      <td>Mumbai</td>\n",
       "      <td>02.Medium</td>\n",
       "      <td>01.High</td>\n",
       "      <td>13.0</td>\n",
       "      <td>17.0</td>\n",
       "      <td>No</td>\n",
       "      <td>No</td>\n",
       "      <td>Modified</td>\n",
       "    </tr>\n",
       "    <tr>\n",
       "      <th>4</th>\n",
       "      <td>3256f628-e534-4826-9d63-4a8b88782852</td>\n",
       "      <td>660681</td>\n",
       "      <td>Landing Page Submission</td>\n",
       "      <td>Google</td>\n",
       "      <td>No</td>\n",
       "      <td>No</td>\n",
       "      <td>1</td>\n",
       "      <td>2.0</td>\n",
       "      <td>1428</td>\n",
       "      <td>1.0</td>\n",
       "      <td>...</td>\n",
       "      <td>No</td>\n",
       "      <td>Select</td>\n",
       "      <td>Mumbai</td>\n",
       "      <td>02.Medium</td>\n",
       "      <td>01.High</td>\n",
       "      <td>15.0</td>\n",
       "      <td>18.0</td>\n",
       "      <td>No</td>\n",
       "      <td>No</td>\n",
       "      <td>Modified</td>\n",
       "    </tr>\n",
       "  </tbody>\n",
       "</table>\n",
       "<p>5 rows × 37 columns</p>\n",
       "</div>"
      ],
      "text/plain": [
       "                            Prospect ID  Lead Number              Lead Origin  \\\n",
       "0  7927b2df-8bba-4d29-b9a2-b6e0beafe620       660737                      API   \n",
       "1  2a272436-5132-4136-86fa-dcc88c88f482       660728                      API   \n",
       "2  8cc8c611-a219-4f35-ad23-fdfd2656bd8a       660727  Landing Page Submission   \n",
       "3  0cc2df48-7cf4-4e39-9de9-19797f9b38cc       660719  Landing Page Submission   \n",
       "4  3256f628-e534-4826-9d63-4a8b88782852       660681  Landing Page Submission   \n",
       "\n",
       "      Lead Source Do Not Email Do Not Call  Converted  TotalVisits  \\\n",
       "0      Olark Chat           No          No          0          0.0   \n",
       "1  Organic Search           No          No          0          5.0   \n",
       "2  Direct Traffic           No          No          1          2.0   \n",
       "3  Direct Traffic           No          No          0          1.0   \n",
       "4          Google           No          No          1          2.0   \n",
       "\n",
       "   Total Time Spent on Website  Page Views Per Visit  ...  \\\n",
       "0                            0                   0.0  ...   \n",
       "1                          674                   2.5  ...   \n",
       "2                         1532                   2.0  ...   \n",
       "3                          305                   1.0  ...   \n",
       "4                         1428                   1.0  ...   \n",
       "\n",
       "  Get updates on DM Content    Lead Profile    City  \\\n",
       "0                        No          Select  Select   \n",
       "1                        No          Select  Select   \n",
       "2                        No  Potential Lead  Mumbai   \n",
       "3                        No          Select  Mumbai   \n",
       "4                        No          Select  Mumbai   \n",
       "\n",
       "  Asymmetrique Activity Index Asymmetrique Profile Index  \\\n",
       "0                   02.Medium                  02.Medium   \n",
       "1                   02.Medium                  02.Medium   \n",
       "2                   02.Medium                    01.High   \n",
       "3                   02.Medium                    01.High   \n",
       "4                   02.Medium                    01.High   \n",
       "\n",
       "  Asymmetrique Activity Score Asymmetrique Profile Score  \\\n",
       "0                        15.0                       15.0   \n",
       "1                        15.0                       15.0   \n",
       "2                        14.0                       20.0   \n",
       "3                        13.0                       17.0   \n",
       "4                        15.0                       18.0   \n",
       "\n",
       "  I agree to pay the amount through cheque  \\\n",
       "0                                       No   \n",
       "1                                       No   \n",
       "2                                       No   \n",
       "3                                       No   \n",
       "4                                       No   \n",
       "\n",
       "  A free copy of Mastering The Interview Last Notable Activity  \n",
       "0                                     No              Modified  \n",
       "1                                     No          Email Opened  \n",
       "2                                    Yes          Email Opened  \n",
       "3                                     No              Modified  \n",
       "4                                     No              Modified  \n",
       "\n",
       "[5 rows x 37 columns]"
      ]
     },
     "execution_count": 44,
     "metadata": {},
     "output_type": "execute_result"
    }
   ],
   "source": [
    "# Importing the dataset and looking at the first 6 records\n",
    "data = pd.read_csv(\"G:/M/Machine Learning/Logistic Regression/Lead Scoring Assignment/Leads.csv\")\n",
    "data.head()"
   ]
  },
  {
   "cell_type": "markdown",
   "id": "4fad2e6c",
   "metadata": {},
   "source": [
    "**Exploratory Data Analysis**"
   ]
  },
  {
   "cell_type": "code",
   "execution_count": 45,
   "id": "67d0da70",
   "metadata": {},
   "outputs": [
    {
     "name": "stdout",
     "output_type": "stream",
     "text": [
      "<class 'pandas.core.frame.DataFrame'>\n",
      "RangeIndex: 9240 entries, 0 to 9239\n",
      "Data columns (total 37 columns):\n",
      " #   Column                                         Non-Null Count  Dtype  \n",
      "---  ------                                         --------------  -----  \n",
      " 0   Prospect ID                                    9240 non-null   object \n",
      " 1   Lead Number                                    9240 non-null   int64  \n",
      " 2   Lead Origin                                    9240 non-null   object \n",
      " 3   Lead Source                                    9204 non-null   object \n",
      " 4   Do Not Email                                   9240 non-null   object \n",
      " 5   Do Not Call                                    9240 non-null   object \n",
      " 6   Converted                                      9240 non-null   int64  \n",
      " 7   TotalVisits                                    9103 non-null   float64\n",
      " 8   Total Time Spent on Website                    9240 non-null   int64  \n",
      " 9   Page Views Per Visit                           9103 non-null   float64\n",
      " 10  Last Activity                                  9137 non-null   object \n",
      " 11  Country                                        6779 non-null   object \n",
      " 12  Specialization                                 7802 non-null   object \n",
      " 13  How did you hear about X Education             7033 non-null   object \n",
      " 14  What is your current occupation                6550 non-null   object \n",
      " 15  What matters most to you in choosing a course  6531 non-null   object \n",
      " 16  Search                                         9240 non-null   object \n",
      " 17  Magazine                                       9240 non-null   object \n",
      " 18  Newspaper Article                              9240 non-null   object \n",
      " 19  X Education Forums                             9240 non-null   object \n",
      " 20  Newspaper                                      9240 non-null   object \n",
      " 21  Digital Advertisement                          9240 non-null   object \n",
      " 22  Through Recommendations                        9240 non-null   object \n",
      " 23  Receive More Updates About Our Courses         9240 non-null   object \n",
      " 24  Tags                                           5887 non-null   object \n",
      " 25  Lead Quality                                   4473 non-null   object \n",
      " 26  Update me on Supply Chain Content              9240 non-null   object \n",
      " 27  Get updates on DM Content                      9240 non-null   object \n",
      " 28  Lead Profile                                   6531 non-null   object \n",
      " 29  City                                           7820 non-null   object \n",
      " 30  Asymmetrique Activity Index                    5022 non-null   object \n",
      " 31  Asymmetrique Profile Index                     5022 non-null   object \n",
      " 32  Asymmetrique Activity Score                    5022 non-null   float64\n",
      " 33  Asymmetrique Profile Score                     5022 non-null   float64\n",
      " 34  I agree to pay the amount through cheque       9240 non-null   object \n",
      " 35  A free copy of Mastering The Interview         9240 non-null   object \n",
      " 36  Last Notable Activity                          9240 non-null   object \n",
      "dtypes: float64(4), int64(3), object(30)\n",
      "memory usage: 2.6+ MB\n"
     ]
    }
   ],
   "source": [
    "#basic information: metadata\n",
    "data.info()"
   ]
  },
  {
   "cell_type": "code",
   "execution_count": 88,
   "id": "c52665a2",
   "metadata": {},
   "outputs": [
    {
     "data": {
      "text/plain": [
       "0    5679\n",
       "1    3561\n",
       "Name: Converted, dtype: int64"
      ]
     },
     "execution_count": 88,
     "metadata": {},
     "output_type": "execute_result"
    }
   ],
   "source": [
    "#look at the distribution of the target variable\n",
    "data['Converted'].value_counts()"
   ]
  },
  {
   "cell_type": "markdown",
   "id": "c5fbad19",
   "metadata": {},
   "source": [
    "--It's not an imbalanced dataset"
   ]
  },
  {
   "cell_type": "code",
   "execution_count": 6,
   "id": "441e7d40",
   "metadata": {},
   "outputs": [
    {
     "data": {
      "text/html": [
       "<div>\n",
       "<style scoped>\n",
       "    .dataframe tbody tr th:only-of-type {\n",
       "        vertical-align: middle;\n",
       "    }\n",
       "\n",
       "    .dataframe tbody tr th {\n",
       "        vertical-align: top;\n",
       "    }\n",
       "\n",
       "    .dataframe thead th {\n",
       "        text-align: right;\n",
       "    }\n",
       "</style>\n",
       "<table border=\"1\" class=\"dataframe\">\n",
       "  <thead>\n",
       "    <tr style=\"text-align: right;\">\n",
       "      <th></th>\n",
       "      <th>Lead Number</th>\n",
       "      <th>Converted</th>\n",
       "      <th>TotalVisits</th>\n",
       "      <th>Total Time Spent on Website</th>\n",
       "      <th>Page Views Per Visit</th>\n",
       "      <th>Asymmetrique Activity Score</th>\n",
       "      <th>Asymmetrique Profile Score</th>\n",
       "    </tr>\n",
       "  </thead>\n",
       "  <tbody>\n",
       "    <tr>\n",
       "      <th>count</th>\n",
       "      <td>9240.000000</td>\n",
       "      <td>9240.000000</td>\n",
       "      <td>9103.000000</td>\n",
       "      <td>9240.000000</td>\n",
       "      <td>9103.000000</td>\n",
       "      <td>5022.000000</td>\n",
       "      <td>5022.000000</td>\n",
       "    </tr>\n",
       "    <tr>\n",
       "      <th>mean</th>\n",
       "      <td>617188.435606</td>\n",
       "      <td>0.385390</td>\n",
       "      <td>3.445238</td>\n",
       "      <td>487.698268</td>\n",
       "      <td>2.362820</td>\n",
       "      <td>14.306252</td>\n",
       "      <td>16.344883</td>\n",
       "    </tr>\n",
       "    <tr>\n",
       "      <th>std</th>\n",
       "      <td>23405.995698</td>\n",
       "      <td>0.486714</td>\n",
       "      <td>4.854853</td>\n",
       "      <td>548.021466</td>\n",
       "      <td>2.161418</td>\n",
       "      <td>1.386694</td>\n",
       "      <td>1.811395</td>\n",
       "    </tr>\n",
       "    <tr>\n",
       "      <th>min</th>\n",
       "      <td>579533.000000</td>\n",
       "      <td>0.000000</td>\n",
       "      <td>0.000000</td>\n",
       "      <td>0.000000</td>\n",
       "      <td>0.000000</td>\n",
       "      <td>7.000000</td>\n",
       "      <td>11.000000</td>\n",
       "    </tr>\n",
       "    <tr>\n",
       "      <th>25%</th>\n",
       "      <td>596484.500000</td>\n",
       "      <td>0.000000</td>\n",
       "      <td>1.000000</td>\n",
       "      <td>12.000000</td>\n",
       "      <td>1.000000</td>\n",
       "      <td>14.000000</td>\n",
       "      <td>15.000000</td>\n",
       "    </tr>\n",
       "    <tr>\n",
       "      <th>50%</th>\n",
       "      <td>615479.000000</td>\n",
       "      <td>0.000000</td>\n",
       "      <td>3.000000</td>\n",
       "      <td>248.000000</td>\n",
       "      <td>2.000000</td>\n",
       "      <td>14.000000</td>\n",
       "      <td>16.000000</td>\n",
       "    </tr>\n",
       "    <tr>\n",
       "      <th>75%</th>\n",
       "      <td>637387.250000</td>\n",
       "      <td>1.000000</td>\n",
       "      <td>5.000000</td>\n",
       "      <td>936.000000</td>\n",
       "      <td>3.000000</td>\n",
       "      <td>15.000000</td>\n",
       "      <td>18.000000</td>\n",
       "    </tr>\n",
       "    <tr>\n",
       "      <th>max</th>\n",
       "      <td>660737.000000</td>\n",
       "      <td>1.000000</td>\n",
       "      <td>251.000000</td>\n",
       "      <td>2272.000000</td>\n",
       "      <td>55.000000</td>\n",
       "      <td>18.000000</td>\n",
       "      <td>20.000000</td>\n",
       "    </tr>\n",
       "  </tbody>\n",
       "</table>\n",
       "</div>"
      ],
      "text/plain": [
       "         Lead Number    Converted  TotalVisits  Total Time Spent on Website  \\\n",
       "count    9240.000000  9240.000000  9103.000000                  9240.000000   \n",
       "mean   617188.435606     0.385390     3.445238                   487.698268   \n",
       "std     23405.995698     0.486714     4.854853                   548.021466   \n",
       "min    579533.000000     0.000000     0.000000                     0.000000   \n",
       "25%    596484.500000     0.000000     1.000000                    12.000000   \n",
       "50%    615479.000000     0.000000     3.000000                   248.000000   \n",
       "75%    637387.250000     1.000000     5.000000                   936.000000   \n",
       "max    660737.000000     1.000000   251.000000                  2272.000000   \n",
       "\n",
       "       Page Views Per Visit  Asymmetrique Activity Score  \\\n",
       "count           9103.000000                  5022.000000   \n",
       "mean               2.362820                    14.306252   \n",
       "std                2.161418                     1.386694   \n",
       "min                0.000000                     7.000000   \n",
       "25%                1.000000                    14.000000   \n",
       "50%                2.000000                    14.000000   \n",
       "75%                3.000000                    15.000000   \n",
       "max               55.000000                    18.000000   \n",
       "\n",
       "       Asymmetrique Profile Score  \n",
       "count                 5022.000000  \n",
       "mean                    16.344883  \n",
       "std                      1.811395  \n",
       "min                     11.000000  \n",
       "25%                     15.000000  \n",
       "50%                     16.000000  \n",
       "75%                     18.000000  \n",
       "max                     20.000000  "
      ]
     },
     "execution_count": 6,
     "metadata": {},
     "output_type": "execute_result"
    }
   ],
   "source": [
    "#Basic statistics\n",
    "data.describe()"
   ]
  },
  {
   "cell_type": "code",
   "execution_count": 7,
   "id": "a607effe",
   "metadata": {},
   "outputs": [
    {
     "data": {
      "text/plain": [
       "Prospect ID                                         0\n",
       "Lead Number                                         0\n",
       "Lead Origin                                         0\n",
       "Lead Source                                        36\n",
       "Do Not Email                                        0\n",
       "Do Not Call                                         0\n",
       "Converted                                           0\n",
       "TotalVisits                                       137\n",
       "Total Time Spent on Website                         0\n",
       "Page Views Per Visit                              137\n",
       "Last Activity                                     103\n",
       "Country                                          2461\n",
       "Specialization                                   1438\n",
       "How did you hear about X Education               2207\n",
       "What is your current occupation                  2690\n",
       "What matters most to you in choosing a course    2709\n",
       "Search                                              0\n",
       "Magazine                                            0\n",
       "Newspaper Article                                   0\n",
       "X Education Forums                                  0\n",
       "Newspaper                                           0\n",
       "Digital Advertisement                               0\n",
       "Through Recommendations                             0\n",
       "Receive More Updates About Our Courses              0\n",
       "Tags                                             3353\n",
       "Lead Quality                                     4767\n",
       "Update me on Supply Chain Content                   0\n",
       "Get updates on DM Content                           0\n",
       "Lead Profile                                     2709\n",
       "City                                             1420\n",
       "Asymmetrique Activity Index                      4218\n",
       "Asymmetrique Profile Index                       4218\n",
       "Asymmetrique Activity Score                      4218\n",
       "Asymmetrique Profile Score                       4218\n",
       "I agree to pay the amount through cheque            0\n",
       "A free copy of Mastering The Interview              0\n",
       "Last Notable Activity                               0\n",
       "dtype: int64"
      ]
     },
     "execution_count": 7,
     "metadata": {},
     "output_type": "execute_result"
    }
   ],
   "source": [
    "#check for null values\n",
    "data.isnull().sum()"
   ]
  },
  {
   "cell_type": "code",
   "execution_count": 8,
   "id": "31630ae5",
   "metadata": {},
   "outputs": [
    {
     "data": {
      "text/plain": [
       "Prospect ID                                       0.000000\n",
       "Lead Number                                       0.000000\n",
       "Lead Origin                                       0.000000\n",
       "Lead Source                                       0.389610\n",
       "Do Not Email                                      0.000000\n",
       "Do Not Call                                       0.000000\n",
       "Converted                                         0.000000\n",
       "TotalVisits                                       1.482684\n",
       "Total Time Spent on Website                       0.000000\n",
       "Page Views Per Visit                              1.482684\n",
       "Last Activity                                     1.114719\n",
       "Country                                          26.634199\n",
       "Specialization                                   15.562771\n",
       "How did you hear about X Education               23.885281\n",
       "What is your current occupation                  29.112554\n",
       "What matters most to you in choosing a course    29.318182\n",
       "Search                                            0.000000\n",
       "Magazine                                          0.000000\n",
       "Newspaper Article                                 0.000000\n",
       "X Education Forums                                0.000000\n",
       "Newspaper                                         0.000000\n",
       "Digital Advertisement                             0.000000\n",
       "Through Recommendations                           0.000000\n",
       "Receive More Updates About Our Courses            0.000000\n",
       "Tags                                             36.287879\n",
       "Lead Quality                                     51.590909\n",
       "Update me on Supply Chain Content                 0.000000\n",
       "Get updates on DM Content                         0.000000\n",
       "Lead Profile                                     29.318182\n",
       "City                                             15.367965\n",
       "Asymmetrique Activity Index                      45.649351\n",
       "Asymmetrique Profile Index                       45.649351\n",
       "Asymmetrique Activity Score                      45.649351\n",
       "Asymmetrique Profile Score                       45.649351\n",
       "I agree to pay the amount through cheque          0.000000\n",
       "A free copy of Mastering The Interview            0.000000\n",
       "Last Notable Activity                             0.000000\n",
       "dtype: float64"
      ]
     },
     "execution_count": 8,
     "metadata": {},
     "output_type": "execute_result"
    }
   ],
   "source": [
    "#percentage of null values\n",
    "data.isnull().sum()*100/len(data)"
   ]
  },
  {
   "cell_type": "code",
   "execution_count": 46,
   "id": "d271897f",
   "metadata": {},
   "outputs": [],
   "source": [
    "#Removing Columns with high null values except Lead Quality \n",
    "data = data.drop(['Asymmetrique Activity Index','Asymmetrique Profile Index','Asymmetrique Activity Score','Asymmetrique Activity Score'],axis=1)"
   ]
  },
  {
   "cell_type": "code",
   "execution_count": 29,
   "id": "02f2aabc",
   "metadata": {},
   "outputs": [
    {
     "data": {
      "text/plain": [
       "Might be             1560\n",
       "Not Sure             1092\n",
       "High in Relevance     637\n",
       "Worst                 601\n",
       "Low in Relevance      583\n",
       "Name: Lead Quality, dtype: int64"
      ]
     },
     "execution_count": 29,
     "metadata": {},
     "output_type": "execute_result"
    }
   ],
   "source": [
    "data['Lead Quality'].value_counts()"
   ]
  },
  {
   "cell_type": "code",
   "execution_count": 47,
   "id": "7aa8bfa4",
   "metadata": {},
   "outputs": [],
   "source": [
    "#Label the missing values with 'Not mentioned'\n",
    "data['Lead Quality'] = data['Lead Quality'].fillna('Not mentioned')"
   ]
  },
  {
   "cell_type": "code",
   "execution_count": 5,
   "id": "ca02ff21",
   "metadata": {},
   "outputs": [
    {
     "data": {
      "text/plain": [
       "Not mentioned        4767\n",
       "Might be             1560\n",
       "Not Sure             1092\n",
       "High in Relevance     637\n",
       "Worst                 601\n",
       "Low in Relevance      583\n",
       "Name: Lead Quality, dtype: int64"
      ]
     },
     "execution_count": 5,
     "metadata": {},
     "output_type": "execute_result"
    }
   ],
   "source": [
    "data['Lead Quality'].value_counts()"
   ]
  },
  {
   "cell_type": "code",
   "execution_count": 33,
   "id": "3b91694d",
   "metadata": {},
   "outputs": [
    {
     "data": {
      "text/plain": [
       "Mumbai                         3222\n",
       "Select                         2249\n",
       "Thane & Outskirts               752\n",
       "Other Cities                    686\n",
       "Other Cities of Maharashtra     457\n",
       "Other Metro Cities              380\n",
       "Tier II Cities                   74\n",
       "Name: City, dtype: int64"
      ]
     },
     "execution_count": 33,
     "metadata": {},
     "output_type": "execute_result"
    }
   ],
   "source": [
    "data['City'].value_counts()"
   ]
  },
  {
   "cell_type": "code",
   "execution_count": 7,
   "id": "78494a3a",
   "metadata": {},
   "outputs": [
    {
     "data": {
      "text/plain": [
       "Google               2868\n",
       "Direct Traffic       2543\n",
       "Olark Chat           1755\n",
       "Organic Search       1154\n",
       "Reference             534\n",
       "Welingak Website      142\n",
       "Referral Sites        125\n",
       "Facebook               55\n",
       "bing                    6\n",
       "google                  5\n",
       "Click2call              4\n",
       "Press_Release           2\n",
       "Social Media            2\n",
       "Live Chat               2\n",
       "youtubechannel          1\n",
       "testone                 1\n",
       "Pay per Click Ads       1\n",
       "welearnblog_Home        1\n",
       "WeLearn                 1\n",
       "blog                    1\n",
       "NC_EDM                  1\n",
       "Name: Lead Source, dtype: int64"
      ]
     },
     "execution_count": 7,
     "metadata": {},
     "output_type": "execute_result"
    }
   ],
   "source": [
    "data['Lead Source'].value_counts()"
   ]
  },
  {
   "cell_type": "code",
   "execution_count": 48,
   "id": "562e36b5",
   "metadata": {},
   "outputs": [],
   "source": [
    "#Converting the dataset into lowercase\n",
    "data = data.applymap(lambda s:s.lower() if type(s) == str else s)"
   ]
  },
  {
   "cell_type": "code",
   "execution_count": 49,
   "id": "f16fbbfa",
   "metadata": {},
   "outputs": [],
   "source": [
    "#Grouping labels with low count as 'Others'\n",
    "data['Lead Source'] = np.where((data['Lead Source'] == 'google') | (data['Lead Source'] == 'direct traffic') |(data['Lead Source'] == 'olark chat') | (data['Lead Source'] == 'organic search') | (data['Lead Source'] == 'reference') | (data['Lead Source'] == 'welingak website') | (data['Lead Source'] == 'referral sites') | (data['Lead Source'] == 'facebook'), data['Lead Source'], 'others')"
   ]
  },
  {
   "cell_type": "code",
   "execution_count": 67,
   "id": "75d71094",
   "metadata": {},
   "outputs": [
    {
     "data": {
      "text/plain": [
       "landing page submission    4886\n",
       "api                        3580\n",
       "lead add form               718\n",
       "lead import                  55\n",
       "quick add form                1\n",
       "Name: Lead Origin, dtype: int64"
      ]
     },
     "execution_count": 67,
     "metadata": {},
     "output_type": "execute_result"
    }
   ],
   "source": [
    "#Frequency of the series(column label)\n",
    "data['Lead Origin'].value_counts()"
   ]
  },
  {
   "cell_type": "code",
   "execution_count": 7,
   "id": "05f876e6",
   "metadata": {},
   "outputs": [
    {
     "data": {
      "text/plain": [
       "select                               1942\n",
       "finance management                    976\n",
       "human resource management             848\n",
       "marketing management                  838\n",
       "operations management                 503\n",
       "business administration               403\n",
       "it projects management                366\n",
       "supply chain management               349\n",
       "banking, investment and insurance     338\n",
       "travel and tourism                    203\n",
       "media and advertising                 203\n",
       "international business                178\n",
       "healthcare management                 159\n",
       "hospitality management                114\n",
       "e-commerce                            112\n",
       "retail management                     100\n",
       "rural and agribusiness                 73\n",
       "e-business                             57\n",
       "services excellence                    40\n",
       "Name: Specialization, dtype: int64"
      ]
     },
     "execution_count": 7,
     "metadata": {},
     "output_type": "execute_result"
    }
   ],
   "source": [
    "##Frequency of the series(column label)\n",
    "data['Specialization'].value_counts()"
   ]
  },
  {
   "cell_type": "code",
   "execution_count": 50,
   "id": "40729a56",
   "metadata": {},
   "outputs": [],
   "source": [
    "#combining Management Specializations because they show similar trends\n",
    "\n",
    "data['Specialization'] = data['Specialization'].replace(['finance management','human resource management',\n",
    "                                                           'marketing management','operations management',\n",
    "                                                           'it projects management','supply chain management',\n",
    "                                                    'healthcare management','hospitality management',\n",
    "                                                           'retail management'] ,'management specializations')"
   ]
  },
  {
   "cell_type": "code",
   "execution_count": 50,
   "id": "78b9cbe4",
   "metadata": {},
   "outputs": [
    {
     "data": {
      "text/plain": [
       "no     8506\n",
       "yes     734\n",
       "Name: Do Not Email, dtype: int64"
      ]
     },
     "execution_count": 50,
     "metadata": {},
     "output_type": "execute_result"
    }
   ],
   "source": [
    "#Frequency of the series(column label)\n",
    "data['Do Not Email'].value_counts()"
   ]
  },
  {
   "cell_type": "code",
   "execution_count": 51,
   "id": "e15b03d9",
   "metadata": {},
   "outputs": [
    {
     "data": {
      "text/plain": [
       "Prospect ID                                         0\n",
       "Lead Number                                         0\n",
       "Lead Origin                                         0\n",
       "Lead Source                                        36\n",
       "Do Not Email                                        0\n",
       "Do Not Call                                         0\n",
       "Converted                                           0\n",
       "TotalVisits                                       137\n",
       "Total Time Spent on Website                         0\n",
       "Page Views Per Visit                              137\n",
       "Last Activity                                     103\n",
       "Country                                          2461\n",
       "Specialization                                   1438\n",
       "How did you hear about X Education               2207\n",
       "What is your current occupation                  2690\n",
       "What matters most to you in choosing a course    2709\n",
       "Search                                              0\n",
       "Magazine                                            0\n",
       "Newspaper Article                                   0\n",
       "X Education Forums                                  0\n",
       "Newspaper                                           0\n",
       "Digital Advertisement                               0\n",
       "Through Recommendations                             0\n",
       "Receive More Updates About Our Courses              0\n",
       "Tags                                             3353\n",
       "Lead Quality                                        0\n",
       "Update me on Supply Chain Content                   0\n",
       "Get updates on DM Content                           0\n",
       "Lead Profile                                     2709\n",
       "City                                             1420\n",
       "Asymmetrique Profile Score                       4218\n",
       "I agree to pay the amount through cheque            0\n",
       "A free copy of Mastering The Interview              0\n",
       "Last Notable Activity                               0\n",
       "dtype: int64"
      ]
     },
     "execution_count": 51,
     "metadata": {},
     "output_type": "execute_result"
    }
   ],
   "source": [
    "#Checking the count of null values across the columns\n",
    "data.isnull().sum()"
   ]
  },
  {
   "cell_type": "code",
   "execution_count": 52,
   "id": "7b568ac0",
   "metadata": {},
   "outputs": [
    {
     "data": {
      "text/plain": [
       "select                         4146\n",
       "potential lead                 1613\n",
       "other leads                     487\n",
       "student of someschool           241\n",
       "lateral student                  24\n",
       "dual specialization student      20\n",
       "Name: Lead Profile, dtype: int64"
      ]
     },
     "execution_count": 52,
     "metadata": {},
     "output_type": "execute_result"
    }
   ],
   "source": [
    "#Frequency of the series(column label)\n",
    "data['Lead Profile'].value_counts()"
   ]
  },
  {
   "cell_type": "code",
   "execution_count": 53,
   "id": "5d8d25a0",
   "metadata": {},
   "outputs": [
    {
     "data": {
      "text/plain": [
       "mumbai                         3222\n",
       "select                         2249\n",
       "thane & outskirts               752\n",
       "other cities                    686\n",
       "other cities of maharashtra     457\n",
       "other metro cities              380\n",
       "tier ii cities                   74\n",
       "Name: City, dtype: int64"
      ]
     },
     "execution_count": 53,
     "metadata": {},
     "output_type": "execute_result"
    }
   ],
   "source": [
    "#Frequency of the series(column label)\n",
    "data['City'].value_counts()"
   ]
  },
  {
   "cell_type": "code",
   "execution_count": 51,
   "id": "09078674",
   "metadata": {},
   "outputs": [],
   "source": [
    "# Replacing 'select' with NaN (Since it means no option is selected)\n",
    "data = data.replace('select',np.nan)"
   ]
  },
  {
   "cell_type": "code",
   "execution_count": 55,
   "id": "8b82d8a3",
   "metadata": {},
   "outputs": [
    {
     "data": {
      "text/plain": [
       "Prospect ID                                      9240\n",
       "Lead Number                                      9240\n",
       "Lead Origin                                         5\n",
       "Lead Source                                        20\n",
       "Do Not Email                                        2\n",
       "Do Not Call                                         2\n",
       "Converted                                           2\n",
       "TotalVisits                                        41\n",
       "Total Time Spent on Website                      1731\n",
       "Page Views Per Visit                              114\n",
       "Last Activity                                      17\n",
       "Country                                            38\n",
       "Specialization                                     18\n",
       "How did you hear about X Education                  9\n",
       "What is your current occupation                     6\n",
       "What matters most to you in choosing a course       3\n",
       "Search                                              2\n",
       "Magazine                                            1\n",
       "Newspaper Article                                   2\n",
       "X Education Forums                                  2\n",
       "Newspaper                                           2\n",
       "Digital Advertisement                               2\n",
       "Through Recommendations                             2\n",
       "Receive More Updates About Our Courses              1\n",
       "Tags                                               26\n",
       "Lead Quality                                        6\n",
       "Update me on Supply Chain Content                   1\n",
       "Get updates on DM Content                           1\n",
       "Lead Profile                                        5\n",
       "City                                                6\n",
       "Asymmetrique Profile Score                         10\n",
       "I agree to pay the amount through cheque            1\n",
       "A free copy of Mastering The Interview              2\n",
       "Last Notable Activity                              16\n",
       "dtype: int64"
      ]
     },
     "execution_count": 55,
     "metadata": {},
     "output_type": "execute_result"
    }
   ],
   "source": [
    "#Check for unique values across the columns\n",
    "data.nunique()"
   ]
  },
  {
   "cell_type": "code",
   "execution_count": 52,
   "id": "f669f8a6",
   "metadata": {},
   "outputs": [],
   "source": [
    "#Dropping unique valued columns\n",
    "data = data.drop(['Magazine','Receive More Updates About Our Courses','Receive More Updates About Our Courses','Get updates on DM Content','I agree to pay the amount through cheque'],axis=1)"
   ]
  },
  {
   "cell_type": "code",
   "execution_count": 57,
   "id": "6c8fc4a9",
   "metadata": {},
   "outputs": [
    {
     "data": {
      "text/plain": [
       "Prospect ID                                       0.000000\n",
       "Lead Number                                       0.000000\n",
       "Lead Origin                                       0.000000\n",
       "Lead Source                                       0.389610\n",
       "Do Not Email                                      0.000000\n",
       "Do Not Call                                       0.000000\n",
       "Converted                                         0.000000\n",
       "TotalVisits                                       1.482684\n",
       "Total Time Spent on Website                       0.000000\n",
       "Page Views Per Visit                              1.482684\n",
       "Last Activity                                     1.114719\n",
       "Country                                          26.634199\n",
       "Specialization                                   36.580087\n",
       "How did you hear about X Education               78.463203\n",
       "What is your current occupation                  29.112554\n",
       "What matters most to you in choosing a course    29.318182\n",
       "Search                                            0.000000\n",
       "Newspaper Article                                 0.000000\n",
       "X Education Forums                                0.000000\n",
       "Newspaper                                         0.000000\n",
       "Digital Advertisement                             0.000000\n",
       "Through Recommendations                           0.000000\n",
       "Tags                                             36.287879\n",
       "Lead Quality                                      0.000000\n",
       "Update me on Supply Chain Content                 0.000000\n",
       "Lead Profile                                     74.188312\n",
       "City                                             39.707792\n",
       "Asymmetrique Profile Score                       45.649351\n",
       "A free copy of Mastering The Interview            0.000000\n",
       "Last Notable Activity                             0.000000\n",
       "dtype: float64"
      ]
     },
     "execution_count": 57,
     "metadata": {},
     "output_type": "execute_result"
    }
   ],
   "source": [
    "#Checking the null value percentage so far\n",
    "data.isnull().sum()*100/len(data)"
   ]
  },
  {
   "cell_type": "code",
   "execution_count": 58,
   "id": "b135dda9",
   "metadata": {},
   "outputs": [
    {
     "data": {
      "text/plain": [
       "potential lead                 1613\n",
       "other leads                     487\n",
       "student of someschool           241\n",
       "lateral student                  24\n",
       "dual specialization student      20\n",
       "Name: Lead Profile, dtype: int64"
      ]
     },
     "execution_count": 58,
     "metadata": {},
     "output_type": "execute_result"
    }
   ],
   "source": [
    "#Frequency of the series(column label)\n",
    "data['Lead Profile'].value_counts()"
   ]
  },
  {
   "cell_type": "code",
   "execution_count": 53,
   "id": "0258f4b4",
   "metadata": {},
   "outputs": [],
   "source": [
    "#Dropping Lead Profile column with 74.188312% null values\n",
    "data = data.drop(['Lead Profile'], axis=1)"
   ]
  },
  {
   "cell_type": "code",
   "execution_count": 59,
   "id": "10d3ecf7",
   "metadata": {},
   "outputs": [
    {
     "data": {
      "text/plain": [
       "15.0    1759\n",
       "18.0    1071\n",
       "16.0     599\n",
       "17.0     579\n",
       "20.0     308\n",
       "19.0     245\n",
       "14.0     226\n",
       "13.0     204\n",
       "12.0      22\n",
       "11.0       9\n",
       "Name: Asymmetrique Profile Score, dtype: int64"
      ]
     },
     "execution_count": 59,
     "metadata": {},
     "output_type": "execute_result"
    }
   ],
   "source": [
    "#Frequency of the series(column label)\n",
    "data['Asymmetrique Profile Score'].value_counts()"
   ]
  },
  {
   "cell_type": "code",
   "execution_count": 60,
   "id": "cc580bcf",
   "metadata": {},
   "outputs": [
    {
     "data": {
      "text/plain": [
       "16.0"
      ]
     },
     "execution_count": 60,
     "metadata": {},
     "output_type": "execute_result"
    }
   ],
   "source": [
    "data['Asymmetrique Profile Score'].median()"
   ]
  },
  {
   "cell_type": "code",
   "execution_count": 61,
   "id": "63881c0e",
   "metadata": {},
   "outputs": [
    {
     "data": {
      "text/plain": [
       "4218"
      ]
     },
     "execution_count": 61,
     "metadata": {},
     "output_type": "execute_result"
    }
   ],
   "source": [
    "data['Asymmetrique Profile Score'].isnull().sum()"
   ]
  },
  {
   "cell_type": "code",
   "execution_count": 54,
   "id": "ecbf3834",
   "metadata": {},
   "outputs": [],
   "source": [
    "#Dropping it with 45%+ null values\n",
    "data = data.drop(['Asymmetrique Profile Score'], axis=1)"
   ]
  },
  {
   "cell_type": "code",
   "execution_count": 62,
   "id": "50f3c98a",
   "metadata": {},
   "outputs": [
    {
     "data": {
      "text/plain": [
       "will revert after reading the email                  2072\n",
       "ringing                                              1203\n",
       "interested in other courses                           513\n",
       "already a student                                     465\n",
       "closed by horizzon                                    358\n",
       "switched off                                          240\n",
       "busy                                                  186\n",
       "lost to eins                                          175\n",
       "not doing further education                           145\n",
       "interested  in full time mba                          117\n",
       "graduation in progress                                111\n",
       "invalid number                                         83\n",
       "diploma holder (not eligible)                          63\n",
       "wrong number given                                     47\n",
       "opp hangup                                             33\n",
       "number not provided                                    27\n",
       "in touch with eins                                     12\n",
       "lost to others                                          7\n",
       "still thinking                                          6\n",
       "want to take admission but has financial problems       6\n",
       "in confusion whether part time or dlp                   5\n",
       "interested in next batch                                5\n",
       "lateral student                                         3\n",
       "shall take in the next coming month                     2\n",
       "university not recognized                               2\n",
       "recognition issue (dec approval)                        1\n",
       "Name: Tags, dtype: int64"
      ]
     },
     "execution_count": 62,
     "metadata": {},
     "output_type": "execute_result"
    }
   ],
   "source": [
    "#Frequency of the series(column label)\n",
    "data['Tags'].value_counts()"
   ]
  },
  {
   "cell_type": "code",
   "execution_count": 55,
   "id": "99a9867a",
   "metadata": {},
   "outputs": [],
   "source": [
    "#replacing Nan values with \"Not Specified\"\n",
    "data['Tags'] = data['Tags'].fillna('not specified')"
   ]
  },
  {
   "cell_type": "code",
   "execution_count": 56,
   "id": "38d37920",
   "metadata": {},
   "outputs": [],
   "source": [
    "#replacing tags with low frequency with \"Other Tags\"\n",
    "data['Tags'] = data['Tags'].replace(['in confusion whether part time or dlp', 'in touch with eins','diploma holder (not eligible)',\n",
    "                                     'approached upfront','graduation in progress','number not provided', 'opp hangup','still thinking',\n",
    "                                    'lost to others','shall take in the next coming month','lateral student','interested in next batch',\n",
    "                                    'recognition issue (dec approval)','want to take admission but has financial problems',\n",
    "                                    'university not recognized','switched off',\n",
    "                                      'already a student',\n",
    "                                       'not doing further education',\n",
    "                                       'invalid number',\n",
    "                                       'wrong number given',\n",
    "                                       'interested  in full time mba'], 'other tags')"
   ]
  },
  {
   "cell_type": "code",
   "execution_count": 9,
   "id": "9e92abf8",
   "metadata": {},
   "outputs": [
    {
     "data": {
      "text/plain": [
       "select                   5043\n",
       "online search             808\n",
       "word of mouth             348\n",
       "student of someschool     310\n",
       "other                     186\n",
       "multiple sources          152\n",
       "advertisements             70\n",
       "social media               67\n",
       "email                      26\n",
       "sms                        23\n",
       "Name: How did you hear about X Education, dtype: int64"
      ]
     },
     "execution_count": 9,
     "metadata": {},
     "output_type": "execute_result"
    }
   ],
   "source": [
    "data['How did you hear about X Education'].value_counts()"
   ]
  },
  {
   "cell_type": "code",
   "execution_count": 57,
   "id": "01ba403c",
   "metadata": {},
   "outputs": [],
   "source": [
    "#having 78%+ missing values. So, decided to drop it\n",
    "data = data.drop(['How did you hear about X Education'], axis=1)"
   ]
  },
  {
   "cell_type": "code",
   "execution_count": 42,
   "id": "def4290e",
   "metadata": {},
   "outputs": [
    {
     "data": {
      "text/plain": [
       "2461"
      ]
     },
     "execution_count": 42,
     "metadata": {},
     "output_type": "execute_result"
    }
   ],
   "source": [
    "data['Country'].isnull().sum()"
   ]
  },
  {
   "cell_type": "code",
   "execution_count": 58,
   "id": "ec8bed9c",
   "metadata": {},
   "outputs": [],
   "source": [
    "#replacing Nan values with \"not mentioned\"\n",
    "data['Country'] = data['Country'].fillna('not mentioned')"
   ]
  },
  {
   "cell_type": "code",
   "execution_count": 10,
   "id": "9565e9dd",
   "metadata": {},
   "outputs": [
    {
     "data": {
      "text/plain": [
       "india                   6492\n",
       "united states             69\n",
       "united arab emirates      53\n",
       "singapore                 24\n",
       "saudi arabia              21\n",
       "united kingdom            15\n",
       "australia                 13\n",
       "qatar                     10\n",
       "hong kong                  7\n",
       "bahrain                    7\n",
       "oman                       6\n",
       "france                     6\n",
       "unknown                    5\n",
       "south africa               4\n",
       "nigeria                    4\n",
       "germany                    4\n",
       "kuwait                     4\n",
       "canada                     4\n",
       "sweden                     3\n",
       "china                      2\n",
       "asia/pacific region        2\n",
       "uganda                     2\n",
       "bangladesh                 2\n",
       "italy                      2\n",
       "belgium                    2\n",
       "netherlands                2\n",
       "ghana                      2\n",
       "philippines                2\n",
       "russia                     1\n",
       "switzerland                1\n",
       "vietnam                    1\n",
       "denmark                    1\n",
       "tanzania                   1\n",
       "liberia                    1\n",
       "malaysia                   1\n",
       "kenya                      1\n",
       "sri lanka                  1\n",
       "indonesia                  1\n",
       "Name: Country, dtype: int64"
      ]
     },
     "execution_count": 10,
     "metadata": {},
     "output_type": "execute_result"
    }
   ],
   "source": [
    "#Frequency of the series(column label)\n",
    "data['Country'].value_counts()"
   ]
  },
  {
   "cell_type": "code",
   "execution_count": 59,
   "id": "dd0f5593",
   "metadata": {},
   "outputs": [],
   "source": [
    "#grouping low frequency levels with 'others'\n",
    "data['Country'] = np.where((data['Country'] == 'india') | (data['Country'] == 'united states') |(data['Country'] == 'not mentioned'), data['Country'], 'others')"
   ]
  },
  {
   "cell_type": "code",
   "execution_count": 18,
   "id": "a8142e1e",
   "metadata": {},
   "outputs": [
    {
     "data": {
      "text/plain": [
       "india            6492\n",
       "not mentioned    2461\n",
       "others            218\n",
       "united states      69\n",
       "Name: Country, dtype: int64"
      ]
     },
     "execution_count": 18,
     "metadata": {},
     "output_type": "execute_result"
    }
   ],
   "source": [
    "data['Country'].value_counts()"
   ]
  },
  {
   "cell_type": "code",
   "execution_count": 11,
   "id": "2beb5a4a",
   "metadata": {},
   "outputs": [
    {
     "data": {
      "text/plain": [
       "select                               1942\n",
       "finance management                    976\n",
       "human resource management             848\n",
       "marketing management                  838\n",
       "operations management                 503\n",
       "business administration               403\n",
       "it projects management                366\n",
       "supply chain management               349\n",
       "banking, investment and insurance     338\n",
       "travel and tourism                    203\n",
       "media and advertising                 203\n",
       "international business                178\n",
       "healthcare management                 159\n",
       "hospitality management                114\n",
       "e-commerce                            112\n",
       "retail management                     100\n",
       "rural and agribusiness                 73\n",
       "e-business                             57\n",
       "services excellence                    40\n",
       "Name: Specialization, dtype: int64"
      ]
     },
     "execution_count": 11,
     "metadata": {},
     "output_type": "execute_result"
    }
   ],
   "source": [
    "#Frequency of the series(column label)\n",
    "data['Specialization'].value_counts()"
   ]
  },
  {
   "cell_type": "code",
   "execution_count": 60,
   "id": "32fae74e",
   "metadata": {},
   "outputs": [],
   "source": [
    "#replace 'select' with NaN as done before\n",
    "data['Specialization'] = data['Specialization'].replace('select',np.nan)"
   ]
  },
  {
   "cell_type": "code",
   "execution_count": 61,
   "id": "b33825cf",
   "metadata": {},
   "outputs": [],
   "source": [
    "#fill na values with 'not mentioned'\n",
    "data['Specialization'] = data['Specialization'].fillna('not mentioned')"
   ]
  },
  {
   "cell_type": "code",
   "execution_count": 21,
   "id": "2cf707e7",
   "metadata": {},
   "outputs": [
    {
     "data": {
      "text/plain": [
       "0"
      ]
     },
     "execution_count": 21,
     "metadata": {},
     "output_type": "execute_result"
    }
   ],
   "source": [
    "data['Specialization'].isnull().sum()"
   ]
  },
  {
   "cell_type": "code",
   "execution_count": 12,
   "id": "80bd366b",
   "metadata": {},
   "outputs": [
    {
     "data": {
      "text/plain": [
       "unemployed              5600\n",
       "working professional     706\n",
       "student                  210\n",
       "other                     16\n",
       "housewife                 10\n",
       "businessman                8\n",
       "Name: What is your current occupation, dtype: int64"
      ]
     },
     "execution_count": 12,
     "metadata": {},
     "output_type": "execute_result"
    }
   ],
   "source": [
    "data['What is your current occupation'].value_counts()"
   ]
  },
  {
   "cell_type": "code",
   "execution_count": 13,
   "id": "4aed8063",
   "metadata": {},
   "outputs": [
    {
     "data": {
      "text/plain": [
       "better career prospects      6528\n",
       "flexibility & convenience       2\n",
       "other                           1\n",
       "Name: What matters most to you in choosing a course, dtype: int64"
      ]
     },
     "execution_count": 13,
     "metadata": {},
     "output_type": "execute_result"
    }
   ],
   "source": [
    "data['What matters most to you in choosing a course'].value_counts()"
   ]
  },
  {
   "cell_type": "code",
   "execution_count": 62,
   "id": "d9637486",
   "metadata": {},
   "outputs": [],
   "source": [
    "#Having excess missing values \n",
    "data = data.drop(['What matters most to you in choosing a course'], axis=1)"
   ]
  },
  {
   "cell_type": "code",
   "execution_count": 50,
   "id": "5f98e8eb",
   "metadata": {},
   "outputs": [
    {
     "data": {
      "text/plain": [
       "Prospect ID                                  0\n",
       "Lead Number                                  0\n",
       "Lead Origin                                  0\n",
       "Lead Source                                 36\n",
       "Do Not Email                                 0\n",
       "Do Not Call                                  0\n",
       "Converted                                    0\n",
       "TotalVisits                                137\n",
       "Total Time Spent on Website                  0\n",
       "Page Views Per Visit                       137\n",
       "Last Activity                              103\n",
       "Country                                      0\n",
       "Specialization                               0\n",
       "What is your current occupation           2690\n",
       "Search                                       0\n",
       "Newspaper Article                            0\n",
       "X Education Forums                           0\n",
       "Newspaper                                    0\n",
       "Digital Advertisement                        0\n",
       "Through Recommendations                      0\n",
       "Lead Quality                                 0\n",
       "Update me on Supply Chain Content            0\n",
       "Lead Profile                                 0\n",
       "City                                      3669\n",
       "A free copy of Mastering The Interview       0\n",
       "Last Notable Activity                        0\n",
       "dtype: int64"
      ]
     },
     "execution_count": 50,
     "metadata": {},
     "output_type": "execute_result"
    }
   ],
   "source": [
    "data.isnull().sum()"
   ]
  },
  {
   "cell_type": "code",
   "execution_count": 63,
   "id": "cbfb0d51",
   "metadata": {},
   "outputs": [],
   "source": [
    "#Filled NA values with not mentioned\n",
    "data['City'] = data['City'].fillna('not mentioned')"
   ]
  },
  {
   "cell_type": "code",
   "execution_count": 64,
   "id": "a7c263f9",
   "metadata": {},
   "outputs": [],
   "source": [
    "##Filled NA values with not mentioned\n",
    "data['What is your current occupation'] = data['What is your current occupation'].fillna('not mentioned')"
   ]
  },
  {
   "cell_type": "code",
   "execution_count": 65,
   "id": "34516055",
   "metadata": {},
   "outputs": [],
   "source": [
    "#Imputed missing values with Mode\n",
    "data['Lead Source'] = data['Lead Source'].fillna(data['Lead Source'].mode()[0])\n",
    "data['Last Activity'] = data['Last Activity'].fillna(data['Last Activity'].mode()[0])"
   ]
  },
  {
   "cell_type": "code",
   "execution_count": 66,
   "id": "9a95764e",
   "metadata": {},
   "outputs": [],
   "source": [
    "##Imputed missing values with Median\n",
    "data['TotalVisits'] = data['TotalVisits'].fillna(data['TotalVisits'].median())\n",
    "data['Page Views Per Visit'] = data['Page Views Per Visit'].fillna(data['Page Views Per Visit'].median())"
   ]
  },
  {
   "cell_type": "code",
   "execution_count": 24,
   "id": "af10983d",
   "metadata": {},
   "outputs": [
    {
     "data": {
      "text/plain": [
       "Prospect ID                               0\n",
       "Lead Number                               0\n",
       "Lead Origin                               0\n",
       "Lead Source                               0\n",
       "Do Not Email                              0\n",
       "Do Not Call                               0\n",
       "Converted                                 0\n",
       "TotalVisits                               0\n",
       "Total Time Spent on Website               0\n",
       "Page Views Per Visit                      0\n",
       "Last Activity                             0\n",
       "Country                                   0\n",
       "Specialization                            0\n",
       "What is your current occupation           0\n",
       "Search                                    0\n",
       "Newspaper Article                         0\n",
       "X Education Forums                        0\n",
       "Newspaper                                 0\n",
       "Digital Advertisement                     0\n",
       "Through Recommendations                   0\n",
       "Tags                                      0\n",
       "Lead Quality                              0\n",
       "Update me on Supply Chain Content         0\n",
       "City                                      0\n",
       "A free copy of Mastering The Interview    0\n",
       "Last Notable Activity                     0\n",
       "dtype: int64"
      ]
     },
     "execution_count": 24,
     "metadata": {},
     "output_type": "execute_result"
    }
   ],
   "source": [
    "data.isnull().sum()"
   ]
  },
  {
   "cell_type": "code",
   "execution_count": 25,
   "id": "a98c5c05",
   "metadata": {},
   "outputs": [
    {
     "data": {
      "text/plain": [
       "(9240, 26)"
      ]
     },
     "execution_count": 25,
     "metadata": {},
     "output_type": "execute_result"
    }
   ],
   "source": [
    "#Checking for the shape of the dataset\n",
    "data.shape"
   ]
  },
  {
   "cell_type": "code",
   "execution_count": 26,
   "id": "d1444659",
   "metadata": {},
   "outputs": [],
   "source": [
    "#Backing the data for future use\n",
    "reserve_data = data.copy()"
   ]
  },
  {
   "cell_type": "code",
   "execution_count": 67,
   "id": "ac1d9d56",
   "metadata": {},
   "outputs": [],
   "source": [
    "#Discarded unnecessary columns\n",
    "data = data.drop(['Prospect ID','Lead Number','Update me on Supply Chain Content'], axis=1)"
   ]
  },
  {
   "cell_type": "markdown",
   "id": "215e9988",
   "metadata": {},
   "source": [
    "**Univariate and Bivariate Analysis**"
   ]
  },
  {
   "cell_type": "code",
   "execution_count": 31,
   "id": "f0bdbb7b",
   "metadata": {},
   "outputs": [],
   "source": [
    "import matplotlib.pyplot as plt\n",
    "import seaborn as sns"
   ]
  },
  {
   "cell_type": "code",
   "execution_count": 40,
   "id": "d780d3e2",
   "metadata": {},
   "outputs": [
    {
     "data": {
      "image/png": "[encoded data removed]",
      "text/plain": [
       "<Figure size 1080x360 with 1 Axes>"
      ]
     },
     "metadata": {
      "needs_background": "light"
     },
     "output_type": "display_data"
    }
   ],
   "source": [
    "#plotting spread of Country columnn \n",
    "plt.figure(figsize=(15,5))\n",
    "ax=sns.countplot(data.Country, hue=data.Converted)\n",
    "ax.set_xticklabels(s1.get_xticklabels())\n",
    "plt.show()"
   ]
  },
  {
   "cell_type": "markdown",
   "id": "9132fb51",
   "metadata": {},
   "source": [
    "Observation: As we can see converting ratio is higher than the all other countries"
   ]
  },
  {
   "cell_type": "code",
   "execution_count": 42,
   "id": "b5498ee7",
   "metadata": {},
   "outputs": [
    {
     "data": {
      "image/png": "[encoded data removed]",
      "text/plain": [
       "<Figure size 1080x360 with 1 Axes>"
      ]
     },
     "metadata": {
      "needs_background": "light"
     },
     "output_type": "display_data"
    }
   ],
   "source": [
    "#plotting spread of City columnn \n",
    "plt.figure(figsize=(15,5))\n",
    "ax=sns.countplot(data.City, hue=data.Converted)\n",
    "plt.show()"
   ]
  },
  {
   "cell_type": "markdown",
   "id": "65eae932",
   "metadata": {},
   "source": [
    "Observation: City Bombay and Not mentioned category are having higher conversion rate in India"
   ]
  },
  {
   "cell_type": "code",
   "execution_count": 48,
   "id": "3ac9c27f",
   "metadata": {},
   "outputs": [
    {
     "data": {
      "image/png": "[encoded data removed]",
      "text/plain": [
       "<Figure size 1080x360 with 1 Axes>"
      ]
     },
     "metadata": {
      "needs_background": "light"
     },
     "output_type": "display_data"
    }
   ],
   "source": [
    "#plotting spread of Specialization columnn \n",
    "plt.figure(figsize=(15,5))\n",
    "s1=sns.countplot(data.Specialization, hue=data.Converted)\n",
    "s1.set_xticklabels(s1.get_xticklabels(),rotation=60)\n",
    "plt.show()"
   ]
  },
  {
   "cell_type": "markdown",
   "id": "bd89d1d3",
   "metadata": {},
   "source": [
    "Observation: Management Specialization is having high conversion rate"
   ]
  },
  {
   "cell_type": "code",
   "execution_count": 53,
   "id": "f15097f1",
   "metadata": {},
   "outputs": [
    {
     "data": {
      "image/png": "[encoded data removed]",
      "text/plain": [
       "<Figure size 864x432 with 1 Axes>"
      ]
     },
     "metadata": {
      "needs_background": "light"
     },
     "output_type": "display_data"
    }
   ],
   "source": [
    "#visualizing count of Variable based on Converted value\n",
    "plt.figure(figsize=(12,6))\n",
    "s1=sns.countplot(data['What is your current occupation'], hue=data.Converted)\n",
    "s1.set_xticklabels(s1.get_xticklabels())\n",
    "plt.show()"
   ]
  },
  {
   "cell_type": "markdown",
   "id": "26898109",
   "metadata": {},
   "source": [
    "Unemployed candidates are having higher conversion rate among all the categories "
   ]
  },
  {
   "cell_type": "code",
   "execution_count": 55,
   "id": "2b945c02",
   "metadata": {},
   "outputs": [
    {
     "data": {
      "image/png": "[encoded data removed]",
      "text/plain": [
       "<Figure size 1080x360 with 1 Axes>"
      ]
     },
     "metadata": {
      "needs_background": "light"
     },
     "output_type": "display_data"
    }
   ],
   "source": [
    "# visualizing count of Variable based on Converted value\n",
    "plt.figure(figsize=(15,5))\n",
    "s1=sns.countplot(data['Lead Source'], hue=data.Converted)\n",
    "s1.set_xticklabels(s1.get_xticklabels())\n",
    "plt.show()"
   ]
  },
  {
   "cell_type": "markdown",
   "id": "5426f087",
   "metadata": {},
   "source": [
    "Inference\n",
    "Maximum number of leads are generated by Google and Direct traffic.\n",
    "Conversion Rate of reference leads and leads through welingak website is high.\n",
    "To improve overall lead conversion rate, focus should be on improving lead converion of olark chat, organic search, direct traffic, and google leads and generate more leads from reference and welingak website."
   ]
  },
  {
   "cell_type": "code",
   "execution_count": 56,
   "id": "7865b032",
   "metadata": {},
   "outputs": [
    {
     "data": {
      "image/png": "[encoded data removed]",
      "text/plain": [
       "<Figure size 1080x360 with 2 Axes>"
      ]
     },
     "metadata": {
      "needs_background": "light"
     },
     "output_type": "display_data"
    }
   ],
   "source": [
    "#Do Not Email & Do Not Call\n",
    "#visualizing count of Variable based on Converted value\n",
    "\n",
    "plt.figure(figsize=(15,5))\n",
    "\n",
    "ax1=plt.subplot(1, 2, 1)\n",
    "ax1=sns.countplot(data['Do Not Call'], hue=data.Converted)\n",
    "ax1.set_xticklabels(ax1.get_xticklabels())\n",
    "\n",
    "ax2=plt.subplot(1, 2, 2)\n",
    "ax2=sns.countplot(data['Do Not Email'], hue=data.Converted)\n",
    "ax2.set_xticklabels(ax2.get_xticklabels())\n",
    "plt.show()"
   ]
  },
  {
   "cell_type": "code",
   "execution_count": 61,
   "id": "16770853",
   "metadata": {},
   "outputs": [
    {
     "data": {
      "image/png": "[encoded data removed]",
      "text/plain": [
       "<Figure size 1440x1440 with 3 Axes>"
      ]
     },
     "metadata": {
      "needs_background": "light"
     },
     "output_type": "display_data"
    }
   ],
   "source": [
    "# Now check the conversions for all numeric values\n",
    "plt.figure(figsize=(20,20))\n",
    "plt.subplot(4,3,1)\n",
    "sns.barplot(y = 'TotalVisits', x='Converted', palette='Set1', data = data)\n",
    "plt.subplot(4,3,2)\n",
    "sns.barplot(y = 'Total Time Spent on Website', x='Converted', palette='Set2', data = data)\n",
    "plt.subplot(4,3,3)\n",
    "sns.barplot(y = 'Page Views Per Visit', x='Converted', palette='Set3', data = data)\n",
    "plt.show()"
   ]
  },
  {
   "cell_type": "code",
   "execution_count": 33,
   "id": "e1a4e82a",
   "metadata": {},
   "outputs": [
    {
     "data": {
      "image/png": "[encoded data removed]",
      "text/plain": [
       "<Figure size 432x288 with 1 Axes>"
      ]
     },
     "metadata": {
      "needs_background": "light"
     },
     "output_type": "display_data"
    }
   ],
   "source": [
    "plt.scatter(data['TotalVisits'],data['Page Views Per Visit'])\n",
    "plt.xlabel(\"TotalVisits\")\n",
    "plt.ylabel(\"Page Views Per Visit\")\n",
    "plt.show()"
   ]
  },
  {
   "cell_type": "markdown",
   "id": "2d9b38c9",
   "metadata": {},
   "source": [
    "Scatter plot to see the distribution between Total no of visits and Page views per visits.\n",
    "We have seen the outliers as well as trend."
   ]
  },
  {
   "cell_type": "markdown",
   "id": "fb7cbf2f",
   "metadata": {},
   "source": [
    "**Outlier Treatment**"
   ]
  },
  {
   "cell_type": "code",
   "execution_count": 34,
   "id": "cd2566fd",
   "metadata": {},
   "outputs": [],
   "source": [
    "# seggragating the numeric columns to see the outliers\n",
    "num = ['int16', 'int32', 'int64', 'float16', 'float32', 'float64']\n",
    "outlier_df = data.select_dtypes(include=num)"
   ]
  },
  {
   "cell_type": "code",
   "execution_count": 35,
   "id": "4d675757",
   "metadata": {},
   "outputs": [
    {
     "data": {
      "text/plain": [
       "<Figure size 432x288 with 0 Axes>"
      ]
     },
     "metadata": {},
     "output_type": "display_data"
    },
    {
     "data": {
      "image/png": "[encoded data removed]",
      "text/plain": [
       "<Figure size 144x144 with 1 Axes>"
      ]
     },
     "metadata": {},
     "output_type": "display_data"
    },
    {
     "data": {
      "image/png": "[encoded data removed]",
      "text/plain": [
       "<Figure size 144x144 with 1 Axes>"
      ]
     },
     "metadata": {},
     "output_type": "display_data"
    },
    {
     "data": {
      "image/png": "[encoded data removed]",
      "text/plain": [
       "<Figure size 144x144 with 1 Axes>"
      ]
     },
     "metadata": {},
     "output_type": "display_data"
    },
    {
     "data": {
      "image/png": "[encoded data removed]",
      "text/plain": [
       "<Figure size 144x144 with 1 Axes>"
      ]
     },
     "metadata": {},
     "output_type": "display_data"
    }
   ],
   "source": [
    "#Visulizing the outliers\n",
    "sns.set(style=\"whitegrid\")\n",
    "\n",
    "f = plt.figure()\n",
    "for cols,values in outlier_df.iteritems():\n",
    "    f.suptitle(cols, fontsize=16)\n",
    "    f, ax = plt.subplots(1,1,figsize=(2,2))\n",
    "    outlier_plot = sns.boxplot(outlier_df[cols])\n",
    "    plt.show()"
   ]
  },
  {
   "cell_type": "code",
   "execution_count": 37,
   "id": "6da1c2a6",
   "metadata": {},
   "outputs": [
    {
     "data": {
      "text/html": [
       "<div>\n",
       "<style scoped>\n",
       "    .dataframe tbody tr th:only-of-type {\n",
       "        vertical-align: middle;\n",
       "    }\n",
       "\n",
       "    .dataframe tbody tr th {\n",
       "        vertical-align: top;\n",
       "    }\n",
       "\n",
       "    .dataframe thead th {\n",
       "        text-align: right;\n",
       "    }\n",
       "</style>\n",
       "<table border=\"1\" class=\"dataframe\">\n",
       "  <thead>\n",
       "    <tr style=\"text-align: right;\">\n",
       "      <th></th>\n",
       "      <th>count</th>\n",
       "      <th>mean</th>\n",
       "      <th>std</th>\n",
       "      <th>min</th>\n",
       "      <th>25%</th>\n",
       "      <th>50%</th>\n",
       "      <th>75%</th>\n",
       "      <th>max</th>\n",
       "    </tr>\n",
       "  </thead>\n",
       "  <tbody>\n",
       "    <tr>\n",
       "      <th>TotalVisits</th>\n",
       "      <td>9240.0</td>\n",
       "      <td>3.438636</td>\n",
       "      <td>4.819024</td>\n",
       "      <td>0.0</td>\n",
       "      <td>1.0</td>\n",
       "      <td>3.0</td>\n",
       "      <td>5.0</td>\n",
       "      <td>251.0</td>\n",
       "    </tr>\n",
       "    <tr>\n",
       "      <th>Total Time Spent on Website</th>\n",
       "      <td>9240.0</td>\n",
       "      <td>487.698268</td>\n",
       "      <td>548.021466</td>\n",
       "      <td>0.0</td>\n",
       "      <td>12.0</td>\n",
       "      <td>248.0</td>\n",
       "      <td>936.0</td>\n",
       "      <td>2272.0</td>\n",
       "    </tr>\n",
       "    <tr>\n",
       "      <th>Page Views Per Visit</th>\n",
       "      <td>9240.0</td>\n",
       "      <td>2.357440</td>\n",
       "      <td>2.145781</td>\n",
       "      <td>0.0</td>\n",
       "      <td>1.0</td>\n",
       "      <td>2.0</td>\n",
       "      <td>3.0</td>\n",
       "      <td>55.0</td>\n",
       "    </tr>\n",
       "  </tbody>\n",
       "</table>\n",
       "</div>"
      ],
      "text/plain": [
       "                              count        mean         std  min   25%    50%  \\\n",
       "TotalVisits                  9240.0    3.438636    4.819024  0.0   1.0    3.0   \n",
       "Total Time Spent on Website  9240.0  487.698268  548.021466  0.0  12.0  248.0   \n",
       "Page Views Per Visit         9240.0    2.357440    2.145781  0.0   1.0    2.0   \n",
       "\n",
       "                               75%     max  \n",
       "TotalVisits                    5.0   251.0  \n",
       "Total Time Spent on Website  936.0  2272.0  \n",
       "Page Views Per Visit           3.0    55.0  "
      ]
     },
     "execution_count": 37,
     "metadata": {},
     "output_type": "execute_result"
    }
   ],
   "source": [
    "data[['TotalVisits', 'Total Time Spent on Website' , 'Page Views Per Visit']].describe().T"
   ]
  },
  {
   "cell_type": "code",
   "execution_count": 68,
   "id": "2343ec8f",
   "metadata": {},
   "outputs": [
    {
     "data": {
      "text/plain": [
       "count    9120.000000\n",
       "mean        2.241274\n",
       "std         1.828670\n",
       "min         0.000000\n",
       "25%         1.000000\n",
       "50%         2.000000\n",
       "75%         3.000000\n",
       "90%         5.000000\n",
       "95%         6.000000\n",
       "99%         7.000000\n",
       "max         8.500000\n",
       "Name: Page Views Per Visit, dtype: float64"
      ]
     },
     "execution_count": 68,
     "metadata": {},
     "output_type": "execute_result"
    }
   ],
   "source": [
    "# Removing values beyond 99% for Page Views Per Visit\n",
    "nn_quartile_total_visits = data['Page Views Per Visit'].quantile(0.99)\n",
    "data = data[data[\"Page Views Per Visit\"] < nn_quartile_total_visits]\n",
    "data[\"Page Views Per Visit\"].describe(percentiles=[.25,.5,.75,.90,.95,.99])"
   ]
  },
  {
   "cell_type": "code",
   "execution_count": 69,
   "id": "75118545",
   "metadata": {},
   "outputs": [
    {
     "data": {
      "text/plain": [
       "count    9011.000000\n",
       "mean        3.061369\n",
       "std         2.743878\n",
       "min         0.000000\n",
       "25%         1.000000\n",
       "50%         3.000000\n",
       "75%         4.000000\n",
       "90%         7.000000\n",
       "95%         8.000000\n",
       "99%        12.000000\n",
       "max        15.000000\n",
       "Name: TotalVisits, dtype: float64"
      ]
     },
     "execution_count": 69,
     "metadata": {},
     "output_type": "execute_result"
    }
   ],
   "source": [
    "# Removing values beyond 99% for Total Visits\n",
    "nn_quartile_total_visits = data['TotalVisits'].quantile(0.99)\n",
    "data = data[data[\"TotalVisits\"] < nn_quartile_total_visits]\n",
    "data[\"TotalVisits\"].describe(percentiles=[.25,.5,.75,.90,.95,.99])"
   ]
  },
  {
   "cell_type": "code",
   "execution_count": 70,
   "id": "d187fb97",
   "metadata": {},
   "outputs": [
    {
     "name": "stdout",
     "output_type": "stream",
     "text": [
      "97.52\n"
     ]
    }
   ],
   "source": [
    "# Determine the percentage of data retained\n",
    "num_data = round(100*(len(data)/9240),2)\n",
    "print(num_data)"
   ]
  },
  {
   "cell_type": "code",
   "execution_count": 72,
   "id": "e550c33e",
   "metadata": {},
   "outputs": [
    {
     "data": {
      "text/plain": [
       "(9011, 23)"
      ]
     },
     "execution_count": 72,
     "metadata": {},
     "output_type": "execute_result"
    }
   ],
   "source": [
    "data.shape"
   ]
  },
  {
   "cell_type": "markdown",
   "id": "4f65d554",
   "metadata": {},
   "source": [
    "**Encoding using get_dummies()**"
   ]
  },
  {
   "cell_type": "code",
   "execution_count": 73,
   "id": "e2ddf23e",
   "metadata": {},
   "outputs": [],
   "source": [
    "numeric_data = data.select_dtypes(include=[np.number])\n",
    "categorical_data = data.select_dtypes(exclude=[np.number])"
   ]
  },
  {
   "cell_type": "code",
   "execution_count": 74,
   "id": "11e8e52a",
   "metadata": {},
   "outputs": [
    {
     "data": {
      "text/plain": [
       "Index(['Converted', 'TotalVisits', 'Total Time Spent on Website',\n",
       "       'Page Views Per Visit'],\n",
       "      dtype='object')"
      ]
     },
     "execution_count": 74,
     "metadata": {},
     "output_type": "execute_result"
    }
   ],
   "source": [
    "numeric_data.columns"
   ]
  },
  {
   "cell_type": "code",
   "execution_count": 75,
   "id": "1f3854b2",
   "metadata": {},
   "outputs": [],
   "source": [
    "encoded_cols = pd.get_dummies(data[categorical_data.columns], drop_first=True)"
   ]
  },
  {
   "cell_type": "code",
   "execution_count": 74,
   "id": "40fdbd80",
   "metadata": {},
   "outputs": [
    {
     "data": {
      "text/plain": [
       "Index(['Lead Origin', 'Lead Source', 'Do Not Email', 'Do Not Call',\n",
       "       'Last Activity', 'Country', 'Specialization',\n",
       "       'What is your current occupation', 'Search', 'Newspaper Article',\n",
       "       'X Education Forums', 'Newspaper', 'Digital Advertisement',\n",
       "       'Through Recommendations', 'Lead Quality', 'Lead Profile', 'City',\n",
       "       'A free copy of Mastering The Interview', 'Last Notable Activity'],\n",
       "      dtype='object')"
      ]
     },
     "execution_count": 74,
     "metadata": {},
     "output_type": "execute_result"
    }
   ],
   "source": [
    "categorical_data.columns"
   ]
  },
  {
   "cell_type": "code",
   "execution_count": 76,
   "id": "a5a08c9c",
   "metadata": {},
   "outputs": [],
   "source": [
    "data = data.drop(['Lead Origin', 'Lead Source', 'Do Not Email', 'Do Not Call',\n",
    "       'Last Activity', 'Country', 'Specialization',\n",
    "       'What is your current occupation', 'Search', 'Newspaper Article',\n",
    "       'X Education Forums', 'Newspaper', 'Digital Advertisement',\n",
    "       'Through Recommendations', 'Lead Quality', 'Tags', 'City',\n",
    "       'A free copy of Mastering The Interview', 'Last Notable Activity'],axis=1)"
   ]
  },
  {
   "cell_type": "code",
   "execution_count": 77,
   "id": "d546cbb7",
   "metadata": {},
   "outputs": [],
   "source": [
    "data = pd.concat([data,encoded_cols], axis=1)"
   ]
  },
  {
   "cell_type": "code",
   "execution_count": 29,
   "id": "a7c6b275",
   "metadata": {},
   "outputs": [
    {
     "data": {
      "text/plain": [
       "(9240, 121)"
      ]
     },
     "execution_count": 29,
     "metadata": {},
     "output_type": "execute_result"
    }
   ],
   "source": [
    "data.shape"
   ]
  },
  {
   "cell_type": "code",
   "execution_count": 78,
   "id": "cff6997e",
   "metadata": {},
   "outputs": [
    {
     "data": {
      "text/html": [
       "<div>\n",
       "<style scoped>\n",
       "    .dataframe tbody tr th:only-of-type {\n",
       "        vertical-align: middle;\n",
       "    }\n",
       "\n",
       "    .dataframe tbody tr th {\n",
       "        vertical-align: top;\n",
       "    }\n",
       "\n",
       "    .dataframe thead th {\n",
       "        text-align: right;\n",
       "    }\n",
       "</style>\n",
       "<table border=\"1\" class=\"dataframe\">\n",
       "  <thead>\n",
       "    <tr style=\"text-align: right;\">\n",
       "      <th></th>\n",
       "      <th>Converted</th>\n",
       "      <th>TotalVisits</th>\n",
       "      <th>Total Time Spent on Website</th>\n",
       "      <th>Page Views Per Visit</th>\n",
       "      <th>Lead Origin_landing page submission</th>\n",
       "      <th>Lead Origin_lead add form</th>\n",
       "      <th>Lead Origin_lead import</th>\n",
       "      <th>Lead Origin_quick add form</th>\n",
       "      <th>Lead Source_facebook</th>\n",
       "      <th>Lead Source_google</th>\n",
       "      <th>...</th>\n",
       "      <th>Last Notable Activity_form submitted on website</th>\n",
       "      <th>Last Notable Activity_had a phone conversation</th>\n",
       "      <th>Last Notable Activity_modified</th>\n",
       "      <th>Last Notable Activity_olark chat conversation</th>\n",
       "      <th>Last Notable Activity_page visited on website</th>\n",
       "      <th>Last Notable Activity_resubscribed to emails</th>\n",
       "      <th>Last Notable Activity_sms sent</th>\n",
       "      <th>Last Notable Activity_unreachable</th>\n",
       "      <th>Last Notable Activity_unsubscribed</th>\n",
       "      <th>Last Notable Activity_view in browser link clicked</th>\n",
       "    </tr>\n",
       "  </thead>\n",
       "  <tbody>\n",
       "    <tr>\n",
       "      <th>0</th>\n",
       "      <td>0</td>\n",
       "      <td>0.0</td>\n",
       "      <td>0</td>\n",
       "      <td>0.0</td>\n",
       "      <td>0</td>\n",
       "      <td>0</td>\n",
       "      <td>0</td>\n",
       "      <td>0</td>\n",
       "      <td>0</td>\n",
       "      <td>0</td>\n",
       "      <td>...</td>\n",
       "      <td>0</td>\n",
       "      <td>0</td>\n",
       "      <td>1</td>\n",
       "      <td>0</td>\n",
       "      <td>0</td>\n",
       "      <td>0</td>\n",
       "      <td>0</td>\n",
       "      <td>0</td>\n",
       "      <td>0</td>\n",
       "      <td>0</td>\n",
       "    </tr>\n",
       "    <tr>\n",
       "      <th>1</th>\n",
       "      <td>0</td>\n",
       "      <td>5.0</td>\n",
       "      <td>674</td>\n",
       "      <td>2.5</td>\n",
       "      <td>0</td>\n",
       "      <td>0</td>\n",
       "      <td>0</td>\n",
       "      <td>0</td>\n",
       "      <td>0</td>\n",
       "      <td>0</td>\n",
       "      <td>...</td>\n",
       "      <td>0</td>\n",
       "      <td>0</td>\n",
       "      <td>0</td>\n",
       "      <td>0</td>\n",
       "      <td>0</td>\n",
       "      <td>0</td>\n",
       "      <td>0</td>\n",
       "      <td>0</td>\n",
       "      <td>0</td>\n",
       "      <td>0</td>\n",
       "    </tr>\n",
       "    <tr>\n",
       "      <th>2</th>\n",
       "      <td>1</td>\n",
       "      <td>2.0</td>\n",
       "      <td>1532</td>\n",
       "      <td>2.0</td>\n",
       "      <td>1</td>\n",
       "      <td>0</td>\n",
       "      <td>0</td>\n",
       "      <td>0</td>\n",
       "      <td>0</td>\n",
       "      <td>0</td>\n",
       "      <td>...</td>\n",
       "      <td>0</td>\n",
       "      <td>0</td>\n",
       "      <td>0</td>\n",
       "      <td>0</td>\n",
       "      <td>0</td>\n",
       "      <td>0</td>\n",
       "      <td>0</td>\n",
       "      <td>0</td>\n",
       "      <td>0</td>\n",
       "      <td>0</td>\n",
       "    </tr>\n",
       "    <tr>\n",
       "      <th>3</th>\n",
       "      <td>0</td>\n",
       "      <td>1.0</td>\n",
       "      <td>305</td>\n",
       "      <td>1.0</td>\n",
       "      <td>1</td>\n",
       "      <td>0</td>\n",
       "      <td>0</td>\n",
       "      <td>0</td>\n",
       "      <td>0</td>\n",
       "      <td>0</td>\n",
       "      <td>...</td>\n",
       "      <td>0</td>\n",
       "      <td>0</td>\n",
       "      <td>1</td>\n",
       "      <td>0</td>\n",
       "      <td>0</td>\n",
       "      <td>0</td>\n",
       "      <td>0</td>\n",
       "      <td>0</td>\n",
       "      <td>0</td>\n",
       "      <td>0</td>\n",
       "    </tr>\n",
       "    <tr>\n",
       "      <th>4</th>\n",
       "      <td>1</td>\n",
       "      <td>2.0</td>\n",
       "      <td>1428</td>\n",
       "      <td>1.0</td>\n",
       "      <td>1</td>\n",
       "      <td>0</td>\n",
       "      <td>0</td>\n",
       "      <td>0</td>\n",
       "      <td>0</td>\n",
       "      <td>1</td>\n",
       "      <td>...</td>\n",
       "      <td>0</td>\n",
       "      <td>0</td>\n",
       "      <td>1</td>\n",
       "      <td>0</td>\n",
       "      <td>0</td>\n",
       "      <td>0</td>\n",
       "      <td>0</td>\n",
       "      <td>0</td>\n",
       "      <td>0</td>\n",
       "      <td>0</td>\n",
       "    </tr>\n",
       "  </tbody>\n",
       "</table>\n",
       "<p>5 rows × 99 columns</p>\n",
       "</div>"
      ],
      "text/plain": [
       "   Converted  TotalVisits  Total Time Spent on Website  Page Views Per Visit  \\\n",
       "0          0          0.0                            0                   0.0   \n",
       "1          0          5.0                          674                   2.5   \n",
       "2          1          2.0                         1532                   2.0   \n",
       "3          0          1.0                          305                   1.0   \n",
       "4          1          2.0                         1428                   1.0   \n",
       "\n",
       "   Lead Origin_landing page submission  Lead Origin_lead add form  \\\n",
       "0                                    0                          0   \n",
       "1                                    0                          0   \n",
       "2                                    1                          0   \n",
       "3                                    1                          0   \n",
       "4                                    1                          0   \n",
       "\n",
       "   Lead Origin_lead import  Lead Origin_quick add form  Lead Source_facebook  \\\n",
       "0                        0                           0                     0   \n",
       "1                        0                           0                     0   \n",
       "2                        0                           0                     0   \n",
       "3                        0                           0                     0   \n",
       "4                        0                           0                     0   \n",
       "\n",
       "   Lead Source_google  ...  Last Notable Activity_form submitted on website  \\\n",
       "0                   0  ...                                                0   \n",
       "1                   0  ...                                                0   \n",
       "2                   0  ...                                                0   \n",
       "3                   0  ...                                                0   \n",
       "4                   1  ...                                                0   \n",
       "\n",
       "   Last Notable Activity_had a phone conversation  \\\n",
       "0                                               0   \n",
       "1                                               0   \n",
       "2                                               0   \n",
       "3                                               0   \n",
       "4                                               0   \n",
       "\n",
       "   Last Notable Activity_modified  \\\n",
       "0                               1   \n",
       "1                               0   \n",
       "2                               0   \n",
       "3                               1   \n",
       "4                               1   \n",
       "\n",
       "   Last Notable Activity_olark chat conversation  \\\n",
       "0                                              0   \n",
       "1                                              0   \n",
       "2                                              0   \n",
       "3                                              0   \n",
       "4                                              0   \n",
       "\n",
       "   Last Notable Activity_page visited on website  \\\n",
       "0                                              0   \n",
       "1                                              0   \n",
       "2                                              0   \n",
       "3                                              0   \n",
       "4                                              0   \n",
       "\n",
       "   Last Notable Activity_resubscribed to emails  \\\n",
       "0                                             0   \n",
       "1                                             0   \n",
       "2                                             0   \n",
       "3                                             0   \n",
       "4                                             0   \n",
       "\n",
       "   Last Notable Activity_sms sent  Last Notable Activity_unreachable  \\\n",
       "0                               0                                  0   \n",
       "1                               0                                  0   \n",
       "2                               0                                  0   \n",
       "3                               0                                  0   \n",
       "4                               0                                  0   \n",
       "\n",
       "   Last Notable Activity_unsubscribed  \\\n",
       "0                                   0   \n",
       "1                                   0   \n",
       "2                                   0   \n",
       "3                                   0   \n",
       "4                                   0   \n",
       "\n",
       "   Last Notable Activity_view in browser link clicked  \n",
       "0                                                  0   \n",
       "1                                                  0   \n",
       "2                                                  0   \n",
       "3                                                  0   \n",
       "4                                                  0   \n",
       "\n",
       "[5 rows x 99 columns]"
      ]
     },
     "execution_count": 78,
     "metadata": {},
     "output_type": "execute_result"
    }
   ],
   "source": [
    "data.head()"
   ]
  },
  {
   "cell_type": "markdown",
   "id": "d9873662",
   "metadata": {},
   "source": [
    "**Train-test split**"
   ]
  },
  {
   "cell_type": "code",
   "execution_count": 78,
   "id": "658fb099",
   "metadata": {},
   "outputs": [],
   "source": [
    "from sklearn.model_selection import train_test_split\n",
    "X = data.drop(['Converted'],axis=1)\n",
    "y = data[['Converted']]"
   ]
  },
  {
   "cell_type": "code",
   "execution_count": 79,
   "id": "bf369f9f",
   "metadata": {},
   "outputs": [],
   "source": [
    "X_train, X_test, y_train, y_test = train_test_split(X, y, train_size = 0.7, test_size = 0.3, random_state = 100)"
   ]
  },
  {
   "cell_type": "code",
   "execution_count": 80,
   "id": "fea7d454",
   "metadata": {},
   "outputs": [],
   "source": [
    "from sklearn.preprocessing import StandardScaler\n",
    "scaler = StandardScaler()"
   ]
  },
  {
   "cell_type": "code",
   "execution_count": 30,
   "id": "118f6087",
   "metadata": {},
   "outputs": [],
   "source": [
    "num_vars = ['TotalVisits', 'Total Time Spent on Website',\n",
    "       'Page Views Per Visit']"
   ]
  },
  {
   "cell_type": "code",
   "execution_count": 83,
   "id": "40154c93",
   "metadata": {},
   "outputs": [],
   "source": [
    "data[num_vars] = scaler.fit_transform(data[num_vars])"
   ]
  },
  {
   "cell_type": "markdown",
   "id": "21c85b39",
   "metadata": {},
   "source": [
    "**Correlation Matrix**"
   ]
  },
  {
   "cell_type": "code",
   "execution_count": 85,
   "id": "4d1b0999",
   "metadata": {},
   "outputs": [
    {
     "data": {
      "image/png": "[encoded data removed]",
      "text/plain": [
       "<Figure size 1152x720 with 2 Axes>"
      ]
     },
     "metadata": {
      "needs_background": "light"
     },
     "output_type": "display_data"
    }
   ],
   "source": [
    "import matplotlib.pyplot as plt\n",
    "import seaborn as sns\n",
    "plt.figure(figsize = (16, 10))\n",
    "sns.heatmap(data[num_vars].corr(), annot = True, cmap=\"YlGnBu\")\n",
    "plt.show()"
   ]
  },
  {
   "cell_type": "markdown",
   "id": "de720eba",
   "metadata": {},
   "source": [
    "**Standardization**"
   ]
  },
  {
   "cell_type": "code",
   "execution_count": 81,
   "id": "3b755f31",
   "metadata": {},
   "outputs": [],
   "source": [
    "scaler.fit(X_train[['TotalVisits', 'Total Time Spent on Website',\n",
    "       'Page Views Per Visit']])\n",
    "X_train[['TotalVisits', 'Total Time Spent on Website',\n",
    "       'Page Views Per Visit']] = scaler.transform(X_train[['TotalVisits', 'Total Time Spent on Website',\n",
    "       'Page Views Per Visit']])"
   ]
  },
  {
   "cell_type": "code",
   "execution_count": 82,
   "id": "ebd470b9",
   "metadata": {},
   "outputs": [],
   "source": [
    "X_test[['TotalVisits', 'Total Time Spent on Website',\n",
    "       'Page Views Per Visit']] = scaler.transform(X_test[['TotalVisits', 'Total Time Spent on Website',\n",
    "       'Page Views Per Visit']])"
   ]
  },
  {
   "cell_type": "code",
   "execution_count": 83,
   "id": "e81e173b",
   "metadata": {},
   "outputs": [
    {
     "data": {
      "text/html": [
       "<table class=\"simpletable\">\n",
       "<caption>Generalized Linear Model Regression Results</caption>\n",
       "<tr>\n",
       "  <th>Dep. Variable:</th>       <td>Converted</td>    <th>  No. Observations:  </th>  <td>  6307</td> \n",
       "</tr>\n",
       "<tr>\n",
       "  <th>Model:</th>                  <td>GLM</td>       <th>  Df Residuals:      </th>  <td>  6224</td> \n",
       "</tr>\n",
       "<tr>\n",
       "  <th>Model Family:</th>        <td>Binomial</td>     <th>  Df Model:          </th>  <td>    82</td> \n",
       "</tr>\n",
       "<tr>\n",
       "  <th>Link Function:</th>         <td>Logit</td>      <th>  Scale:             </th> <td>  1.0000</td>\n",
       "</tr>\n",
       "<tr>\n",
       "  <th>Method:</th>                <td>IRLS</td>       <th>  Log-Likelihood:    </th> <td>     nan</td>\n",
       "</tr>\n",
       "<tr>\n",
       "  <th>Date:</th>            <td>Sat, 12 Nov 2022</td> <th>  Deviance:          </th> <td>  47249.</td>\n",
       "</tr>\n",
       "<tr>\n",
       "  <th>Time:</th>                <td>06:38:58</td>     <th>  Pearson chi2:      </th> <td>2.31e+18</td>\n",
       "</tr>\n",
       "<tr>\n",
       "  <th>No. Iterations:</th>         <td>100</td>       <th>  Pseudo R-squ. (CS):</th>  <td>   nan</td> \n",
       "</tr>\n",
       "<tr>\n",
       "  <th>Covariance Type:</th>     <td>nonrobust</td>    <th>                     </th>     <td> </td>   \n",
       "</tr>\n",
       "</table>\n",
       "<table class=\"simpletable\">\n",
       "<tr>\n",
       "                            <td></td>                              <th>coef</th>     <th>std err</th>      <th>z</th>      <th>P>|z|</th>  <th>[0.025</th>    <th>0.975]</th>  \n",
       "</tr>\n",
       "<tr>\n",
       "  <th>const</th>                                                <td> 3.633e+15</td> <td> 7.47e+07</td> <td> 4.86e+07</td> <td> 0.000</td> <td> 3.63e+15</td> <td> 3.63e+15</td>\n",
       "</tr>\n",
       "<tr>\n",
       "  <th>TotalVisits</th>                                          <td> 8.006e+13</td> <td> 1.36e+06</td> <td>  5.9e+07</td> <td> 0.000</td> <td> 8.01e+13</td> <td> 8.01e+13</td>\n",
       "</tr>\n",
       "<tr>\n",
       "  <th>Total Time Spent on Website</th>                          <td>  1.83e+14</td> <td> 1.03e+06</td> <td> 1.77e+08</td> <td> 0.000</td> <td> 1.83e+14</td> <td> 1.83e+14</td>\n",
       "</tr>\n",
       "<tr>\n",
       "  <th>Page Views Per Visit</th>                                 <td>-3.944e+12</td> <td> 1.47e+06</td> <td>-2.68e+06</td> <td> 0.000</td> <td>-3.94e+12</td> <td>-3.94e+12</td>\n",
       "</tr>\n",
       "<tr>\n",
       "  <th>Lead Origin_landing page submission</th>                  <td>-2.565e+14</td> <td> 3.99e+06</td> <td>-6.43e+07</td> <td> 0.000</td> <td>-2.57e+14</td> <td>-2.57e+14</td>\n",
       "</tr>\n",
       "<tr>\n",
       "  <th>Lead Origin_lead add form</th>                            <td>  3.33e+14</td> <td> 2.02e+07</td> <td> 1.65e+07</td> <td> 0.000</td> <td> 3.33e+14</td> <td> 3.33e+14</td>\n",
       "</tr>\n",
       "<tr>\n",
       "  <th>Lead Origin_lead import</th>                              <td> 9.211e+14</td> <td> 4.95e+07</td> <td> 1.86e+07</td> <td> 0.000</td> <td> 9.21e+14</td> <td> 9.21e+14</td>\n",
       "</tr>\n",
       "<tr>\n",
       "  <th>Lead Origin_quick add form</th>                           <td>  -41.6769</td> <td> 1.47e-06</td> <td>-2.84e+07</td> <td> 0.000</td> <td>  -41.677</td> <td>  -41.677</td>\n",
       "</tr>\n",
       "<tr>\n",
       "  <th>Lead Source_facebook</th>                                 <td>-1.095e+15</td> <td> 4.91e+07</td> <td>-2.23e+07</td> <td> 0.000</td> <td> -1.1e+15</td> <td> -1.1e+15</td>\n",
       "</tr>\n",
       "<tr>\n",
       "  <th>Lead Source_google</th>                                   <td> 1.919e+13</td> <td> 2.93e+06</td> <td> 6.55e+06</td> <td> 0.000</td> <td> 1.92e+13</td> <td> 1.92e+13</td>\n",
       "</tr>\n",
       "<tr>\n",
       "  <th>Lead Source_olark chat</th>                               <td>-1.718e+14</td> <td> 7.29e+06</td> <td>-2.36e+07</td> <td> 0.000</td> <td>-1.72e+14</td> <td>-1.72e+14</td>\n",
       "</tr>\n",
       "<tr>\n",
       "  <th>Lead Source_organic search</th>                           <td>-8.575e+13</td> <td> 3.33e+06</td> <td>-2.58e+07</td> <td> 0.000</td> <td>-8.57e+13</td> <td>-8.57e+13</td>\n",
       "</tr>\n",
       "<tr>\n",
       "  <th>Lead Source_others</th>                                   <td>-1.418e+14</td> <td> 1.69e+07</td> <td> -8.4e+06</td> <td> 0.000</td> <td>-1.42e+14</td> <td>-1.42e+14</td>\n",
       "</tr>\n",
       "<tr>\n",
       "  <th>Lead Source_reference</th>                                <td>-4.779e+14</td> <td> 1.99e+07</td> <td>-2.41e+07</td> <td> 0.000</td> <td>-4.78e+14</td> <td>-4.78e+14</td>\n",
       "</tr>\n",
       "<tr>\n",
       "  <th>Lead Source_referral sites</th>                           <td>-3.439e+13</td> <td> 8.44e+06</td> <td>-4.07e+06</td> <td> 0.000</td> <td>-3.44e+13</td> <td>-3.44e+13</td>\n",
       "</tr>\n",
       "<tr>\n",
       "  <th>Lead Source_welingak website</th>                         <td> 3.885e+14</td> <td> 2.05e+07</td> <td> 1.89e+07</td> <td> 0.000</td> <td> 3.89e+14</td> <td> 3.89e+14</td>\n",
       "</tr>\n",
       "<tr>\n",
       "  <th>Do Not Email_yes</th>                                     <td>-1.811e+14</td> <td> 4.57e+06</td> <td>-3.96e+07</td> <td> 0.000</td> <td>-1.81e+14</td> <td>-1.81e+14</td>\n",
       "</tr>\n",
       "<tr>\n",
       "  <th>Do Not Call_yes</th>                                      <td> -1.35e+15</td> <td> 6.76e+07</td> <td>   -2e+07</td> <td> 0.000</td> <td>-1.35e+15</td> <td>-1.35e+15</td>\n",
       "</tr>\n",
       "<tr>\n",
       "  <th>Last Activity_converted to lead</th>                      <td> -2.88e+15</td> <td> 2.46e+07</td> <td>-1.17e+08</td> <td> 0.000</td> <td>-2.88e+15</td> <td>-2.88e+15</td>\n",
       "</tr>\n",
       "<tr>\n",
       "  <th>Last Activity_email bounced</th>                          <td>-3.182e+15</td> <td>  2.5e+07</td> <td>-1.27e+08</td> <td> 0.000</td> <td>-3.18e+15</td> <td>-3.18e+15</td>\n",
       "</tr>\n",
       "<tr>\n",
       "  <th>Last Activity_email link clicked</th>                     <td>-2.636e+15</td> <td> 2.57e+07</td> <td>-1.02e+08</td> <td> 0.000</td> <td>-2.64e+15</td> <td>-2.64e+15</td>\n",
       "</tr>\n",
       "<tr>\n",
       "  <th>Last Activity_email marked spam</th>                      <td> 2.052e+13</td> <td> 4.13e+07</td> <td> 4.97e+05</td> <td> 0.000</td> <td> 2.05e+13</td> <td> 2.05e+13</td>\n",
       "</tr>\n",
       "<tr>\n",
       "  <th>Last Activity_email opened</th>                           <td>-2.651e+15</td> <td> 2.42e+07</td> <td>-1.09e+08</td> <td> 0.000</td> <td>-2.65e+15</td> <td>-2.65e+15</td>\n",
       "</tr>\n",
       "<tr>\n",
       "  <th>Last Activity_email received</th>                         <td>-2.347e+14</td> <td> 4.77e+07</td> <td>-4.92e+06</td> <td> 0.000</td> <td>-2.35e+14</td> <td>-2.35e+14</td>\n",
       "</tr>\n",
       "<tr>\n",
       "  <th>Last Activity_form submitted on website</th>              <td>-2.844e+15</td> <td> 2.55e+07</td> <td>-1.12e+08</td> <td> 0.000</td> <td>-2.84e+15</td> <td>-2.84e+15</td>\n",
       "</tr>\n",
       "<tr>\n",
       "  <th>Last Activity_had a phone conversation</th>               <td>-3.417e+15</td> <td> 3.09e+07</td> <td>-1.11e+08</td> <td> 0.000</td> <td>-3.42e+15</td> <td>-3.42e+15</td>\n",
       "</tr>\n",
       "<tr>\n",
       "  <th>Last Activity_olark chat conversation</th>                <td>-2.776e+15</td> <td> 2.44e+07</td> <td>-1.14e+08</td> <td> 0.000</td> <td>-2.78e+15</td> <td>-2.78e+15</td>\n",
       "</tr>\n",
       "<tr>\n",
       "  <th>Last Activity_page visited on website</th>                <td>-2.834e+15</td> <td> 2.46e+07</td> <td>-1.15e+08</td> <td> 0.000</td> <td>-2.83e+15</td> <td>-2.83e+15</td>\n",
       "</tr>\n",
       "<tr>\n",
       "  <th>Last Activity_resubscribed to emails</th>                 <td> 4.748e+14</td> <td> 4.77e+07</td> <td> 9.95e+06</td> <td> 0.000</td> <td> 4.75e+14</td> <td> 4.75e+14</td>\n",
       "</tr>\n",
       "<tr>\n",
       "  <th>Last Activity_sms sent</th>                               <td> -2.58e+15</td> <td> 2.44e+07</td> <td>-1.06e+08</td> <td> 0.000</td> <td>-2.58e+15</td> <td>-2.58e+15</td>\n",
       "</tr>\n",
       "<tr>\n",
       "  <th>Last Activity_unreachable</th>                            <td>-2.851e+15</td> <td> 2.62e+07</td> <td>-1.09e+08</td> <td> 0.000</td> <td>-2.85e+15</td> <td>-2.85e+15</td>\n",
       "</tr>\n",
       "<tr>\n",
       "  <th>Last Activity_unsubscribed</th>                           <td>-3.818e+15</td> <td> 3.31e+07</td> <td>-1.15e+08</td> <td> 0.000</td> <td>-3.82e+15</td> <td>-3.82e+15</td>\n",
       "</tr>\n",
       "<tr>\n",
       "  <th>Last Activity_view in browser link clicked</th>           <td>-6.249e+15</td> <td> 7.15e+07</td> <td>-8.74e+07</td> <td> 0.000</td> <td>-6.25e+15</td> <td>-6.25e+15</td>\n",
       "</tr>\n",
       "<tr>\n",
       "  <th>Last Activity_visited booth in tradeshow</th>             <td>    5.7389</td> <td> 1.98e-07</td> <td>  2.9e+07</td> <td> 0.000</td> <td>    5.739</td> <td>    5.739</td>\n",
       "</tr>\n",
       "<tr>\n",
       "  <th>Country_not mentioned</th>                                <td> 1.069e+14</td> <td> 6.92e+06</td> <td> 1.54e+07</td> <td> 0.000</td> <td> 1.07e+14</td> <td> 1.07e+14</td>\n",
       "</tr>\n",
       "<tr>\n",
       "  <th>Country_others</th>                                       <td>-1.076e+14</td> <td> 5.61e+06</td> <td>-1.92e+07</td> <td> 0.000</td> <td>-1.08e+14</td> <td>-1.08e+14</td>\n",
       "</tr>\n",
       "<tr>\n",
       "  <th>Country_united states</th>                                <td> 3.762e+13</td> <td> 1.04e+07</td> <td>  3.6e+06</td> <td> 0.000</td> <td> 3.76e+13</td> <td> 3.76e+13</td>\n",
       "</tr>\n",
       "<tr>\n",
       "  <th>Specialization_business administration</th>               <td>-5.882e+13</td> <td>  6.3e+06</td> <td>-9.34e+06</td> <td> 0.000</td> <td>-5.88e+13</td> <td>-5.88e+13</td>\n",
       "</tr>\n",
       "<tr>\n",
       "  <th>Specialization_e-business</th>                            <td>-1.875e+13</td> <td> 1.16e+07</td> <td>-1.62e+06</td> <td> 0.000</td> <td>-1.87e+13</td> <td>-1.87e+13</td>\n",
       "</tr>\n",
       "<tr>\n",
       "  <th>Specialization_e-commerce</th>                            <td> -4.61e+13</td> <td> 9.21e+06</td> <td>   -5e+06</td> <td> 0.000</td> <td>-4.61e+13</td> <td>-4.61e+13</td>\n",
       "</tr>\n",
       "<tr>\n",
       "  <th>Specialization_international business</th>                <td>-1.861e+14</td> <td> 7.66e+06</td> <td>-2.43e+07</td> <td> 0.000</td> <td>-1.86e+14</td> <td>-1.86e+14</td>\n",
       "</tr>\n",
       "<tr>\n",
       "  <th>Specialization_management specializations</th>            <td>-4.961e+13</td> <td> 4.91e+06</td> <td>-1.01e+07</td> <td> 0.000</td> <td>-4.96e+13</td> <td>-4.96e+13</td>\n",
       "</tr>\n",
       "<tr>\n",
       "  <th>Specialization_media and advertising</th>                 <td>-4.875e+13</td> <td> 7.51e+06</td> <td>-6.49e+06</td> <td> 0.000</td> <td>-4.88e+13</td> <td>-4.88e+13</td>\n",
       "</tr>\n",
       "<tr>\n",
       "  <th>Specialization_not mentioned</th>                         <td>-2.204e+14</td> <td> 6.11e+06</td> <td>-3.61e+07</td> <td> 0.000</td> <td> -2.2e+14</td> <td> -2.2e+14</td>\n",
       "</tr>\n",
       "<tr>\n",
       "  <th>Specialization_rural and agribusiness</th>                <td>-1.891e+14</td> <td>  1.1e+07</td> <td>-1.72e+07</td> <td> 0.000</td> <td>-1.89e+14</td> <td>-1.89e+14</td>\n",
       "</tr>\n",
       "<tr>\n",
       "  <th>Specialization_services excellence</th>                   <td> 4.576e+13</td> <td> 1.44e+07</td> <td> 3.19e+06</td> <td> 0.000</td> <td> 4.58e+13</td> <td> 4.58e+13</td>\n",
       "</tr>\n",
       "<tr>\n",
       "  <th>Specialization_travel and tourism</th>                    <td>-3.693e+14</td> <td>  7.5e+06</td> <td>-4.92e+07</td> <td> 0.000</td> <td>-3.69e+14</td> <td>-3.69e+14</td>\n",
       "</tr>\n",
       "<tr>\n",
       "  <th>What is your current occupation_housewife</th>            <td> 4.164e+15</td> <td>  4.3e+07</td> <td> 9.69e+07</td> <td> 0.000</td> <td> 4.16e+15</td> <td> 4.16e+15</td>\n",
       "</tr>\n",
       "<tr>\n",
       "  <th>What is your current occupation_not mentioned</th>        <td>-5.778e+14</td> <td> 3.05e+07</td> <td>-1.89e+07</td> <td> 0.000</td> <td>-5.78e+14</td> <td>-5.78e+14</td>\n",
       "</tr>\n",
       "<tr>\n",
       "  <th>What is your current occupation_other</th>                <td> 7.143e+14</td> <td> 3.96e+07</td> <td> 1.81e+07</td> <td> 0.000</td> <td> 7.14e+14</td> <td> 7.14e+14</td>\n",
       "</tr>\n",
       "<tr>\n",
       "  <th>What is your current occupation_student</th>              <td> 7.014e+14</td> <td> 3.09e+07</td> <td> 2.27e+07</td> <td> 0.000</td> <td> 7.01e+14</td> <td> 7.01e+14</td>\n",
       "</tr>\n",
       "<tr>\n",
       "  <th>What is your current occupation_unemployed</th>           <td> 9.003e+14</td> <td> 3.03e+07</td> <td> 2.97e+07</td> <td> 0.000</td> <td>    9e+14</td> <td>    9e+14</td>\n",
       "</tr>\n",
       "<tr>\n",
       "  <th>What is your current occupation_working professional</th> <td> 9.883e+14</td> <td> 3.05e+07</td> <td> 3.25e+07</td> <td> 0.000</td> <td> 9.88e+14</td> <td> 9.88e+14</td>\n",
       "</tr>\n",
       "<tr>\n",
       "  <th>Search_yes</th>                                           <td>-1.118e+15</td> <td> 2.24e+07</td> <td>-4.98e+07</td> <td> 0.000</td> <td>-1.12e+15</td> <td>-1.12e+15</td>\n",
       "</tr>\n",
       "<tr>\n",
       "  <th>Newspaper_yes</th>                                        <td>   21.4556</td> <td> 5.65e-07</td> <td>  3.8e+07</td> <td> 0.000</td> <td>   21.456</td> <td>   21.456</td>\n",
       "</tr>\n",
       "<tr>\n",
       "  <th>Digital Advertisement_yes</th>                            <td>-2.716e+14</td> <td> 4.78e+07</td> <td>-5.69e+06</td> <td> 0.000</td> <td>-2.72e+14</td> <td>-2.72e+14</td>\n",
       "</tr>\n",
       "<tr>\n",
       "  <th>Through Recommendations_yes</th>                          <td> 1.631e+15</td> <td> 3.16e+07</td> <td> 5.16e+07</td> <td> 0.000</td> <td> 1.63e+15</td> <td> 1.63e+15</td>\n",
       "</tr>\n",
       "<tr>\n",
       "  <th>Tags_closed by horizzon</th>                              <td> 9.955e+14</td> <td> 8.68e+06</td> <td> 1.15e+08</td> <td> 0.000</td> <td> 9.96e+14</td> <td> 9.96e+14</td>\n",
       "</tr>\n",
       "<tr>\n",
       "  <th>Tags_interested in other courses</th>                     <td>  -1.5e+15</td> <td>  7.6e+06</td> <td>-1.97e+08</td> <td> 0.000</td> <td> -1.5e+15</td> <td> -1.5e+15</td>\n",
       "</tr>\n",
       "<tr>\n",
       "  <th>Tags_lost to eins</th>                                    <td> 1.453e+15</td> <td> 9.12e+06</td> <td> 1.59e+08</td> <td> 0.000</td> <td> 1.45e+15</td> <td> 1.45e+15</td>\n",
       "</tr>\n",
       "<tr>\n",
       "  <th>Tags_not specified</th>                                   <td>-1.516e+14</td> <td> 7.45e+06</td> <td>-2.03e+07</td> <td> 0.000</td> <td>-1.52e+14</td> <td>-1.52e+14</td>\n",
       "</tr>\n",
       "<tr>\n",
       "  <th>Tags_other tags</th>                                      <td>-1.713e+15</td> <td> 6.97e+06</td> <td>-2.46e+08</td> <td> 0.000</td> <td>-1.71e+15</td> <td>-1.71e+15</td>\n",
       "</tr>\n",
       "<tr>\n",
       "  <th>Tags_ringing</th>                                         <td>-2.009e+15</td> <td> 6.82e+06</td> <td>-2.95e+08</td> <td> 0.000</td> <td>-2.01e+15</td> <td>-2.01e+15</td>\n",
       "</tr>\n",
       "<tr>\n",
       "  <th>Tags_will revert after reading the email</th>             <td> 4.631e+14</td> <td> 7.18e+06</td> <td> 6.45e+07</td> <td> 0.000</td> <td> 4.63e+14</td> <td> 4.63e+14</td>\n",
       "</tr>\n",
       "<tr>\n",
       "  <th>Lead Quality_low in relevance</th>                        <td>-5.564e+14</td> <td> 4.99e+06</td> <td>-1.12e+08</td> <td> 0.000</td> <td>-5.56e+14</td> <td>-5.56e+14</td>\n",
       "</tr>\n",
       "<tr>\n",
       "  <th>Lead Quality_might be</th>                                <td>-4.928e+14</td> <td> 4.35e+06</td> <td>-1.13e+08</td> <td> 0.000</td> <td>-4.93e+14</td> <td>-4.93e+14</td>\n",
       "</tr>\n",
       "<tr>\n",
       "  <th>Lead Quality_not mentioned</th>                           <td>-3.619e+14</td> <td> 4.98e+06</td> <td>-7.27e+07</td> <td> 0.000</td> <td>-3.62e+14</td> <td>-3.62e+14</td>\n",
       "</tr>\n",
       "<tr>\n",
       "  <th>Lead Quality_not sure</th>                                <td>-4.162e+14</td> <td>  5.2e+06</td> <td>   -8e+07</td> <td> 0.000</td> <td>-4.16e+14</td> <td>-4.16e+14</td>\n",
       "</tr>\n",
       "<tr>\n",
       "  <th>Lead Quality_worst</th>                                   <td>-1.409e+15</td> <td> 5.95e+06</td> <td>-2.37e+08</td> <td> 0.000</td> <td>-1.41e+15</td> <td>-1.41e+15</td>\n",
       "</tr>\n",
       "<tr>\n",
       "  <th>City_not mentioned</th>                                   <td>-6.095e+13</td> <td> 4.53e+06</td> <td>-1.34e+07</td> <td> 0.000</td> <td> -6.1e+13</td> <td> -6.1e+13</td>\n",
       "</tr>\n",
       "<tr>\n",
       "  <th>City_other cities</th>                                    <td>-4.411e+12</td> <td> 3.45e+06</td> <td>-1.28e+06</td> <td> 0.000</td> <td>-4.41e+12</td> <td>-4.41e+12</td>\n",
       "</tr>\n",
       "<tr>\n",
       "  <th>City_other cities of maharashtra</th>                     <td>-4.433e+13</td> <td> 4.09e+06</td> <td>-1.09e+07</td> <td> 0.000</td> <td>-4.43e+13</td> <td>-4.43e+13</td>\n",
       "</tr>\n",
       "<tr>\n",
       "  <th>City_other metro cities</th>                              <td>-3.675e+13</td> <td> 4.64e+06</td> <td>-7.91e+06</td> <td> 0.000</td> <td>-3.67e+13</td> <td>-3.67e+13</td>\n",
       "</tr>\n",
       "<tr>\n",
       "  <th>City_thane & outskirts</th>                               <td>-1.341e+14</td> <td> 3.41e+06</td> <td>-3.93e+07</td> <td> 0.000</td> <td>-1.34e+14</td> <td>-1.34e+14</td>\n",
       "</tr>\n",
       "<tr>\n",
       "  <th>City_tier ii cities</th>                                  <td> 2.435e+14</td> <td> 9.65e+06</td> <td> 2.52e+07</td> <td> 0.000</td> <td> 2.43e+14</td> <td> 2.43e+14</td>\n",
       "</tr>\n",
       "<tr>\n",
       "  <th>A free copy of Mastering The Interview_yes</th>           <td> 1.455e+13</td> <td> 2.83e+06</td> <td> 5.14e+06</td> <td> 0.000</td> <td> 1.45e+13</td> <td> 1.45e+13</td>\n",
       "</tr>\n",
       "<tr>\n",
       "  <th>Last Notable Activity_email bounced</th>                  <td>-5.642e+14</td> <td> 7.27e+07</td> <td>-7.76e+06</td> <td> 0.000</td> <td>-5.64e+14</td> <td>-5.64e+14</td>\n",
       "</tr>\n",
       "<tr>\n",
       "  <th>Last Notable Activity_email link clicked</th>             <td> -5.45e+14</td> <td> 7.24e+07</td> <td>-7.52e+06</td> <td> 0.000</td> <td>-5.45e+14</td> <td>-5.45e+14</td>\n",
       "</tr>\n",
       "<tr>\n",
       "  <th>Last Notable Activity_email marked spam</th>              <td> 2.052e+13</td> <td> 4.13e+07</td> <td> 4.97e+05</td> <td> 0.000</td> <td> 2.05e+13</td> <td> 2.05e+13</td>\n",
       "</tr>\n",
       "<tr>\n",
       "  <th>Last Notable Activity_email opened</th>                   <td>-6.862e+14</td> <td> 7.17e+07</td> <td>-9.57e+06</td> <td> 0.000</td> <td>-6.86e+14</td> <td>-6.86e+14</td>\n",
       "</tr>\n",
       "<tr>\n",
       "  <th>Last Notable Activity_email received</th>                 <td>-2.347e+14</td> <td> 4.77e+07</td> <td>-4.92e+06</td> <td> 0.000</td> <td>-2.35e+14</td> <td>-2.35e+14</td>\n",
       "</tr>\n",
       "<tr>\n",
       "  <th>Last Notable Activity_form submitted on website</th>      <td>   -0.3512</td> <td> 1.54e-08</td> <td>-2.28e+07</td> <td> 0.000</td> <td>   -0.351</td> <td>   -0.351</td>\n",
       "</tr>\n",
       "<tr>\n",
       "  <th>Last Notable Activity_had a phone conversation</th>       <td>-2.837e+13</td> <td> 7.71e+07</td> <td>-3.68e+05</td> <td> 0.000</td> <td>-2.84e+13</td> <td>-2.84e+13</td>\n",
       "</tr>\n",
       "<tr>\n",
       "  <th>Last Notable Activity_modified</th>                       <td>-5.763e+14</td> <td> 7.16e+07</td> <td>-8.04e+06</td> <td> 0.000</td> <td>-5.76e+14</td> <td>-5.76e+14</td>\n",
       "</tr>\n",
       "<tr>\n",
       "  <th>Last Notable Activity_olark chat conversation</th>        <td>-5.444e+14</td> <td> 7.19e+07</td> <td>-7.57e+06</td> <td> 0.000</td> <td>-5.44e+14</td> <td>-5.44e+14</td>\n",
       "</tr>\n",
       "<tr>\n",
       "  <th>Last Notable Activity_page visited on website</th>        <td>-4.052e+14</td> <td>  7.2e+07</td> <td>-5.63e+06</td> <td> 0.000</td> <td>-4.05e+14</td> <td>-4.05e+14</td>\n",
       "</tr>\n",
       "<tr>\n",
       "  <th>Last Notable Activity_resubscribed to emails</th>         <td> 4.748e+14</td> <td> 4.77e+07</td> <td> 9.95e+06</td> <td> 0.000</td> <td> 4.75e+14</td> <td> 4.75e+14</td>\n",
       "</tr>\n",
       "<tr>\n",
       "  <th>Last Notable Activity_sms sent</th>                       <td>-1.025e+14</td> <td> 7.17e+07</td> <td>-1.43e+06</td> <td> 0.000</td> <td>-1.02e+14</td> <td>-1.02e+14</td>\n",
       "</tr>\n",
       "<tr>\n",
       "  <th>Last Notable Activity_unreachable</th>                    <td>-1.102e+15</td> <td> 7.35e+07</td> <td> -1.5e+07</td> <td> 0.000</td> <td> -1.1e+15</td> <td> -1.1e+15</td>\n",
       "</tr>\n",
       "<tr>\n",
       "  <th>Last Notable Activity_unsubscribed</th>                   <td> 7.635e+14</td> <td> 7.59e+07</td> <td> 1.01e+07</td> <td> 0.000</td> <td> 7.64e+14</td> <td> 7.64e+14</td>\n",
       "</tr>\n",
       "<tr>\n",
       "  <th>Last Notable Activity_view in browser link clicked</th>   <td>         0</td> <td>        0</td> <td>      nan</td> <td>   nan</td> <td>        0</td> <td>        0</td>\n",
       "</tr>\n",
       "</table>"
      ],
      "text/plain": [
       "<class 'statsmodels.iolib.summary.Summary'>\n",
       "\"\"\"\n",
       "                 Generalized Linear Model Regression Results                  \n",
       "==============================================================================\n",
       "Dep. Variable:              Converted   No. Observations:                 6307\n",
       "Model:                            GLM   Df Residuals:                     6224\n",
       "Model Family:                Binomial   Df Model:                           82\n",
       "Link Function:                  Logit   Scale:                          1.0000\n",
       "Method:                          IRLS   Log-Likelihood:                    nan\n",
       "Date:                Sat, 12 Nov 2022   Deviance:                       47249.\n",
       "Time:                        06:38:58   Pearson chi2:                 2.31e+18\n",
       "No. Iterations:                   100   Pseudo R-squ. (CS):                nan\n",
       "Covariance Type:            nonrobust                                         \n",
       "========================================================================================================================\n",
       "                                                           coef    std err          z      P>|z|      [0.025      0.975]\n",
       "------------------------------------------------------------------------------------------------------------------------\n",
       "const                                                 3.633e+15   7.47e+07   4.86e+07      0.000    3.63e+15    3.63e+15\n",
       "TotalVisits                                           8.006e+13   1.36e+06    5.9e+07      0.000    8.01e+13    8.01e+13\n",
       "Total Time Spent on Website                            1.83e+14   1.03e+06   1.77e+08      0.000    1.83e+14    1.83e+14\n",
       "Page Views Per Visit                                 -3.944e+12   1.47e+06  -2.68e+06      0.000   -3.94e+12   -3.94e+12\n",
       "Lead Origin_landing page submission                  -2.565e+14   3.99e+06  -6.43e+07      0.000   -2.57e+14   -2.57e+14\n",
       "Lead Origin_lead add form                              3.33e+14   2.02e+07   1.65e+07      0.000    3.33e+14    3.33e+14\n",
       "Lead Origin_lead import                               9.211e+14   4.95e+07   1.86e+07      0.000    9.21e+14    9.21e+14\n",
       "Lead Origin_quick add form                             -41.6769   1.47e-06  -2.84e+07      0.000     -41.677     -41.677\n",
       "Lead Source_facebook                                 -1.095e+15   4.91e+07  -2.23e+07      0.000    -1.1e+15    -1.1e+15\n",
       "Lead Source_google                                    1.919e+13   2.93e+06   6.55e+06      0.000    1.92e+13    1.92e+13\n",
       "Lead Source_olark chat                               -1.718e+14   7.29e+06  -2.36e+07      0.000   -1.72e+14   -1.72e+14\n",
       "Lead Source_organic search                           -8.575e+13   3.33e+06  -2.58e+07      0.000   -8.57e+13   -8.57e+13\n",
       "Lead Source_others                                   -1.418e+14   1.69e+07   -8.4e+06      0.000   -1.42e+14   -1.42e+14\n",
       "Lead Source_reference                                -4.779e+14   1.99e+07  -2.41e+07      0.000   -4.78e+14   -4.78e+14\n",
       "Lead Source_referral sites                           -3.439e+13   8.44e+06  -4.07e+06      0.000   -3.44e+13   -3.44e+13\n",
       "Lead Source_welingak website                          3.885e+14   2.05e+07   1.89e+07      0.000    3.89e+14    3.89e+14\n",
       "Do Not Email_yes                                     -1.811e+14   4.57e+06  -3.96e+07      0.000   -1.81e+14   -1.81e+14\n",
       "Do Not Call_yes                                       -1.35e+15   6.76e+07     -2e+07      0.000   -1.35e+15   -1.35e+15\n",
       "Last Activity_converted to lead                       -2.88e+15   2.46e+07  -1.17e+08      0.000   -2.88e+15   -2.88e+15\n",
       "Last Activity_email bounced                          -3.182e+15    2.5e+07  -1.27e+08      0.000   -3.18e+15   -3.18e+15\n",
       "Last Activity_email link clicked                     -2.636e+15   2.57e+07  -1.02e+08      0.000   -2.64e+15   -2.64e+15\n",
       "Last Activity_email marked spam                       2.052e+13   4.13e+07   4.97e+05      0.000    2.05e+13    2.05e+13\n",
       "Last Activity_email opened                           -2.651e+15   2.42e+07  -1.09e+08      0.000   -2.65e+15   -2.65e+15\n",
       "Last Activity_email received                         -2.347e+14   4.77e+07  -4.92e+06      0.000   -2.35e+14   -2.35e+14\n",
       "Last Activity_form submitted on website              -2.844e+15   2.55e+07  -1.12e+08      0.000   -2.84e+15   -2.84e+15\n",
       "Last Activity_had a phone conversation               -3.417e+15   3.09e+07  -1.11e+08      0.000   -3.42e+15   -3.42e+15\n",
       "Last Activity_olark chat conversation                -2.776e+15   2.44e+07  -1.14e+08      0.000   -2.78e+15   -2.78e+15\n",
       "Last Activity_page visited on website                -2.834e+15   2.46e+07  -1.15e+08      0.000   -2.83e+15   -2.83e+15\n",
       "Last Activity_resubscribed to emails                  4.748e+14   4.77e+07   9.95e+06      0.000    4.75e+14    4.75e+14\n",
       "Last Activity_sms sent                                -2.58e+15   2.44e+07  -1.06e+08      0.000   -2.58e+15   -2.58e+15\n",
       "Last Activity_unreachable                            -2.851e+15   2.62e+07  -1.09e+08      0.000   -2.85e+15   -2.85e+15\n",
       "Last Activity_unsubscribed                           -3.818e+15   3.31e+07  -1.15e+08      0.000   -3.82e+15   -3.82e+15\n",
       "Last Activity_view in browser link clicked           -6.249e+15   7.15e+07  -8.74e+07      0.000   -6.25e+15   -6.25e+15\n",
       "Last Activity_visited booth in tradeshow                 5.7389   1.98e-07    2.9e+07      0.000       5.739       5.739\n",
       "Country_not mentioned                                 1.069e+14   6.92e+06   1.54e+07      0.000    1.07e+14    1.07e+14\n",
       "Country_others                                       -1.076e+14   5.61e+06  -1.92e+07      0.000   -1.08e+14   -1.08e+14\n",
       "Country_united states                                 3.762e+13   1.04e+07    3.6e+06      0.000    3.76e+13    3.76e+13\n",
       "Specialization_business administration               -5.882e+13    6.3e+06  -9.34e+06      0.000   -5.88e+13   -5.88e+13\n",
       "Specialization_e-business                            -1.875e+13   1.16e+07  -1.62e+06      0.000   -1.87e+13   -1.87e+13\n",
       "Specialization_e-commerce                             -4.61e+13   9.21e+06     -5e+06      0.000   -4.61e+13   -4.61e+13\n",
       "Specialization_international business                -1.861e+14   7.66e+06  -2.43e+07      0.000   -1.86e+14   -1.86e+14\n",
       "Specialization_management specializations            -4.961e+13   4.91e+06  -1.01e+07      0.000   -4.96e+13   -4.96e+13\n",
       "Specialization_media and advertising                 -4.875e+13   7.51e+06  -6.49e+06      0.000   -4.88e+13   -4.88e+13\n",
       "Specialization_not mentioned                         -2.204e+14   6.11e+06  -3.61e+07      0.000    -2.2e+14    -2.2e+14\n",
       "Specialization_rural and agribusiness                -1.891e+14    1.1e+07  -1.72e+07      0.000   -1.89e+14   -1.89e+14\n",
       "Specialization_services excellence                    4.576e+13   1.44e+07   3.19e+06      0.000    4.58e+13    4.58e+13\n",
       "Specialization_travel and tourism                    -3.693e+14    7.5e+06  -4.92e+07      0.000   -3.69e+14   -3.69e+14\n",
       "What is your current occupation_housewife             4.164e+15    4.3e+07   9.69e+07      0.000    4.16e+15    4.16e+15\n",
       "What is your current occupation_not mentioned        -5.778e+14   3.05e+07  -1.89e+07      0.000   -5.78e+14   -5.78e+14\n",
       "What is your current occupation_other                 7.143e+14   3.96e+07   1.81e+07      0.000    7.14e+14    7.14e+14\n",
       "What is your current occupation_student               7.014e+14   3.09e+07   2.27e+07      0.000    7.01e+14    7.01e+14\n",
       "What is your current occupation_unemployed            9.003e+14   3.03e+07   2.97e+07      0.000       9e+14       9e+14\n",
       "What is your current occupation_working professional  9.883e+14   3.05e+07   3.25e+07      0.000    9.88e+14    9.88e+14\n",
       "Search_yes                                           -1.118e+15   2.24e+07  -4.98e+07      0.000   -1.12e+15   -1.12e+15\n",
       "Newspaper_yes                                           21.4556   5.65e-07    3.8e+07      0.000      21.456      21.456\n",
       "Digital Advertisement_yes                            -2.716e+14   4.78e+07  -5.69e+06      0.000   -2.72e+14   -2.72e+14\n",
       "Through Recommendations_yes                           1.631e+15   3.16e+07   5.16e+07      0.000    1.63e+15    1.63e+15\n",
       "Tags_closed by horizzon                               9.955e+14   8.68e+06   1.15e+08      0.000    9.96e+14    9.96e+14\n",
       "Tags_interested in other courses                       -1.5e+15    7.6e+06  -1.97e+08      0.000    -1.5e+15    -1.5e+15\n",
       "Tags_lost to eins                                     1.453e+15   9.12e+06   1.59e+08      0.000    1.45e+15    1.45e+15\n",
       "Tags_not specified                                   -1.516e+14   7.45e+06  -2.03e+07      0.000   -1.52e+14   -1.52e+14\n",
       "Tags_other tags                                      -1.713e+15   6.97e+06  -2.46e+08      0.000   -1.71e+15   -1.71e+15\n",
       "Tags_ringing                                         -2.009e+15   6.82e+06  -2.95e+08      0.000   -2.01e+15   -2.01e+15\n",
       "Tags_will revert after reading the email              4.631e+14   7.18e+06   6.45e+07      0.000    4.63e+14    4.63e+14\n",
       "Lead Quality_low in relevance                        -5.564e+14   4.99e+06  -1.12e+08      0.000   -5.56e+14   -5.56e+14\n",
       "Lead Quality_might be                                -4.928e+14   4.35e+06  -1.13e+08      0.000   -4.93e+14   -4.93e+14\n",
       "Lead Quality_not mentioned                           -3.619e+14   4.98e+06  -7.27e+07      0.000   -3.62e+14   -3.62e+14\n",
       "Lead Quality_not sure                                -4.162e+14    5.2e+06     -8e+07      0.000   -4.16e+14   -4.16e+14\n",
       "Lead Quality_worst                                   -1.409e+15   5.95e+06  -2.37e+08      0.000   -1.41e+15   -1.41e+15\n",
       "City_not mentioned                                   -6.095e+13   4.53e+06  -1.34e+07      0.000    -6.1e+13    -6.1e+13\n",
       "City_other cities                                    -4.411e+12   3.45e+06  -1.28e+06      0.000   -4.41e+12   -4.41e+12\n",
       "City_other cities of maharashtra                     -4.433e+13   4.09e+06  -1.09e+07      0.000   -4.43e+13   -4.43e+13\n",
       "City_other metro cities                              -3.675e+13   4.64e+06  -7.91e+06      0.000   -3.67e+13   -3.67e+13\n",
       "City_thane & outskirts                               -1.341e+14   3.41e+06  -3.93e+07      0.000   -1.34e+14   -1.34e+14\n",
       "City_tier ii cities                                   2.435e+14   9.65e+06   2.52e+07      0.000    2.43e+14    2.43e+14\n",
       "A free copy of Mastering The Interview_yes            1.455e+13   2.83e+06   5.14e+06      0.000    1.45e+13    1.45e+13\n",
       "Last Notable Activity_email bounced                  -5.642e+14   7.27e+07  -7.76e+06      0.000   -5.64e+14   -5.64e+14\n",
       "Last Notable Activity_email link clicked              -5.45e+14   7.24e+07  -7.52e+06      0.000   -5.45e+14   -5.45e+14\n",
       "Last Notable Activity_email marked spam               2.052e+13   4.13e+07   4.97e+05      0.000    2.05e+13    2.05e+13\n",
       "Last Notable Activity_email opened                   -6.862e+14   7.17e+07  -9.57e+06      0.000   -6.86e+14   -6.86e+14\n",
       "Last Notable Activity_email received                 -2.347e+14   4.77e+07  -4.92e+06      0.000   -2.35e+14   -2.35e+14\n",
       "Last Notable Activity_form submitted on website         -0.3512   1.54e-08  -2.28e+07      0.000      -0.351      -0.351\n",
       "Last Notable Activity_had a phone conversation       -2.837e+13   7.71e+07  -3.68e+05      0.000   -2.84e+13   -2.84e+13\n",
       "Last Notable Activity_modified                       -5.763e+14   7.16e+07  -8.04e+06      0.000   -5.76e+14   -5.76e+14\n",
       "Last Notable Activity_olark chat conversation        -5.444e+14   7.19e+07  -7.57e+06      0.000   -5.44e+14   -5.44e+14\n",
       "Last Notable Activity_page visited on website        -4.052e+14    7.2e+07  -5.63e+06      0.000   -4.05e+14   -4.05e+14\n",
       "Last Notable Activity_resubscribed to emails          4.748e+14   4.77e+07   9.95e+06      0.000    4.75e+14    4.75e+14\n",
       "Last Notable Activity_sms sent                       -1.025e+14   7.17e+07  -1.43e+06      0.000   -1.02e+14   -1.02e+14\n",
       "Last Notable Activity_unreachable                    -1.102e+15   7.35e+07   -1.5e+07      0.000    -1.1e+15    -1.1e+15\n",
       "Last Notable Activity_unsubscribed                    7.635e+14   7.59e+07   1.01e+07      0.000    7.64e+14    7.64e+14\n",
       "Last Notable Activity_view in browser link clicked            0          0        nan        nan           0           0\n",
       "========================================================================================================================\n",
       "\"\"\""
      ]
     },
     "execution_count": 83,
     "metadata": {},
     "output_type": "execute_result"
    }
   ],
   "source": [
    "import statsmodels.api as sm\n",
    "# Logistic regression model\n",
    "logm1 = sm.GLM(y_train,(sm.add_constant(X_train)), family = sm.families.Binomial())\n",
    "logm1.fit().summary()"
   ]
  },
  {
   "cell_type": "markdown",
   "id": "8de44642",
   "metadata": {},
   "source": [
    "**Model Building**"
   ]
  },
  {
   "cell_type": "code",
   "execution_count": 84,
   "id": "92244dc5",
   "metadata": {},
   "outputs": [],
   "source": [
    "from sklearn.linear_model import LogisticRegression\n",
    "logisticRegr = LogisticRegression()"
   ]
  },
  {
   "cell_type": "code",
   "execution_count": 85,
   "id": "e9bc7ad3",
   "metadata": {},
   "outputs": [
    {
     "data": {
      "text/plain": [
       "LogisticRegression()"
      ]
     },
     "execution_count": 85,
     "metadata": {},
     "output_type": "execute_result"
    }
   ],
   "source": [
    "logisticRegr.fit(X_train, y_train)"
   ]
  },
  {
   "cell_type": "code",
   "execution_count": 86,
   "id": "b4982626",
   "metadata": {},
   "outputs": [
    {
     "data": {
      "text/plain": [
       "0.9363905325443787"
      ]
     },
     "execution_count": 86,
     "metadata": {},
     "output_type": "execute_result"
    }
   ],
   "source": [
    "# Use score method to get accuracy of model\n",
    "prediction = logisticRegr.predict(X_train)\n",
    "test_score = logisticRegr.score(X_test, y_test)\n",
    "test_score"
   ]
  },
  {
   "cell_type": "code",
   "execution_count": 195,
   "id": "c9f9f689",
   "metadata": {},
   "outputs": [
    {
     "data": {
      "text/plain": [
       "(6468, 115)"
      ]
     },
     "execution_count": 195,
     "metadata": {},
     "output_type": "execute_result"
    }
   ],
   "source": [
    "X_train.shape"
   ]
  },
  {
   "cell_type": "code",
   "execution_count": 196,
   "id": "4d88df0e",
   "metadata": {},
   "outputs": [
    {
     "data": {
      "text/plain": [
       "(2772, 115)"
      ]
     },
     "execution_count": 196,
     "metadata": {},
     "output_type": "execute_result"
    }
   ],
   "source": [
    "X_test.shape"
   ]
  },
  {
   "cell_type": "code",
   "execution_count": 87,
   "id": "d8690912",
   "metadata": {},
   "outputs": [],
   "source": [
    "train_pred = logisticRegr.predict(X_train)\n",
    "y_pred = logisticRegr.predict(X_test)"
   ]
  },
  {
   "cell_type": "code",
   "execution_count": 88,
   "id": "8ac56fec",
   "metadata": {},
   "outputs": [
    {
     "name": "stdout",
     "output_type": "stream",
     "text": [
      "train score 0.9405422546377041\n",
      "test score 0.9363905325443787\n"
     ]
    }
   ],
   "source": [
    "from sklearn import metrics\n",
    "train_score = metrics.accuracy_score(y_train, train_pred)\n",
    "test_score = metrics.accuracy_score(y_test, y_pred)\n",
    "print(\"train score\", train_score)\n",
    "print(\"test score\", test_score)"
   ]
  },
  {
   "cell_type": "markdown",
   "id": "62140650",
   "metadata": {},
   "source": [
    "**Confusion Matrix**"
   ]
  },
  {
   "cell_type": "code",
   "execution_count": 116,
   "id": "7d59cf48",
   "metadata": {},
   "outputs": [
    {
     "data": {
      "text/plain": [
       "<Figure size 720x360 with 0 Axes>"
      ]
     },
     "metadata": {},
     "output_type": "display_data"
    },
    {
     "data": {
      "image/png": "[encoded data removed]",
      "text/plain": [
       "<Figure size 432x288 with 2 Axes>"
      ]
     },
     "metadata": {},
     "output_type": "display_data"
    }
   ],
   "source": [
    "from sklearn.metrics import plot_confusion_matrix\n",
    "from sklearn.metrics import confusion_matrix, plot_confusion_matrix\n",
    "\n",
    "#conf_mat = confusion_matrix(y_test, y_pred)\n",
    "#class_names=[0,1]\n",
    "#print(conf_mat)\n",
    "#plt.figure(figsize=(10,5))\n",
    "\n",
    "#plt.grid(False)\n",
    "plt.figure(figsize=(10,5))\n",
    "plot_confusion_matrix(logisticRegr, X_test, y_test)  \n",
    "plt.grid(False)\n",
    "plt.show()"
   ]
  },
  {
   "cell_type": "markdown",
   "id": "def5a9ea",
   "metadata": {},
   "source": [
    "**Evaluation Metrics**"
   ]
  },
  {
   "cell_type": "code",
   "execution_count": 94,
   "id": "ce267ac9",
   "metadata": {},
   "outputs": [
    {
     "name": "stdout",
     "output_type": "stream",
     "text": [
      "confusion Matrix is :\n",
      "\n",
      " [[1571   70]\n",
      " [ 102  961]]\n",
      "\n",
      "\n",
      "ROC-AUC score  test dataset:  \t 0.9810698109302831\n",
      "precision score  test dataset:   0.9321047526673133\n",
      "Recall score  test dataset:  \t 0.9040451552210724\n",
      "f1 score  test dataset :  \t 0.9178605539637058\n"
     ]
    }
   ],
   "source": [
    "from sklearn import metrics\n",
    "from sklearn.metrics import confusion_matrix\n",
    "# predict probabilities on Test and take probability for class 1([:1])\n",
    "y_pred_prob_test = logisticRegr.predict_proba(X_test)[:, 1]\n",
    "#predict labels on test dataset\n",
    "y_pred_test = logisticRegr.predict(X_test)\n",
    "# create onfusion matrix\n",
    "cm = confusion_matrix(y_test, y_pred_test)\n",
    "print(\"confusion Matrix is :\\n\\n\",cm)\n",
    "print(\"\\n\")\n",
    "# ROC- AUC score\n",
    "print(\"ROC-AUC score  test dataset:  \\t\", metrics.roc_auc_score(y_test,y_pred_prob_test))\n",
    "#Precision score\n",
    "print(\"precision score  test dataset:  \", metrics.precision_score(y_test,y_pred_test))\n",
    "#Recall Score\n",
    "print(\"Recall score  test dataset:  \\t\", metrics.recall_score(y_test,y_pred_test))\n",
    "#f1 score\n",
    "print(\"f1 score  test dataset :  \\t\", metrics.f1_score(y_test,y_pred_test))"
   ]
  },
  {
   "cell_type": "markdown",
   "id": "37809508",
   "metadata": {},
   "source": [
    "We have achieved a pretty good Recall score and ROC-AUC score"
   ]
  },
  {
   "cell_type": "markdown",
   "id": "9312264f",
   "metadata": {},
   "source": [
    "**Creating a dataframe with a probability score adjusting the optimal cut-off point as 0.7**"
   ]
  },
  {
   "cell_type": "code",
   "execution_count": 95,
   "id": "aa57cd10",
   "metadata": {},
   "outputs": [
    {
     "data": {
      "text/html": [
       "<div>\n",
       "<style scoped>\n",
       "    .dataframe tbody tr th:only-of-type {\n",
       "        vertical-align: middle;\n",
       "    }\n",
       "\n",
       "    .dataframe tbody tr th {\n",
       "        vertical-align: top;\n",
       "    }\n",
       "\n",
       "    .dataframe thead th {\n",
       "        text-align: right;\n",
       "    }\n",
       "</style>\n",
       "<table border=\"1\" class=\"dataframe\">\n",
       "  <thead>\n",
       "    <tr style=\"text-align: right;\">\n",
       "      <th></th>\n",
       "      <th>Prospect ID</th>\n",
       "      <th>Predicted Probabilities</th>\n",
       "    </tr>\n",
       "  </thead>\n",
       "  <tbody>\n",
       "    <tr>\n",
       "      <th>2694</th>\n",
       "      <td>253</td>\n",
       "      <td>0.035647</td>\n",
       "    </tr>\n",
       "    <tr>\n",
       "      <th>1851</th>\n",
       "      <td>5215</td>\n",
       "      <td>0.001295</td>\n",
       "    </tr>\n",
       "    <tr>\n",
       "      <th>2687</th>\n",
       "      <td>5484</td>\n",
       "      <td>0.001185</td>\n",
       "    </tr>\n",
       "    <tr>\n",
       "      <th>644</th>\n",
       "      <td>5058</td>\n",
       "      <td>0.652299</td>\n",
       "    </tr>\n",
       "    <tr>\n",
       "      <th>92</th>\n",
       "      <td>8075</td>\n",
       "      <td>0.943111</td>\n",
       "    </tr>\n",
       "    <tr>\n",
       "      <th>61</th>\n",
       "      <td>1817</td>\n",
       "      <td>0.491668</td>\n",
       "    </tr>\n",
       "    <tr>\n",
       "      <th>2448</th>\n",
       "      <td>5706</td>\n",
       "      <td>0.988231</td>\n",
       "    </tr>\n",
       "    <tr>\n",
       "      <th>38</th>\n",
       "      <td>3642</td>\n",
       "      <td>0.188102</td>\n",
       "    </tr>\n",
       "    <tr>\n",
       "      <th>555</th>\n",
       "      <td>4959</td>\n",
       "      <td>0.011585</td>\n",
       "    </tr>\n",
       "    <tr>\n",
       "      <th>1212</th>\n",
       "      <td>7409</td>\n",
       "      <td>0.995789</td>\n",
       "    </tr>\n",
       "  </tbody>\n",
       "</table>\n",
       "</div>"
      ],
      "text/plain": [
       "      Prospect ID  Predicted Probabilities\n",
       "2694          253                 0.035647\n",
       "1851         5215                 0.001295\n",
       "2687         5484                 0.001185\n",
       "644          5058                 0.652299\n",
       "92           8075                 0.943111\n",
       "61           1817                 0.491668\n",
       "2448         5706                 0.988231\n",
       "38           3642                 0.188102\n",
       "555          4959                 0.011585\n",
       "1212         7409                 0.995789"
      ]
     },
     "execution_count": 95,
     "metadata": {},
     "output_type": "execute_result"
    }
   ],
   "source": [
    "dep_data = logisticRegr.predict_proba(X_test)[::,1]\n",
    "dep_data = pd.DataFrame(dep_data)\n",
    "dep_data['Prospect ID'] = y_test.index #Here we should put Lead Number or Prospect ID from the original source\n",
    "\n",
    "dep_data.rename(columns = {0:'Predicted Probabilities', 'Prospect ID':'Prospect ID'}, inplace = True)\n",
    "dep_data[['Prospect ID','Predicted Probabilities']].sample(10)\n"
   ]
  },
  {
   "cell_type": "code",
   "execution_count": 103,
   "id": "cd2149d4",
   "metadata": {},
   "outputs": [
    {
     "data": {
      "text/html": [
       "<div>\n",
       "<style scoped>\n",
       "    .dataframe tbody tr th:only-of-type {\n",
       "        vertical-align: middle;\n",
       "    }\n",
       "\n",
       "    .dataframe tbody tr th {\n",
       "        vertical-align: top;\n",
       "    }\n",
       "\n",
       "    .dataframe thead th {\n",
       "        text-align: right;\n",
       "    }\n",
       "</style>\n",
       "<table border=\"1\" class=\"dataframe\">\n",
       "  <thead>\n",
       "    <tr style=\"text-align: right;\">\n",
       "      <th></th>\n",
       "      <th>Prospect ID</th>\n",
       "      <th>Converted</th>\n",
       "      <th>Predicted</th>\n",
       "      <th>Score</th>\n",
       "    </tr>\n",
       "  </thead>\n",
       "  <tbody>\n",
       "    <tr>\n",
       "      <th>1176</th>\n",
       "      <td>9126</td>\n",
       "      <td>1</td>\n",
       "      <td>1</td>\n",
       "      <td>99.11</td>\n",
       "    </tr>\n",
       "    <tr>\n",
       "      <th>1015</th>\n",
       "      <td>1286</td>\n",
       "      <td>1</td>\n",
       "      <td>1</td>\n",
       "      <td>74.83</td>\n",
       "    </tr>\n",
       "    <tr>\n",
       "      <th>965</th>\n",
       "      <td>7457</td>\n",
       "      <td>0</td>\n",
       "      <td>0</td>\n",
       "      <td>2.11</td>\n",
       "    </tr>\n",
       "    <tr>\n",
       "      <th>1424</th>\n",
       "      <td>2359</td>\n",
       "      <td>0</td>\n",
       "      <td>1</td>\n",
       "      <td>97.56</td>\n",
       "    </tr>\n",
       "    <tr>\n",
       "      <th>456</th>\n",
       "      <td>5913</td>\n",
       "      <td>1</td>\n",
       "      <td>1</td>\n",
       "      <td>99.64</td>\n",
       "    </tr>\n",
       "  </tbody>\n",
       "</table>\n",
       "</div>"
      ],
      "text/plain": [
       "      Prospect ID  Converted  Predicted  Score\n",
       "1176         9126          1          1  99.11\n",
       "1015         1286          1          1  74.83\n",
       "965          7457          0          0   2.11\n",
       "1424         2359          0          1  97.56\n",
       "456          5913          1          1  99.64"
      ]
     },
     "execution_count": 103,
     "metadata": {},
     "output_type": "execute_result"
    }
   ],
   "source": [
    "dep_data['Converted'] = y_test.values\n",
    "dep_data['Predicted'] = dep_data['Predicted Probabilities'].map(lambda x: 1 if x > 0.7 else 0) # Defining an optimal cut-off 0f 0.7\n",
    "dep_data['Score'] = round(dep_data['Predicted Probabilities']*100,2)\n",
    "dep_data[['Prospect ID','Converted','Predicted','Score']].sample(5)"
   ]
  },
  {
   "cell_type": "code",
   "execution_count": null,
   "id": "a0271b44",
   "metadata": {},
   "outputs": [],
   "source": [
    "#Leave this part for testing purpose "
   ]
  },
  {
   "cell_type": "code",
   "execution_count": 218,
   "id": "db292c0b",
   "metadata": {},
   "outputs": [
    {
     "data": {
      "text/plain": [
       "Index(['TotalVisits', 'Total Time Spent on Website', 'Page Views Per Visit',\n",
       "       'Lead Origin_landing page submission', 'Lead Origin_lead add form',\n",
       "       'Lead Origin_lead import', 'Lead Origin_quick add form',\n",
       "       'Lead Source_facebook', 'Lead Source_google', 'Lead Source_olark chat',\n",
       "       ...\n",
       "       'Last Notable Activity_form submitted on website',\n",
       "       'Last Notable Activity_had a phone conversation',\n",
       "       'Last Notable Activity_modified',\n",
       "       'Last Notable Activity_olark chat conversation',\n",
       "       'Last Notable Activity_page visited on website',\n",
       "       'Last Notable Activity_resubscribed to emails',\n",
       "       'Last Notable Activity_sms sent', 'Last Notable Activity_unreachable',\n",
       "       'Last Notable Activity_unsubscribed',\n",
       "       'Last Notable Activity_view in browser link clicked'],\n",
       "      dtype='object', length=115)"
      ]
     },
     "execution_count": 218,
     "metadata": {},
     "output_type": "execute_result"
    }
   ],
   "source": [
    "X_train.columns"
   ]
  },
  {
   "cell_type": "code",
   "execution_count": 205,
   "id": "dfe3dff1",
   "metadata": {},
   "outputs": [],
   "source": [
    "#Deployment Test\n",
    "new_data = np.array([3,57,14.26,2.993,0,1,0,0,0]).reshape(1, -1)\n",
    "new_pred=logreg.predict_proba(new_data)[:,1][0]\n",
    "print(\"\\033[1m This new loan applicant has a {:.2%}\".format(new_pred), \"chance of defaulting on a new debt\")"
   ]
  },
  {
   "cell_type": "code",
   "execution_count": null,
   "id": "0232fded",
   "metadata": {},
   "outputs": [],
   "source": []
  },
  {
   "cell_type": "code",
   "execution_count": 117,
   "id": "498122e6",
   "metadata": {},
   "outputs": [
    {
     "name": "stdout",
     "output_type": "stream",
     "text": [
      "[[1571   70]\n",
      " [ 102  961]]\n"
     ]
    }
   ],
   "source": [
    "#Explaining the result of confusion matrix\n",
    "from sklearn.metrics import confusion_matrix\n",
    "confusion_matrix = confusion_matrix(y_test, y_pred)\n",
    "print(confusion_matrix)"
   ]
  },
  {
   "cell_type": "code",
   "execution_count": 118,
   "id": "70652d93",
   "metadata": {},
   "outputs": [
    {
     "name": "stdout",
     "output_type": "stream",
     "text": [
      "\u001b[1m The result is telling us that we have:  2532 correct predictions\u001b[1m\n",
      "\u001b[1m The result is telling us that we have:  172 incorrect predictions\u001b[1m\n",
      "\u001b[1m We have a total predictions of:  2704\n"
     ]
    }
   ],
   "source": [
    "print(\"\\033[1m The result is telling us that we have: \" ,(confusion_matrix[0,0]+confusion_matrix[1,1]),\"correct predictions\\033[1m\")\n",
    "print(\"\\033[1m The result is telling us that we have: \",(confusion_matrix[0,1]+confusion_matrix[1,0]),\"incorrect predictions\\033[1m\")\n",
    "print(\"\\033[1m We have a total predictions of: \",(confusion_matrix.sum()))"
   ]
  },
  {
   "cell_type": "code",
   "execution_count": null,
   "id": "5bb8bc8a",
   "metadata": {},
   "outputs": [],
   "source": []
  },
  {
   "cell_type": "markdown",
   "id": "78a6451b",
   "metadata": {},
   "source": [
    "**Experimentation with other classification models**"
   ]
  },
  {
   "cell_type": "markdown",
   "id": "a5617fbd",
   "metadata": {},
   "source": [
    "**Gradient Boosting Classifier**"
   ]
  },
  {
   "cell_type": "code",
   "execution_count": 120,
   "id": "081b0c25",
   "metadata": {},
   "outputs": [
    {
     "name": "stdout",
     "output_type": "stream",
     "text": [
      "Learning rate:  0.05\n",
      "Accuracy score (training): 0.875\n",
      "Accuracy score (validation): 0.872\n",
      "Learning rate:  0.075\n",
      "Accuracy score (training): 0.894\n",
      "Accuracy score (validation): 0.891\n",
      "Learning rate:  0.1\n",
      "Accuracy score (training): 0.905\n",
      "Accuracy score (validation): 0.901\n",
      "Learning rate:  0.25\n",
      "Accuracy score (training): 0.932\n",
      "Accuracy score (validation): 0.927\n",
      "Learning rate:  0.5\n",
      "Accuracy score (training): 0.943\n",
      "Accuracy score (validation): 0.938\n",
      "Learning rate:  0.75\n",
      "Accuracy score (training): 0.947\n",
      "Accuracy score (validation): 0.938\n",
      "Learning rate:  1\n",
      "Accuracy score (training): 0.945\n",
      "Accuracy score (validation): 0.928\n"
     ]
    }
   ],
   "source": [
    "from sklearn.metrics import classification_report, confusion_matrix\n",
    "from sklearn.ensemble import GradientBoostingClassifier\n",
    "lr_list = [0.05, 0.075, 0.1, 0.25, 0.5, 0.75, 1]\n",
    "\n",
    "for learning_rate in lr_list:\n",
    "    gb_clf = GradientBoostingClassifier(n_estimators=20, learning_rate=learning_rate, max_features=8, max_depth=4, random_state=0)\n",
    "    gb_clf.fit(X_train, y_train)\n",
    "\n",
    "    print(\"Learning rate: \", learning_rate)\n",
    "    print(\"Accuracy score (training): {0:.3f}\".format(gb_clf.score(X_train, y_train)))\n",
    "    print(\"Accuracy score (validation): {0:.3f}\".format(gb_clf.score(X_test, y_test)))"
   ]
  },
  {
   "cell_type": "code",
   "execution_count": null,
   "id": "7f86998d",
   "metadata": {},
   "outputs": [],
   "source": []
  },
  {
   "cell_type": "markdown",
   "id": "be64ab67",
   "metadata": {},
   "source": [
    "**Decision Tree**"
   ]
  },
  {
   "cell_type": "code",
   "execution_count": 121,
   "id": "0a1356fa",
   "metadata": {},
   "outputs": [],
   "source": [
    "from sklearn.tree import DecisionTreeClassifier\n",
    "from sklearn import metrics"
   ]
  },
  {
   "cell_type": "code",
   "execution_count": 122,
   "id": "d738c762",
   "metadata": {},
   "outputs": [],
   "source": [
    "# Create Decision Tree classifer object\n",
    "clf = DecisionTreeClassifier()\n",
    "\n",
    "# Train Decision Tree Classifer\n",
    "clf = clf.fit(X_train,y_train)\n",
    "\n",
    "#Predict the response for test dataset\n",
    "y_pred = clf.predict(X_test)"
   ]
  },
  {
   "cell_type": "code",
   "execution_count": 123,
   "id": "0811af27",
   "metadata": {},
   "outputs": [
    {
     "name": "stdout",
     "output_type": "stream",
     "text": [
      "Accuracy: 0.911612426035503\n"
     ]
    }
   ],
   "source": [
    "print(\"Accuracy:\",metrics.accuracy_score(y_test, y_pred))"
   ]
  },
  {
   "cell_type": "code",
   "execution_count": 124,
   "id": "6c6ad03f",
   "metadata": {},
   "outputs": [
    {
     "name": "stdout",
     "output_type": "stream",
     "text": [
      "Accuracy: 0.9319526627218935\n"
     ]
    }
   ],
   "source": [
    "# Create Decision Tree classifer object\n",
    "clf = DecisionTreeClassifier(criterion=\"entropy\", max_depth=12)\n",
    "\n",
    "# Train Decision Tree Classifer\n",
    "clf = clf.fit(X_train,y_train)\n",
    "\n",
    "#Predict the response for test dataset\n",
    "y_pred = clf.predict(X_test)\n",
    "\n",
    "# Model Accuracy, how often is the classifier correct?\n",
    "print(\"Accuracy:\",metrics.accuracy_score(y_test, y_pred))"
   ]
  },
  {
   "cell_type": "code",
   "execution_count": 125,
   "id": "68808467",
   "metadata": {},
   "outputs": [
    {
     "name": "stdout",
     "output_type": "stream",
     "text": [
      "Train set accuracy: 0.9689234184239733\n",
      "Test set accuracy: 0.9319526627218935\n"
     ]
    }
   ],
   "source": [
    "#train and test set prediction\n",
    "y_pred = clf.predict(X_test)\n",
    "y_pred_train = clf.predict(X_train)\n",
    "print(\"Train set accuracy:\",metrics.accuracy_score(y_train, y_pred_train))\n",
    "print(\"Test set accuracy:\",metrics.accuracy_score(y_test, y_pred))"
   ]
  },
  {
   "cell_type": "code",
   "execution_count": null,
   "id": "263edcf2",
   "metadata": {},
   "outputs": [],
   "source": []
  },
  {
   "cell_type": "markdown",
   "id": "bc013467",
   "metadata": {},
   "source": [
    "**Random Forest**"
   ]
  },
  {
   "cell_type": "code",
   "execution_count": 126,
   "id": "7eab204b",
   "metadata": {},
   "outputs": [],
   "source": [
    "#Import Random Forest Model\n",
    "from sklearn.ensemble import RandomForestClassifier\n",
    "\n",
    "#Create a Gaussian Classifier\n",
    "clf=RandomForestClassifier(n_estimators=100)\n",
    "\n",
    "#Train the model using the training sets y_pred=clf.predict(X_test)\n",
    "clf.fit(X_train,y_train)\n",
    "\n",
    "y_pred=clf.predict(X_test)"
   ]
  },
  {
   "cell_type": "code",
   "execution_count": 127,
   "id": "47c1118a",
   "metadata": {},
   "outputs": [
    {
     "name": "stdout",
     "output_type": "stream",
     "text": [
      "Accuracy: 0.9434171597633136\n"
     ]
    }
   ],
   "source": [
    "#Import scikit-learn metrics module for accuracy calculation\n",
    "from sklearn import metrics\n",
    "# Model Accuracy, how often is the classifier correct?\n",
    "print(\"Accuracy:\",metrics.accuracy_score(y_test, y_pred))"
   ]
  },
  {
   "cell_type": "code",
   "execution_count": 128,
   "id": "b2d02c28",
   "metadata": {},
   "outputs": [
    {
     "name": "stdout",
     "output_type": "stream",
     "text": [
      "Train set accuracy: 0.9914380846678293\n",
      "Test set accuracy: 0.9434171597633136\n"
     ]
    }
   ],
   "source": [
    "#train and test set prediction\n",
    "y_pred = clf.predict(X_test)\n",
    "y_pred_train = clf.predict(X_train)\n",
    "print(\"Train set accuracy:\",metrics.accuracy_score(y_train, y_pred_train))\n",
    "print(\"Test set accuracy:\",metrics.accuracy_score(y_test, y_pred))"
   ]
  },
  {
   "cell_type": "markdown",
   "id": "c7b1fe1a",
   "metadata": {},
   "source": [
    "**In terms of Model Performance, Random Forest is always been the first choice**"
   ]
  },
  {
   "cell_type": "markdown",
   "id": "6282b2e0",
   "metadata": {},
   "source": [
    "**Model Performance vs Model Interpretability Trade-off**"
   ]
  },
  {
   "cell_type": "markdown",
   "id": "c72728d2",
   "metadata": {},
   "source": [
    "As of now, we have seen Logistic Regression performing well in test dataset. Random Forest giving us 94% accuracy on test data. Logistic Regression performed just 1% less comapred to Random Forest. So, we will choose Logistic Regression model this time because of the model interpretation. We can easily find the coefficient and p-value of individual feature by summarizing the model. We can say which predictor variable responsible by how much or in other words, how and precisely what change would make significance in explaining the model.\n",
    "Random Forest is hard to interpret."
   ]
  },
  {
   "cell_type": "code",
   "execution_count": null,
   "id": "7855ff88",
   "metadata": {},
   "outputs": [],
   "source": []
  },
  {
   "cell_type": "code",
   "execution_count": 129,
   "id": "d2f70d45",
   "metadata": {},
   "outputs": [
    {
     "name": "stdout",
     "output_type": "stream",
     "text": [
      " 1) Lead Quality_low in relevance 0.172228\n",
      " 2) Page Views Per Visit 0.127795\n",
      " 3) Tags_will revert after reading the email 0.062408\n",
      " 4) Tags_ringing    0.051400\n",
      " 5) Last Notable Activity_unreachable 0.049974\n",
      " 6) Lead Quality_not sure 0.040716\n",
      " 7) Tags_interested in other courses 0.038078\n",
      " 8) Lead Origin_lead import 0.031386\n",
      " 9) Lead Origin_landing page submission 0.027741\n",
      "10) Tags_other tags 0.027714\n",
      "11) Last Activity_unreachable 0.027033\n",
      "12) Total Time Spent on Website 0.026966\n",
      "13) Tags_not specified 0.024620\n",
      "14) What is your current occupation_other 0.024545\n",
      "15) Lead Quality_not mentioned 0.022814\n",
      "16) Tags_lost to eins 0.019510\n",
      "17) What is your current occupation_working professional 0.016429\n",
      "18) Last Notable Activity_olark chat conversation 0.014480\n",
      "19) City_not mentioned 0.014370\n",
      "20) Lead Quality_worst 0.014273\n",
      "21) Lead Quality_might be 0.013016\n",
      "22) Search_yes      0.011908\n",
      "23) Lead Source_referral sites 0.011012\n",
      "24) Specialization_media and advertising 0.007240\n",
      "25) Lead Source_olark chat 0.006646\n",
      "26) Last Activity_email received 0.006611\n",
      "27) Country_others  0.006479\n",
      "28) Specialization_rural and agribusiness 0.006388\n",
      "29) Do Not Email_yes 0.006368\n",
      "30) Do Not Call_yes 0.006305\n",
      "31) Last Notable Activity_email bounced 0.006150\n",
      "32) Last Notable Activity_email received 0.006031\n",
      "33) Last Activity_page visited on website 0.005923\n",
      "34) City_other cities 0.005488\n",
      "35) Lead Origin_lead add form 0.005467\n",
      "36) Lead Source_others 0.005155\n",
      "37) City_other cities of maharashtra 0.004481\n",
      "38) City_tier ii cities 0.004065\n",
      "39) Lead Source_organic search 0.003526\n",
      "40) City_other metro cities 0.003353\n",
      "41) Last Activity_email bounced 0.002450\n",
      "42) Specialization_e-business 0.002355\n",
      "43) City_thane & outskirts 0.002236\n",
      "44) Last Activity_resubscribed to emails 0.002105\n",
      "45) Country_united states 0.002060\n",
      "46) Last Activity_email link clicked 0.001963\n",
      "47) Specialization_not mentioned 0.001666\n",
      "48) Last Activity_email marked spam 0.001619\n",
      "49) Specialization_management specializations 0.001598\n",
      "50) What is your current occupation_housewife 0.001335\n",
      "51) Last Notable Activity_resubscribed to emails 0.001183\n",
      "52) Specialization_international business 0.001048\n",
      "53) Last Notable Activity_page visited on website 0.000973\n",
      "54) Lead Source_welingak website 0.000937\n",
      "55) Last Activity_olark chat conversation 0.000898\n",
      "56) What is your current occupation_unemployed 0.000898\n",
      "57) Last Notable Activity_email marked spam 0.000829\n",
      "58) Last Activity_had a phone conversation 0.000754\n",
      "59) Lead Source_reference 0.000725\n",
      "60) A free copy of Mastering The Interview_yes 0.000672\n",
      "61) Last Notable Activity_view in browser link clicked 0.000616\n",
      "62) Last Notable Activity_email link clicked 0.000556\n",
      "63) Lead Source_google 0.000525\n",
      "64) Specialization_e-commerce 0.000517\n",
      "65) Last Notable Activity_unsubscribed 0.000473\n",
      "66) Last Activity_unsubscribed 0.000465\n",
      "67) Last Activity_view in browser link clicked 0.000463\n",
      "68) Specialization_business administration 0.000452\n",
      "69) Specialization_services excellence 0.000370\n",
      "70) Lead Origin_quick add form 0.000330\n",
      "71) Specialization_travel and tourism 0.000243\n",
      "72) Last Activity_sms sent 0.000109\n",
      "73) What is your current occupation_student 0.000099\n",
      "74) Last Notable Activity_sms sent 0.000098\n",
      "75) Last Notable Activity_modified 0.000089\n",
      "76) Newspaper_yes   0.000082\n",
      "77) Through Recommendations_yes 0.000041\n",
      "78) Last Activity_converted to lead 0.000024\n",
      "79) What is your current occupation_not mentioned 0.000021\n",
      "80) Last Activity_email opened 0.000013\n",
      "81) Last Notable Activity_email opened 0.000011\n",
      "82) Tags_closed by horizzon 0.000002\n",
      "83) Last Activity_form submitted on website 0.000000\n",
      "84) Last Notable Activity_form submitted on website 0.000000\n",
      "85) Last Notable Activity_had a phone conversation 0.000000\n",
      "86) Digital Advertisement_yes 0.000000\n",
      "87) Lead Source_facebook 0.000000\n",
      "88) Country_not mentioned 0.000000\n",
      "89) Last Activity_visited booth in tradeshow 0.000000\n"
     ]
    },
    {
     "ename": "IndexError",
     "evalue": "index 89 is out of bounds for axis 0 with size 89",
     "output_type": "error",
     "traceback": [
      "\u001b[1;31m---------------------------------------------------------------------------\u001b[0m",
      "\u001b[1;31mIndexError\u001b[0m                                Traceback (most recent call last)",
      "Input \u001b[1;32mIn [129]\u001b[0m, in \u001b[0;36m<cell line: 9>\u001b[1;34m()\u001b[0m\n\u001b[0;32m      7\u001b[0m feat_labels \u001b[38;5;241m=\u001b[39m X_train\u001b[38;5;241m.\u001b[39mcolumns[\u001b[38;5;241m1\u001b[39m:]\n\u001b[0;32m      9\u001b[0m \u001b[38;5;28;01mfor\u001b[39;00m f \u001b[38;5;129;01min\u001b[39;00m \u001b[38;5;28mrange\u001b[39m(X_train\u001b[38;5;241m.\u001b[39mshape[\u001b[38;5;241m1\u001b[39m]):\n\u001b[0;32m     10\u001b[0m     \u001b[38;5;28mprint\u001b[39m(\u001b[38;5;124m\"\u001b[39m\u001b[38;5;132;01m%2d\u001b[39;00m\u001b[38;5;124m) \u001b[39m\u001b[38;5;132;01m%-*s\u001b[39;00m\u001b[38;5;124m \u001b[39m\u001b[38;5;132;01m%f\u001b[39;00m\u001b[38;5;124m\"\u001b[39m \u001b[38;5;241m%\u001b[39m (f \u001b[38;5;241m+\u001b[39m \u001b[38;5;241m1\u001b[39m, \u001b[38;5;241m15\u001b[39m,\n\u001b[1;32m---> 11\u001b[0m                             \u001b[43mfeat_labels\u001b[49m\u001b[43m[\u001b[49m\u001b[43msorted_indices\u001b[49m\u001b[43m[\u001b[49m\u001b[43mf\u001b[49m\u001b[43m]\u001b[49m\u001b[43m]\u001b[49m,\n\u001b[0;32m     12\u001b[0m                             importances[sorted_indices[f]]))\n",
      "File \u001b[1;32mC:\\ProgramData\\Anaconda3\\lib\\site-packages\\pandas\\core\\indexes\\base.py:5039\u001b[0m, in \u001b[0;36mIndex.__getitem__\u001b[1;34m(self, key)\u001b[0m\n\u001b[0;32m   5036\u001b[0m \u001b[38;5;28;01mif\u001b[39;00m is_integer(key) \u001b[38;5;129;01mor\u001b[39;00m is_float(key):\n\u001b[0;32m   5037\u001b[0m     \u001b[38;5;66;03m# GH#44051 exclude bool, which would return a 2d ndarray\u001b[39;00m\n\u001b[0;32m   5038\u001b[0m     key \u001b[38;5;241m=\u001b[39m com\u001b[38;5;241m.\u001b[39mcast_scalar_indexer(key, warn_float\u001b[38;5;241m=\u001b[39m\u001b[38;5;28;01mTrue\u001b[39;00m)\n\u001b[1;32m-> 5039\u001b[0m     \u001b[38;5;28;01mreturn\u001b[39;00m \u001b[43mgetitem\u001b[49m\u001b[43m(\u001b[49m\u001b[43mkey\u001b[49m\u001b[43m)\u001b[49m\n\u001b[0;32m   5041\u001b[0m \u001b[38;5;28;01mif\u001b[39;00m \u001b[38;5;28misinstance\u001b[39m(key, \u001b[38;5;28mslice\u001b[39m):\n\u001b[0;32m   5042\u001b[0m     \u001b[38;5;66;03m# This case is separated from the conditional above to avoid\u001b[39;00m\n\u001b[0;32m   5043\u001b[0m     \u001b[38;5;66;03m# pessimization com.is_bool_indexer and ndim checks.\u001b[39;00m\n\u001b[0;32m   5044\u001b[0m     result \u001b[38;5;241m=\u001b[39m getitem(key)\n",
      "\u001b[1;31mIndexError\u001b[0m: index 89 is out of bounds for axis 0 with size 89"
     ]
    }
   ],
   "source": [
    "importances = clf.feature_importances_\n",
    "#\n",
    "# Sort the feature importance in descending order\n",
    "#\n",
    "sorted_indices = np.argsort(importances)[::-1]\n",
    " \n",
    "feat_labels = X_train.columns[1:]\n",
    " \n",
    "for f in range(X_train.shape[1]):\n",
    "    print(\"%2d) %-*s %f\" % (f + 1, 15,\n",
    "                            feat_labels[sorted_indices[f]],\n",
    "                            importances[sorted_indices[f]]))"
   ]
  },
  {
   "cell_type": "code",
   "execution_count": 133,
   "id": "29e6e814",
   "metadata": {},
   "outputs": [
    {
     "data": {
      "text/plain": [
       "Tags_will revert after reading the email         0.172228\n",
       "Total Time Spent on Website                      0.127795\n",
       "Tags_ringing                                     0.062408\n",
       "Tags_other tags                                  0.051400\n",
       "Last Notable Activity_sms sent                   0.049974\n",
       "Lead Quality_not mentioned                       0.040716\n",
       "Tags_closed by horizzon                          0.038078\n",
       "Lead Origin_lead add form                        0.031386\n",
       "Page Views Per Visit                             0.027741\n",
       "Tags_not specified                               0.027714\n",
       "Last Activity_sms sent                           0.027033\n",
       "TotalVisits                                      0.026966\n",
       "Tags_lost to eins                                0.024620\n",
       "What is your current occupation_not mentioned    0.024545\n",
       "Lead Quality_might be                            0.022814\n",
       "dtype: float64"
      ]
     },
     "execution_count": 133,
     "metadata": {},
     "output_type": "execute_result"
    }
   ],
   "source": [
    "feature_imp = pd.Series(clf.feature_importances_,index=X_train.columns).sort_values(ascending=False)\n",
    "feature_imp.nlargest(15)"
   ]
  },
  {
   "cell_type": "code",
   "execution_count": null,
   "id": "9fa7851d",
   "metadata": {},
   "outputs": [],
   "source": []
  },
  {
   "cell_type": "markdown",
   "id": "37f77648",
   "metadata": {},
   "source": [
    "**AdaBoost Classifier**"
   ]
  },
  {
   "cell_type": "code",
   "execution_count": 136,
   "id": "8b8fa9aa",
   "metadata": {},
   "outputs": [],
   "source": [
    "from sklearn.ensemble import AdaBoostClassifier\n",
    "# Create adaboost classifer object\n",
    "abc = AdaBoostClassifier(n_estimators=50,\n",
    "                         learning_rate=1)\n",
    "# Train Adaboost Classifer\n",
    "model = abc.fit(X_train, y_train)\n",
    "\n",
    "#Predict the response for test dataset\n",
    "y_pred = model.predict(X_test)"
   ]
  },
  {
   "cell_type": "code",
   "execution_count": 137,
   "id": "f14fa610",
   "metadata": {},
   "outputs": [
    {
     "name": "stdout",
     "output_type": "stream",
     "text": [
      "Accuracy: 0.9393491124260355\n"
     ]
    }
   ],
   "source": [
    "print(\"Accuracy:\",metrics.accuracy_score(y_test, y_pred))"
   ]
  },
  {
   "cell_type": "code",
   "execution_count": 138,
   "id": "c49a35ff",
   "metadata": {},
   "outputs": [
    {
     "name": "stdout",
     "output_type": "stream",
     "text": [
      "Train set accuracy: 0.9410179166006025\n",
      "Test set accuracy: 0.9393491124260355\n"
     ]
    }
   ],
   "source": [
    "#train and test set prediction\n",
    "y_pred = model.predict(X_test)\n",
    "y_pred_train = model.predict(X_train)\n",
    "print(\"Train set accuracy:\",metrics.accuracy_score(y_train, y_pred_train))\n",
    "print(\"Test set accuracy:\",metrics.accuracy_score(y_test, y_pred))"
   ]
  },
  {
   "cell_type": "markdown",
   "id": "4add9662",
   "metadata": {},
   "source": [
    "**Cat Boost**"
   ]
  },
  {
   "cell_type": "code",
   "execution_count": 139,
   "id": "33a61312",
   "metadata": {},
   "outputs": [
    {
     "name": "stdout",
     "output_type": "stream",
     "text": [
      "[0, 1, 2, 3, 4, 5, 6, 7, 8, 9, 10, 11, 12, 13, 14, 15, 16, 17, 18, 19, 20, 21, 22, 23, 24, 25, 26, 27, 28, 29, 30, 31, 32, 33, 34, 35, 36, 37, 38, 39, 40, 41, 42, 43, 44, 45, 46, 47, 48, 49, 50, 51, 52, 53, 54, 55, 56, 57, 58, 59, 60, 61, 62, 63, 64, 65, 66, 67, 68, 69, 70, 71, 72, 73, 74, 75, 76, 77, 78, 79, 80, 81, 82, 83, 84, 85, 86, 87, 88, 89]\n"
     ]
    }
   ],
   "source": [
    "cat_features = list(range(0, X.shape[1]))\n",
    "print(cat_features)"
   ]
  },
  {
   "cell_type": "code",
   "execution_count": 140,
   "id": "e63f634c",
   "metadata": {},
   "outputs": [
    {
     "name": "stdout",
     "output_type": "stream",
     "text": [
      "0:\tlearn: 0.5730718\ttotal: 183ms\tremaining: 732ms\n",
      "1:\tlearn: 0.4904534\ttotal: 196ms\tremaining: 295ms\n",
      "2:\tlearn: 0.4233657\ttotal: 209ms\tremaining: 139ms\n",
      "3:\tlearn: 0.3750037\ttotal: 223ms\tremaining: 55.6ms\n",
      "4:\tlearn: 0.3334313\ttotal: 236ms\tremaining: 0us\n",
      "CatBoost model is fitted: True\n",
      "CatBoost model parameters:\n",
      "{'iterations': 5, 'learning_rate': 0.1}\n"
     ]
    }
   ],
   "source": [
    "from catboost import CatBoostClassifier\n",
    "clf = CatBoostClassifier(\n",
    "    iterations=5, \n",
    "    learning_rate=0.1, \n",
    "    #loss_function='CrossEntropy'\n",
    ")\n",
    "\n",
    "\n",
    "clf.fit(X_train, y_train)\n",
    "\n",
    "print('CatBoost model is fitted: ' + str(clf.is_fitted()))\n",
    "print('CatBoost model parameters:')\n",
    "print(clf.get_params())"
   ]
  },
  {
   "cell_type": "code",
   "execution_count": 141,
   "id": "4edac84e",
   "metadata": {},
   "outputs": [
    {
     "name": "stdout",
     "output_type": "stream",
     "text": [
      "0:\tlearn: 0.5730718\ttotal: 8.94ms\tremaining: 80.4ms\n",
      "1:\tlearn: 0.4904534\ttotal: 17.9ms\tremaining: 71.6ms\n",
      "2:\tlearn: 0.4233657\ttotal: 26.6ms\tremaining: 62.1ms\n",
      "3:\tlearn: 0.3750037\ttotal: 35.7ms\tremaining: 53.6ms\n",
      "4:\tlearn: 0.3334313\ttotal: 44.8ms\tremaining: 44.8ms\n",
      "5:\tlearn: 0.3103473\ttotal: 53.6ms\tremaining: 35.7ms\n",
      "6:\tlearn: 0.2881988\ttotal: 62.3ms\tremaining: 26.7ms\n",
      "7:\tlearn: 0.2691964\ttotal: 73ms\tremaining: 18.2ms\n",
      "8:\tlearn: 0.2544694\ttotal: 82ms\tremaining: 9.11ms\n",
      "9:\tlearn: 0.2406278\ttotal: 90.7ms\tremaining: 0us\n"
     ]
    }
   ],
   "source": [
    "from catboost import CatBoostClassifier\n",
    "clf = CatBoostClassifier(\n",
    "    iterations=10,learning_rate=0.1\n",
    "#     verbose=5,\n",
    ")\n",
    "\n",
    "model = clf.fit(X_train, y_train)"
   ]
  },
  {
   "cell_type": "code",
   "execution_count": 142,
   "id": "b6739328",
   "metadata": {},
   "outputs": [
    {
     "name": "stdout",
     "output_type": "stream",
     "text": [
      "Accuracy: 0.9271449704142012\n"
     ]
    }
   ],
   "source": [
    "y_pred = model.predict(X_test)\n",
    "print(\"Accuracy:\",metrics.accuracy_score(y_test, y_pred))"
   ]
  },
  {
   "cell_type": "code",
   "execution_count": 143,
   "id": "d856edf4",
   "metadata": {},
   "outputs": [
    {
     "name": "stdout",
     "output_type": "stream",
     "text": [
      "Train set accuracy: 0.9307119074044712\n",
      "Test set accuracy: 0.9271449704142012\n"
     ]
    }
   ],
   "source": [
    "#train and test set prediction\n",
    "y_pred = model.predict(X_test)\n",
    "y_pred_train = model.predict(X_train)\n",
    "print(\"Train set accuracy:\",metrics.accuracy_score(y_train, y_pred_train))\n",
    "print(\"Test set accuracy:\",metrics.accuracy_score(y_test, y_pred))"
   ]
  },
  {
   "cell_type": "markdown",
   "id": "0e20de72",
   "metadata": {},
   "source": [
    "**Bias-Variance Tradeoff**"
   ]
  },
  {
   "cell_type": "markdown",
   "id": "262a97fe",
   "metadata": {},
   "source": [
    "1. Logistic Regression\n",
    "train score 0.9405422546377041\n",
    "test score 0.9363905325443787\n",
    "\n",
    "2. Gradient Boosting Classifier\n",
    "Accuracy score (training): 0.945\n",
    "Accuracy score (validation): 0.928\n",
    "\n",
    "3. Decision Tree\n",
    "Train set accuracy: 0.9689234184239733\n",
    "Test set accuracy: 0.9319526627218935\n",
    "\n",
    "4. Random Forest\n",
    "Train set accuracy: 0.9914380846678293\n",
    "Test set accuracy: 0.9434171597633136\n",
    "\n",
    "5. Adaboost\n",
    "Train set accuracy: 0.9410179166006025\n",
    "Test set accuracy: 0.9393491124260355\n",
    "\n",
    "6. Catboost\n",
    "Train set accuracy: 0.9307119074044712\n",
    "Test set accuracy: 0.9271449704142012"
   ]
  },
  {
   "cell_type": "markdown",
   "id": "9fcd29d5",
   "metadata": {},
   "source": [
    "Here we can see, Random Forest is giving us the best performance where we are getting test score better than trainset score. Logistic Regression model is also performing well. Random Forest captured some noise, giving us low test score comapred to train score. This indicating high variance model or in other words we can say it's overfitted as the difference margin of train and testset score is moderate but not so high.\n",
    "\n",
    "In the model tunning part we will fix the overfitting problem of Random Forest model.\n",
    "\n",
    "In the Model Interpretability vs Model Performance section we will discuss about the strength of interpretability of Logistic Regression and strength of performance of Random Forest in terms of model accuracy score."
   ]
  },
  {
   "cell_type": "markdown",
   "id": "c9d747e8",
   "metadata": {},
   "source": [
    "**Feature Selection**"
   ]
  },
  {
   "cell_type": "code",
   "execution_count": 144,
   "id": "35f0d830",
   "metadata": {},
   "outputs": [
    {
     "data": {
      "text/plain": [
       "[('TotalVisits', False, 43),\n",
       " ('Total Time Spent on Website', True, 1),\n",
       " ('Page Views Per Visit', False, 46),\n",
       " ('Lead Origin_landing page submission', False, 30),\n",
       " ('Lead Origin_lead add form', False, 21),\n",
       " ('Lead Origin_lead import', False, 20),\n",
       " ('Lead Origin_quick add form', False, 72),\n",
       " ('Lead Source_facebook', True, 1),\n",
       " ('Lead Source_google', False, 45),\n",
       " ('Lead Source_olark chat', False, 56),\n",
       " ('Lead Source_organic search', False, 66),\n",
       " ('Lead Source_others', False, 9),\n",
       " ('Lead Source_reference', False, 22),\n",
       " ('Lead Source_referral sites', False, 44),\n",
       " ('Lead Source_welingak website', True, 1),\n",
       " ('Do Not Email_yes', False, 8),\n",
       " ('Do Not Call_yes', False, 53),\n",
       " ('Last Activity_converted to lead', False, 28),\n",
       " ('Last Activity_email bounced', False, 13),\n",
       " ('Last Activity_email link clicked', False, 33),\n",
       " ('Last Activity_email marked spam', False, 54),\n",
       " ('Last Activity_email opened', False, 18),\n",
       " ('Last Activity_email received', False, 70),\n",
       " ('Last Activity_form submitted on website', False, 42),\n",
       " ('Last Activity_had a phone conversation', False, 6),\n",
       " ('Last Activity_olark chat conversation', False, 14),\n",
       " ('Last Activity_page visited on website', False, 59),\n",
       " ('Last Activity_resubscribed to emails', False, 47),\n",
       " ('Last Activity_sms sent', True, 1),\n",
       " ('Last Activity_unreachable', False, 64),\n",
       " ('Last Activity_unsubscribed', False, 23),\n",
       " ('Last Activity_view in browser link clicked', False, 71),\n",
       " ('Last Activity_visited booth in tradeshow', False, 75),\n",
       " ('Country_not mentioned', True, 1),\n",
       " ('Country_others', False, 67),\n",
       " ('Country_united states', False, 34),\n",
       " ('Specialization_business administration', False, 52),\n",
       " ('Specialization_e-business', False, 36),\n",
       " ('Specialization_e-commerce', False, 26),\n",
       " ('Specialization_international business', False, 37),\n",
       " ('Specialization_management specializations', False, 51),\n",
       " ('Specialization_media and advertising', False, 50),\n",
       " ('Specialization_not mentioned', False, 38),\n",
       " ('Specialization_rural and agribusiness', False, 55),\n",
       " ('Specialization_services excellence', False, 27),\n",
       " ('Specialization_travel and tourism', False, 11),\n",
       " ('What is your current occupation_housewife', False, 25),\n",
       " ('What is your current occupation_not mentioned', True, 1),\n",
       " ('What is your current occupation_other', False, 61),\n",
       " ('What is your current occupation_student', False, 29),\n",
       " ('What is your current occupation_unemployed', False, 17),\n",
       " ('What is your current occupation_working professional', False, 16),\n",
       " ('Search_yes', False, 41),\n",
       " ('Newspaper_yes', False, 74),\n",
       " ('Digital Advertisement_yes', False, 68),\n",
       " ('Through Recommendations_yes', False, 60),\n",
       " ('Tags_closed by horizzon', True, 1),\n",
       " ('Tags_interested in other courses', True, 1),\n",
       " ('Tags_lost to eins', True, 1),\n",
       " ('Tags_not specified', False, 2),\n",
       " ('Tags_other tags', True, 1),\n",
       " ('Tags_ringing', True, 1),\n",
       " ('Tags_will revert after reading the email', True, 1),\n",
       " ('Lead Quality_low in relevance', False, 24),\n",
       " ('Lead Quality_might be', False, 3),\n",
       " ('Lead Quality_not mentioned', False, 4),\n",
       " ('Lead Quality_not sure', False, 5),\n",
       " ('Lead Quality_worst', True, 1),\n",
       " ('City_not mentioned', False, 31),\n",
       " ('City_other cities', False, 57),\n",
       " ('City_other cities of maharashtra', False, 32),\n",
       " ('City_other metro cities', False, 35),\n",
       " ('City_thane & outskirts', False, 39),\n",
       " ('City_tier ii cities', False, 58),\n",
       " ('A free copy of Mastering The Interview_yes', False, 62),\n",
       " ('Last Notable Activity_email bounced', False, 65),\n",
       " ('Last Notable Activity_email link clicked', False, 10),\n",
       " ('Last Notable Activity_email marked spam', False, 48),\n",
       " ('Last Notable Activity_email opened', False, 19),\n",
       " ('Last Notable Activity_email received', False, 69),\n",
       " ('Last Notable Activity_form submitted on website', False, 73),\n",
       " ('Last Notable Activity_had a phone conversation', False, 12),\n",
       " ('Last Notable Activity_modified', True, 1),\n",
       " ('Last Notable Activity_olark chat conversation', True, 1),\n",
       " ('Last Notable Activity_page visited on website', False, 63),\n",
       " ('Last Notable Activity_resubscribed to emails', False, 49),\n",
       " ('Last Notable Activity_sms sent', False, 15),\n",
       " ('Last Notable Activity_unreachable', False, 40),\n",
       " ('Last Notable Activity_unsubscribed', False, 7),\n",
       " ('Last Notable Activity_view in browser link clicked', False, 76)]"
      ]
     },
     "execution_count": 144,
     "metadata": {},
     "output_type": "execute_result"
    }
   ],
   "source": [
    "# Import RFE\n",
    "from sklearn.feature_selection import RFE\n",
    "# Running RFE with 15 variables as output\n",
    "rfe = RFE(logisticRegr, n_features_to_select = 15)\n",
    "rfe = rfe.fit(X_train, y_train)\n",
    "# Features that have been selected by RFE\n",
    "list(zip(X_train.columns, rfe.support_, rfe.ranking_))"
   ]
  },
  {
   "cell_type": "code",
   "execution_count": 145,
   "id": "abdd0185",
   "metadata": {},
   "outputs": [
    {
     "data": {
      "text/html": [
       "<table class=\"simpletable\">\n",
       "<caption>Generalized Linear Model Regression Results</caption>\n",
       "<tr>\n",
       "  <th>Dep. Variable:</th>       <td>Converted</td>    <th>  No. Observations:  </th>  <td>  6307</td> \n",
       "</tr>\n",
       "<tr>\n",
       "  <th>Model:</th>                  <td>GLM</td>       <th>  Df Residuals:      </th>  <td>  6291</td> \n",
       "</tr>\n",
       "<tr>\n",
       "  <th>Model Family:</th>        <td>Binomial</td>     <th>  Df Model:          </th>  <td>    15</td> \n",
       "</tr>\n",
       "<tr>\n",
       "  <th>Link Function:</th>         <td>Logit</td>      <th>  Scale:             </th> <td>  1.0000</td>\n",
       "</tr>\n",
       "<tr>\n",
       "  <th>Method:</th>                <td>IRLS</td>       <th>  Log-Likelihood:    </th> <td> -1097.3</td>\n",
       "</tr>\n",
       "<tr>\n",
       "  <th>Date:</th>            <td>Sat, 12 Nov 2022</td> <th>  Deviance:          </th> <td>  2194.6</td>\n",
       "</tr>\n",
       "<tr>\n",
       "  <th>Time:</th>                <td>06:50:52</td>     <th>  Pearson chi2:      </th> <td>9.07e+03</td>\n",
       "</tr>\n",
       "<tr>\n",
       "  <th>No. Iterations:</th>          <td>8</td>        <th>  Pseudo R-squ. (CS):</th>  <td>0.6252</td> \n",
       "</tr>\n",
       "<tr>\n",
       "  <th>Covariance Type:</th>     <td>nonrobust</td>    <th>                     </th>     <td> </td>   \n",
       "</tr>\n",
       "</table>\n",
       "<table class=\"simpletable\">\n",
       "<tr>\n",
       "                        <td></td>                           <th>coef</th>     <th>std err</th>      <th>z</th>      <th>P>|z|</th>  <th>[0.025</th>    <th>0.975]</th>  \n",
       "</tr>\n",
       "<tr>\n",
       "  <th>const</th>                                         <td>   -0.2379</td> <td>    0.131</td> <td>   -1.809</td> <td> 0.070</td> <td>   -0.496</td> <td>    0.020</td>\n",
       "</tr>\n",
       "<tr>\n",
       "  <th>Total Time Spent on Website</th>                   <td>    1.0748</td> <td>    0.065</td> <td>   16.492</td> <td> 0.000</td> <td>    0.947</td> <td>    1.203</td>\n",
       "</tr>\n",
       "<tr>\n",
       "  <th>Lead Source_facebook</th>                          <td>   -1.5460</td> <td>    0.609</td> <td>   -2.539</td> <td> 0.011</td> <td>   -2.739</td> <td>   -0.352</td>\n",
       "</tr>\n",
       "<tr>\n",
       "  <th>Lead Source_welingak website</th>                  <td>    2.8252</td> <td>    0.747</td> <td>    3.783</td> <td> 0.000</td> <td>    1.361</td> <td>    4.289</td>\n",
       "</tr>\n",
       "<tr>\n",
       "  <th>Last Activity_sms sent</th>                        <td>    2.0065</td> <td>    0.125</td> <td>   15.999</td> <td> 0.000</td> <td>    1.761</td> <td>    2.252</td>\n",
       "</tr>\n",
       "<tr>\n",
       "  <th>Country_not mentioned</th>                         <td>    1.2863</td> <td>    0.155</td> <td>    8.277</td> <td> 0.000</td> <td>    0.982</td> <td>    1.591</td>\n",
       "</tr>\n",
       "<tr>\n",
       "  <th>What is your current occupation_not mentioned</th> <td>   -2.2341</td> <td>    0.142</td> <td>  -15.738</td> <td> 0.000</td> <td>   -2.512</td> <td>   -1.956</td>\n",
       "</tr>\n",
       "<tr>\n",
       "  <th>Tags_closed by horizzon</th>                       <td>    6.1358</td> <td>    1.016</td> <td>    6.037</td> <td> 0.000</td> <td>    4.144</td> <td>    8.128</td>\n",
       "</tr>\n",
       "<tr>\n",
       "  <th>Tags_interested in other courses</th>              <td>   -3.0967</td> <td>    0.406</td> <td>   -7.623</td> <td> 0.000</td> <td>   -3.893</td> <td>   -2.301</td>\n",
       "</tr>\n",
       "<tr>\n",
       "  <th>Tags_lost to eins</th>                             <td>    6.1664</td> <td>    0.786</td> <td>    7.842</td> <td> 0.000</td> <td>    4.625</td> <td>    7.708</td>\n",
       "</tr>\n",
       "<tr>\n",
       "  <th>Tags_other tags</th>                               <td>   -3.3810</td> <td>    0.231</td> <td>  -14.621</td> <td> 0.000</td> <td>   -3.834</td> <td>   -2.928</td>\n",
       "</tr>\n",
       "<tr>\n",
       "  <th>Tags_ringing</th>                                  <td>   -4.5911</td> <td>    0.248</td> <td>  -18.533</td> <td> 0.000</td> <td>   -5.077</td> <td>   -4.106</td>\n",
       "</tr>\n",
       "<tr>\n",
       "  <th>Tags_will revert after reading the email</th>      <td>    3.1533</td> <td>    0.206</td> <td>   15.280</td> <td> 0.000</td> <td>    2.749</td> <td>    3.558</td>\n",
       "</tr>\n",
       "<tr>\n",
       "  <th>Lead Quality_worst</th>                            <td>   -2.6616</td> <td>    0.785</td> <td>   -3.391</td> <td> 0.001</td> <td>   -4.200</td> <td>   -1.123</td>\n",
       "</tr>\n",
       "<tr>\n",
       "  <th>Last Notable Activity_modified</th>                <td>   -1.6015</td> <td>    0.136</td> <td>  -11.779</td> <td> 0.000</td> <td>   -1.868</td> <td>   -1.335</td>\n",
       "</tr>\n",
       "<tr>\n",
       "  <th>Last Notable Activity_olark chat conversation</th> <td>   -1.4640</td> <td>    0.452</td> <td>   -3.237</td> <td> 0.001</td> <td>   -2.350</td> <td>   -0.578</td>\n",
       "</tr>\n",
       "</table>"
      ],
      "text/plain": [
       "<class 'statsmodels.iolib.summary.Summary'>\n",
       "\"\"\"\n",
       "                 Generalized Linear Model Regression Results                  \n",
       "==============================================================================\n",
       "Dep. Variable:              Converted   No. Observations:                 6307\n",
       "Model:                            GLM   Df Residuals:                     6291\n",
       "Model Family:                Binomial   Df Model:                           15\n",
       "Link Function:                  Logit   Scale:                          1.0000\n",
       "Method:                          IRLS   Log-Likelihood:                -1097.3\n",
       "Date:                Sat, 12 Nov 2022   Deviance:                       2194.6\n",
       "Time:                        06:50:52   Pearson chi2:                 9.07e+03\n",
       "No. Iterations:                     8   Pseudo R-squ. (CS):             0.6252\n",
       "Covariance Type:            nonrobust                                         \n",
       "=================================================================================================================\n",
       "                                                    coef    std err          z      P>|z|      [0.025      0.975]\n",
       "-----------------------------------------------------------------------------------------------------------------\n",
       "const                                            -0.2379      0.131     -1.809      0.070      -0.496       0.020\n",
       "Total Time Spent on Website                       1.0748      0.065     16.492      0.000       0.947       1.203\n",
       "Lead Source_facebook                             -1.5460      0.609     -2.539      0.011      -2.739      -0.352\n",
       "Lead Source_welingak website                      2.8252      0.747      3.783      0.000       1.361       4.289\n",
       "Last Activity_sms sent                            2.0065      0.125     15.999      0.000       1.761       2.252\n",
       "Country_not mentioned                             1.2863      0.155      8.277      0.000       0.982       1.591\n",
       "What is your current occupation_not mentioned    -2.2341      0.142    -15.738      0.000      -2.512      -1.956\n",
       "Tags_closed by horizzon                           6.1358      1.016      6.037      0.000       4.144       8.128\n",
       "Tags_interested in other courses                 -3.0967      0.406     -7.623      0.000      -3.893      -2.301\n",
       "Tags_lost to eins                                 6.1664      0.786      7.842      0.000       4.625       7.708\n",
       "Tags_other tags                                  -3.3810      0.231    -14.621      0.000      -3.834      -2.928\n",
       "Tags_ringing                                     -4.5911      0.248    -18.533      0.000      -5.077      -4.106\n",
       "Tags_will revert after reading the email          3.1533      0.206     15.280      0.000       2.749       3.558\n",
       "Lead Quality_worst                               -2.6616      0.785     -3.391      0.001      -4.200      -1.123\n",
       "Last Notable Activity_modified                   -1.6015      0.136    -11.779      0.000      -1.868      -1.335\n",
       "Last Notable Activity_olark chat conversation    -1.4640      0.452     -3.237      0.001      -2.350      -0.578\n",
       "=================================================================================================================\n",
       "\"\"\""
      ]
     },
     "execution_count": 145,
     "metadata": {},
     "output_type": "execute_result"
    }
   ],
   "source": [
    "# Put all the columns selected by RFE in the variable 'col'\n",
    "col = X_train.columns[rfe.support_]\n",
    "# Selecting columns selected by RFE\n",
    "X_train = X_train[col]\n",
    "# Importing statsmodels\n",
    "import statsmodels.api as sm\n",
    "X_train_sm = sm.add_constant(X_train)\n",
    "logm1 = sm.GLM(y_train, X_train_sm, family = sm.families.Binomial())\n",
    "res = logm1.fit()\n",
    "res.summary()"
   ]
  },
  {
   "cell_type": "code",
   "execution_count": 146,
   "id": "444e6dad",
   "metadata": {},
   "outputs": [
    {
     "data": {
      "text/html": [
       "<div>\n",
       "<style scoped>\n",
       "    .dataframe tbody tr th:only-of-type {\n",
       "        vertical-align: middle;\n",
       "    }\n",
       "\n",
       "    .dataframe tbody tr th {\n",
       "        vertical-align: top;\n",
       "    }\n",
       "\n",
       "    .dataframe thead th {\n",
       "        text-align: right;\n",
       "    }\n",
       "</style>\n",
       "<table border=\"1\" class=\"dataframe\">\n",
       "  <thead>\n",
       "    <tr style=\"text-align: right;\">\n",
       "      <th></th>\n",
       "      <th>Features</th>\n",
       "      <th>VIF</th>\n",
       "    </tr>\n",
       "  </thead>\n",
       "  <tbody>\n",
       "    <tr>\n",
       "      <th>4</th>\n",
       "      <td>Country_not mentioned</td>\n",
       "      <td>1.89</td>\n",
       "    </tr>\n",
       "    <tr>\n",
       "      <th>13</th>\n",
       "      <td>Last Notable Activity_modified</td>\n",
       "      <td>1.88</td>\n",
       "    </tr>\n",
       "    <tr>\n",
       "      <th>9</th>\n",
       "      <td>Tags_other tags</td>\n",
       "      <td>1.65</td>\n",
       "    </tr>\n",
       "    <tr>\n",
       "      <th>5</th>\n",
       "      <td>What is your current occupation_not mentioned</td>\n",
       "      <td>1.55</td>\n",
       "    </tr>\n",
       "    <tr>\n",
       "      <th>11</th>\n",
       "      <td>Tags_will revert after reading the email</td>\n",
       "      <td>1.51</td>\n",
       "    </tr>\n",
       "    <tr>\n",
       "      <th>12</th>\n",
       "      <td>Lead Quality_worst</td>\n",
       "      <td>1.51</td>\n",
       "    </tr>\n",
       "    <tr>\n",
       "      <th>3</th>\n",
       "      <td>Last Activity_sms sent</td>\n",
       "      <td>1.49</td>\n",
       "    </tr>\n",
       "    <tr>\n",
       "      <th>0</th>\n",
       "      <td>Total Time Spent on Website</td>\n",
       "      <td>1.43</td>\n",
       "    </tr>\n",
       "    <tr>\n",
       "      <th>6</th>\n",
       "      <td>Tags_closed by horizzon</td>\n",
       "      <td>1.19</td>\n",
       "    </tr>\n",
       "    <tr>\n",
       "      <th>7</th>\n",
       "      <td>Tags_interested in other courses</td>\n",
       "      <td>1.19</td>\n",
       "    </tr>\n",
       "    <tr>\n",
       "      <th>10</th>\n",
       "      <td>Tags_ringing</td>\n",
       "      <td>1.13</td>\n",
       "    </tr>\n",
       "    <tr>\n",
       "      <th>2</th>\n",
       "      <td>Lead Source_welingak website</td>\n",
       "      <td>1.10</td>\n",
       "    </tr>\n",
       "    <tr>\n",
       "      <th>14</th>\n",
       "      <td>Last Notable Activity_olark chat conversation</td>\n",
       "      <td>1.08</td>\n",
       "    </tr>\n",
       "    <tr>\n",
       "      <th>8</th>\n",
       "      <td>Tags_lost to eins</td>\n",
       "      <td>1.06</td>\n",
       "    </tr>\n",
       "    <tr>\n",
       "      <th>1</th>\n",
       "      <td>Lead Source_facebook</td>\n",
       "      <td>1.03</td>\n",
       "    </tr>\n",
       "  </tbody>\n",
       "</table>\n",
       "</div>"
      ],
      "text/plain": [
       "                                         Features   VIF\n",
       "4                           Country_not mentioned  1.89\n",
       "13                 Last Notable Activity_modified  1.88\n",
       "9                                 Tags_other tags  1.65\n",
       "5   What is your current occupation_not mentioned  1.55\n",
       "11       Tags_will revert after reading the email  1.51\n",
       "12                             Lead Quality_worst  1.51\n",
       "3                          Last Activity_sms sent  1.49\n",
       "0                     Total Time Spent on Website  1.43\n",
       "6                         Tags_closed by horizzon  1.19\n",
       "7                Tags_interested in other courses  1.19\n",
       "10                                   Tags_ringing  1.13\n",
       "2                    Lead Source_welingak website  1.10\n",
       "14  Last Notable Activity_olark chat conversation  1.08\n",
       "8                               Tags_lost to eins  1.06\n",
       "1                            Lead Source_facebook  1.03"
      ]
     },
     "execution_count": 146,
     "metadata": {},
     "output_type": "execute_result"
    }
   ],
   "source": [
    "# Import library for VIF\n",
    "from statsmodels.stats.outliers_influence import variance_inflation_factor\n",
    "\n",
    "# Make a VIF dataframe for all the variables present\n",
    "vif = pd.DataFrame()\n",
    "vif['Features'] = X_train.columns\n",
    "vif['VIF'] = [variance_inflation_factor(X_train.values, i) for i in range(X_train.shape[1])]\n",
    "vif['VIF'] = round(vif['VIF'], 2)\n",
    "vif = vif.sort_values(by = \"VIF\", ascending = False)\n",
    "vif"
   ]
  },
  {
   "cell_type": "code",
   "execution_count": 147,
   "id": "027f4d8b",
   "metadata": {},
   "outputs": [
    {
     "data": {
      "text/plain": [
       "Index(['Total Time Spent on Website', 'Lead Source_facebook',\n",
       "       'Lead Source_welingak website', 'Last Activity_sms sent',\n",
       "       'Country_not mentioned',\n",
       "       'What is your current occupation_not mentioned',\n",
       "       'Tags_closed by horizzon', 'Tags_interested in other courses',\n",
       "       'Tags_lost to eins', 'Tags_other tags', 'Tags_ringing',\n",
       "       'Tags_will revert after reading the email', 'Lead Quality_worst',\n",
       "       'Last Notable Activity_modified',\n",
       "       'Last Notable Activity_olark chat conversation'],\n",
       "      dtype='object')"
      ]
     },
     "execution_count": 147,
     "metadata": {},
     "output_type": "execute_result"
    }
   ],
   "source": [
    "X_train.columns"
   ]
  },
  {
   "cell_type": "markdown",
   "id": "481cc7c3",
   "metadata": {},
   "source": [
    "**Selecting top 15 features using a hybrid approach: after looking at p-value, VIF, RFE output and applying Random Forest's Feature Importance technique**"
   ]
  },
  {
   "cell_type": "code",
   "execution_count": 148,
   "id": "0a74803e",
   "metadata": {},
   "outputs": [],
   "source": [
    "new_data = data[['Tags_will revert after reading the email','Total Time Spent on Website','Tags_ringing', 'Tags_other tags', \n",
    "'Last Notable Activity_sms sent', 'Last Activity_sms sent', 'Lead Source_facebook', 'Lead Source_welingak website',\n",
    "'Tags_closed by horizzon', 'Lead Origin_lead add form', 'Page Views Per Visit','TotalVisits', 'Tags_lost to eins',\n",
    "'Last Notable Activity_olark chat conversation', 'Lead Quality_might be','Converted']]"
   ]
  },
  {
   "cell_type": "code",
   "execution_count": 157,
   "id": "d2284a51",
   "metadata": {},
   "outputs": [
    {
     "data": {
      "text/plain": [
       "(9011, 16)"
      ]
     },
     "execution_count": 157,
     "metadata": {},
     "output_type": "execute_result"
    }
   ],
   "source": [
    "new_data.shape"
   ]
  },
  {
   "cell_type": "code",
   "execution_count": 163,
   "id": "2d683463",
   "metadata": {},
   "outputs": [
    {
     "name": "stdout",
     "output_type": "stream",
     "text": [
      "<class 'pandas.core.frame.DataFrame'>\n",
      "Int64Index: 9011 entries, 0 to 9239\n",
      "Data columns (total 16 columns):\n",
      " #   Column                                         Non-Null Count  Dtype  \n",
      "---  ------                                         --------------  -----  \n",
      " 0   Tags_will revert after reading the email       9011 non-null   uint8  \n",
      " 1   Total Time Spent on Website                    9011 non-null   int64  \n",
      " 2   Tags_ringing                                   9011 non-null   uint8  \n",
      " 3   Tags_other tags                                9011 non-null   uint8  \n",
      " 4   Last Notable Activity_sms sent                 9011 non-null   uint8  \n",
      " 5   Last Activity_sms sent                         9011 non-null   uint8  \n",
      " 6   Lead Source_facebook                           9011 non-null   uint8  \n",
      " 7   Lead Source_welingak website                   9011 non-null   uint8  \n",
      " 8   Tags_closed by horizzon                        9011 non-null   uint8  \n",
      " 9   Lead Origin_lead add form                      9011 non-null   uint8  \n",
      " 10  Page Views Per Visit                           9011 non-null   float64\n",
      " 11  TotalVisits                                    9011 non-null   float64\n",
      " 12  Tags_lost to eins                              9011 non-null   uint8  \n",
      " 13  Last Notable Activity_olark chat conversation  9011 non-null   uint8  \n",
      " 14  Lead Quality_might be                          9011 non-null   uint8  \n",
      " 15  Converted                                      9011 non-null   int64  \n",
      "dtypes: float64(2), int64(2), uint8(12)\n",
      "memory usage: 457.6 KB\n"
     ]
    }
   ],
   "source": [
    "new_data.info()"
   ]
  },
  {
   "cell_type": "code",
   "execution_count": 164,
   "id": "aa106bbe",
   "metadata": {},
   "outputs": [],
   "source": [
    "from sklearn.model_selection import train_test_split\n",
    "X = new_data.drop(['Converted'],axis=1)\n",
    "y = new_data[['Converted']]"
   ]
  },
  {
   "cell_type": "code",
   "execution_count": 165,
   "id": "ccddfe5b",
   "metadata": {},
   "outputs": [
    {
     "data": {
      "text/plain": [
       "(9011, 15)"
      ]
     },
     "execution_count": 165,
     "metadata": {},
     "output_type": "execute_result"
    }
   ],
   "source": [
    "X.shape"
   ]
  },
  {
   "cell_type": "code",
   "execution_count": 166,
   "id": "d9fedf49",
   "metadata": {},
   "outputs": [],
   "source": [
    "X_train, X_test, y_train, y_test = train_test_split(X, y, train_size = 0.7, test_size = 0.3, random_state = 100)"
   ]
  },
  {
   "cell_type": "code",
   "execution_count": 167,
   "id": "dec19b3f",
   "metadata": {},
   "outputs": [],
   "source": [
    "from sklearn.preprocessing import StandardScaler\n",
    "scaler = StandardScaler()"
   ]
  },
  {
   "cell_type": "code",
   "execution_count": 168,
   "id": "b4a531d6",
   "metadata": {},
   "outputs": [],
   "source": [
    "scaler.fit(X_train[['Total Time Spent on Website','Page Views Per Visit','TotalVisits']])\n",
    "X_train[['Total Time Spent on Website','Page Views Per Visit','TotalVisits']] = scaler.transform(X_train[['Total Time Spent on Website','Page Views Per Visit','TotalVisits']])\n",
    "X_test[['Total Time Spent on Website','Page Views Per Visit','TotalVisits']] = scaler.transform(X_test[['Total Time Spent on Website','Page Views Per Visit','TotalVisits']])"
   ]
  },
  {
   "cell_type": "code",
   "execution_count": 170,
   "id": "f6610a71",
   "metadata": {},
   "outputs": [
    {
     "name": "stdout",
     "output_type": "stream",
     "text": [
      "(6307, 15)\n",
      "(2704, 1)\n"
     ]
    }
   ],
   "source": [
    "print(X_train.shape)\n",
    "print(y_test.shape)"
   ]
  },
  {
   "cell_type": "code",
   "execution_count": 177,
   "id": "b2d48e24",
   "metadata": {},
   "outputs": [
    {
     "data": {
      "text/plain": [
       "LogisticRegression()"
      ]
     },
     "execution_count": 177,
     "metadata": {},
     "output_type": "execute_result"
    }
   ],
   "source": [
    "from sklearn.linear_model import LogisticRegression\n",
    "logreg = LogisticRegression()\n",
    "logreg.fit(X_train, y_train)"
   ]
  },
  {
   "cell_type": "code",
   "execution_count": 178,
   "id": "caa3c1e3",
   "metadata": {},
   "outputs": [],
   "source": [
    "train_pred = logreg.predict(X_train)\n",
    "y_pred = logreg.predict(X_test)"
   ]
  },
  {
   "cell_type": "code",
   "execution_count": 179,
   "id": "c80cffac",
   "metadata": {},
   "outputs": [
    {
     "name": "stdout",
     "output_type": "stream",
     "text": [
      "train score 0.9273822736641827\n",
      "test score 0.926405325443787\n"
     ]
    }
   ],
   "source": [
    "from sklearn import metrics\n",
    "train_score = metrics.accuracy_score(y_train, train_pred)\n",
    "test_score = metrics.accuracy_score(y_test, y_pred)\n",
    "print(\"train score\", train_score)\n",
    "print(\"test score\", test_score)"
   ]
  },
  {
   "cell_type": "markdown",
   "id": "42a19551",
   "metadata": {},
   "source": [
    "**Here we can see that only top 15 variables are well enough to explain 92.6% of model performance. So, We will ignore the other features which are having very less explanation power for this problem statement.**"
   ]
  },
  {
   "cell_type": "markdown",
   "id": "a247093b",
   "metadata": {},
   "source": [
    "**Top 3 features:**\n",
    "\n",
    "    1. Tags_will revert after reading the email\n",
    "    \n",
    "    2. Total Time Spent on Website\n",
    "    \n",
    "    3. Tags_ringing"
   ]
  },
  {
   "cell_type": "code",
   "execution_count": 196,
   "id": "af28a77f",
   "metadata": {},
   "outputs": [
    {
     "data": {
      "image/png": "[encoded data removed]",
      "text/plain": [
       "<Figure size 1152x576 with 1 Axes>"
      ]
     },
     "metadata": {
      "needs_background": "light"
     },
     "output_type": "display_data"
    }
   ],
   "source": [
    "y_pred_proba = logreg.predict_proba(X_test)[::,1]\n",
    "fpr, tpr, _ = metrics.roc_curve(y_test,  y_pred_proba)\n",
    "auc = metrics.roc_auc_score(y_test, y_pred_proba)\n",
    "#plt.figure(figsize=(16,8))\n",
    "#plt.plot(fpr,tpr,label=\"AUC-ROC Curve, auc=\"+str(auc))\n",
    "#plt.legend(loc=4) \n",
    "#plt.show()\n",
    "plt.subplots(1, figsize=(16,8))\n",
    "plt.title('Receiver Operating Characteristic - Logistic regression')\n",
    "plt.plot(fpr, tpr,label=\"AUC-ROC Curve, auc=\"+str(auc))\n",
    "plt.plot([0, 1], ls=\"--\")\n",
    "plt.plot([0, 0], [1, 0] , c=\".7\"), plt.plot([1, 1] , c=\".7\")\n",
    "plt.ylabel('Sensitivity(True Positive Rate)')\n",
    "plt.xlabel('1-Specificity(False Positive Rate)')\n",
    "plt.legend(loc=4)\n",
    "plt.show()"
   ]
  },
  {
   "cell_type": "code",
   "execution_count": 188,
   "id": "7680e3d2",
   "metadata": {},
   "outputs": [
    {
     "name": "stdout",
     "output_type": "stream",
     "text": [
      "ROC-AUC score  test dataset:  \t 0.9810698109302831\n",
      "precision score  test dataset:   0.9321047526673133\n",
      "Recall score  test dataset:  \t 0.9040451552210724\n",
      "f1 score  test dataset :  \t 0.9178605539637058\n"
     ]
    }
   ],
   "source": [
    "# ROC- AUC score\n",
    "print(\"ROC-AUC score  test dataset:  \\t\", metrics.roc_auc_score(y_test,y_pred_prob_test))\n",
    "#Precision score\n",
    "print(\"precision score  test dataset:  \", metrics.precision_score(y_test,y_pred_test))\n",
    "#Recall Score\n",
    "print(\"Recall score  test dataset:  \\t\", metrics.recall_score(y_test,y_pred_test))\n",
    "#f1 score\n",
    "print(\"f1 score  test dataset :  \\t\", metrics.f1_score(y_test,y_pred_test))"
   ]
  },
  {
   "cell_type": "markdown",
   "id": "6466c33e",
   "metadata": {},
   "source": [
    "**Specificity vs Sensivity Trade-off:**\n",
    "Sensitivity is the proportion of True Positives or the proportion of cases correctly identified by the test as meeting a certain condition.\n",
    "\n",
    "Specificity is the proportion of True Negatives or the proportion of cases correctly identified by the test as not meeting a certain condition.\n",
    "\n",
    "But there is always a trade-off between sensitivity and Specificity. We cannot have 100 % Sensitivity and 100% Specificity. Balancing between the two is important.\n",
    "\n",
    "ROC Curves summarize the trade-off between the true positive rate and false positive rate for a predictive model using different probability thresholds.\n",
    "\n",
    "Precision-Recall curves summarize the trade-off between the true positive rate and the positive predictive value for a predictive model using different probability thresholds.\n",
    "\n",
    "ROC curves are appropriate when the observations are balanced between each class, whereas precision-recall curves are appropriate for imbalanced datasets.\n",
    "\n",
    "We have balanced dataset in this case study and here, we can see ROC-AUC score  on test dataset is 98.1%, which is amazing!!! "
   ]
  },
  {
   "cell_type": "code",
   "execution_count": 193,
   "id": "2e16a7ec",
   "metadata": {},
   "outputs": [
    {
     "data": {
      "text/plain": [
       "<matplotlib.legend.Legend at 0x2533af6c5b0>"
      ]
     },
     "execution_count": 193,
     "metadata": {},
     "output_type": "execute_result"
    },
    {
     "data": {
      "image/png": "[encoded data removed]",
      "text/plain": [
       "<Figure size 432x288 with 1 Axes>"
      ]
     },
     "metadata": {
      "needs_background": "light"
     },
     "output_type": "display_data"
    }
   ],
   "source": [
    "from sklearn.metrics import precision_score, recall_score\n",
    "\n",
    "# Get the estimated probabilities of each observation being categorized as positive\n",
    "# [:,1] for probabilities of negative\n",
    "#predicted_y_probs = rfc.predict_proba(test_x)[:,0]\n",
    "\n",
    "thresholds = np.linspace(0,1,20) #0.7 # or however many points you want\n",
    "\n",
    "sensitivities = [recall_score(y_test, y_pred_proba >= t) for t in thresholds]\n",
    "selectivities = [precision_score(y_test, y_pred_proba >= t) for t in thresholds]\n",
    "plt.plot(thresholds, sensitivities, label='sensitivity')\n",
    "plt.plot(thresholds, selectivities, label='selectivity')\n",
    "plt.legend()"
   ]
  },
  {
   "cell_type": "code",
   "execution_count": null,
   "id": "c78095b2",
   "metadata": {},
   "outputs": [],
   "source": []
  },
  {
   "cell_type": "code",
   "execution_count": 174,
   "id": "bcafd7f4",
   "metadata": {},
   "outputs": [],
   "source": [
    "from sklearn.ensemble import AdaBoostClassifier\n",
    "# Create adaboost classifer object\n",
    "abc = AdaBoostClassifier(n_estimators=50,\n",
    "                         learning_rate=1)\n",
    "# Train Adaboost Classifer\n",
    "model = abc.fit(X_train, y_train)\n",
    "\n",
    "#Predict the response for test dataset\n",
    "y_pred = model.predict(X_test)"
   ]
  },
  {
   "cell_type": "code",
   "execution_count": 175,
   "id": "5e922ff8",
   "metadata": {},
   "outputs": [
    {
     "name": "stdout",
     "output_type": "stream",
     "text": [
      "Train set accuracy: 0.9278579356270811\n",
      "Test set accuracy: 0.9230769230769231\n"
     ]
    }
   ],
   "source": [
    "#train and test set prediction\n",
    "y_pred = model.predict(X_test)\n",
    "y_pred_train = model.predict(X_train)\n",
    "print(\"Train set accuracy:\",metrics.accuracy_score(y_train, y_pred_train))\n",
    "print(\"Test set accuracy:\",metrics.accuracy_score(y_test, y_pred))"
   ]
  },
  {
   "cell_type": "code",
   "execution_count": 222,
   "id": "aa901c8d",
   "metadata": {},
   "outputs": [],
   "source": [
    "from sklearn.ensemble import GradientBoostingClassifier\n",
    "GBC = GradientBoostingClassifier()"
   ]
  },
  {
   "cell_type": "code",
   "execution_count": 223,
   "id": "b2066654",
   "metadata": {},
   "outputs": [],
   "source": [
    "parameters = {'learning_rate': [0.01,0.02,0.03],\n",
    "                  'subsample'    : [0.9, 0.5, 0.2],\n",
    "                  'n_estimators' : [100,500,1000],\n",
    "                  'max_depth'    : [4,6,8]\n",
    "                 }"
   ]
  },
  {
   "cell_type": "code",
   "execution_count": 224,
   "id": "5698c8ac",
   "metadata": {},
   "outputs": [
    {
     "data": {
      "text/plain": [
       "GridSearchCV(cv=2, estimator=GradientBoostingClassifier(), n_jobs=-1,\n",
       "             param_grid={'learning_rate': [0.01, 0.02, 0.03],\n",
       "                         'max_depth': [4, 6, 8],\n",
       "                         'n_estimators': [100, 500, 1000],\n",
       "                         'subsample': [0.9, 0.5, 0.2]})"
      ]
     },
     "execution_count": 224,
     "metadata": {},
     "output_type": "execute_result"
    }
   ],
   "source": [
    "grid_GBC = GridSearchCV(estimator=GBC, param_grid = parameters, cv = 2, n_jobs=-1)\n",
    "grid_GBC.fit(X_train, y_train)"
   ]
  },
  {
   "cell_type": "code",
   "execution_count": 225,
   "id": "1ff7a505",
   "metadata": {},
   "outputs": [
    {
     "name": "stdout",
     "output_type": "stream",
     "text": [
      " Results from Grid Search \n",
      "\n",
      " The best estimator across ALL searched params:\n",
      " GradientBoostingClassifier(learning_rate=0.02, max_depth=4, n_estimators=500,\n",
      "                           subsample=0.2)\n",
      "\n",
      " The best score across ALL searched params:\n",
      " 0.9438775510204082\n",
      "\n",
      " The best parameters across ALL searched params:\n",
      " {'learning_rate': 0.02, 'max_depth': 4, 'n_estimators': 500, 'subsample': 0.2}\n"
     ]
    }
   ],
   "source": [
    "print(\" Results from Grid Search \" )\n",
    "print(\"\\n The best estimator across ALL searched params:\\n\",grid_GBC.best_estimator_)\n",
    "print(\"\\n The best score across ALL searched params:\\n\",grid_GBC.best_score_)\n",
    "print(\"\\n The best parameters across ALL searched params:\\n\",grid_GBC.best_params_)"
   ]
  },
  {
   "cell_type": "code",
   "execution_count": null,
   "id": "bc76edd0",
   "metadata": {},
   "outputs": [],
   "source": []
  },
  {
   "cell_type": "markdown",
   "id": "1d068a99",
   "metadata": {},
   "source": [
    "**Hyperparameter Tunning**"
   ]
  },
  {
   "cell_type": "code",
   "execution_count": 197,
   "id": "d2aaec6b",
   "metadata": {},
   "outputs": [],
   "source": [
    "from sklearn.feature_selection import RFE\n",
    "from sklearn.model_selection import cross_val_score\n",
    "from sklearn.model_selection import KFold\n",
    "from sklearn.model_selection import StratifiedKFold"
   ]
  },
  {
   "cell_type": "code",
   "execution_count": 198,
   "id": "ec76b388",
   "metadata": {},
   "outputs": [],
   "source": [
    "#Importing dependencies\n",
    "import pandas as pd\n",
    "import numpy as np\n",
    "import matplotlib.pyplot as plt\n",
    "import seaborn as sns\n",
    "from sklearn.model_selection import KFold, StratifiedKFold, cross_val_score, GridSearchCV\n",
    "from sklearn import linear_model, tree, ensemble\n",
    "#For training without cross_validation\n",
    "from sklearn.ensemble import RandomForestClassifier\n",
    "from sklearn.model_selection import train_test_split\n",
    "from sklearn.metrics import accuracy_score"
   ]
  },
  {
   "cell_type": "code",
   "execution_count": 199,
   "id": "e58210a8",
   "metadata": {},
   "outputs": [
    {
     "name": "stdout",
     "output_type": "stream",
     "text": [
      "Scores for each fold are: [0.92155309 0.91204437 0.90880254 0.89849326 0.91038858]\n",
      "Average score: 0.910\n"
     ]
    }
   ],
   "source": [
    "kf = StratifiedKFold(n_splits=5, shuffle=True, random_state=42)\n",
    "score = cross_val_score(RandomForestClassifier(n_estimators = 100, random_state= 42), \n",
    "                        X_train, y_train, cv= kf, scoring=\"accuracy\")\n",
    "print(f'Scores for each fold are: {score}')\n",
    "print(f'Average score: {\"{:.3f}\".format(score.mean())}')"
   ]
  },
  {
   "cell_type": "code",
   "execution_count": 200,
   "id": "195bee5b",
   "metadata": {},
   "outputs": [
    {
     "name": "stdout",
     "output_type": "stream",
     "text": [
      "{'n_estimators': [200, 400, 600, 800, 1000, 1200, 1400, 1600, 1800, 2000], 'max_features': ['auto', 'sqrt'], 'max_depth': [10, 20, 30, 40, 50, 60, 70, 80, 90, 100, 110, None], 'min_samples_split': [2, 5, 10], 'min_samples_leaf': [1, 2, 4], 'bootstrap': [True, False]}\n"
     ]
    }
   ],
   "source": [
    "from sklearn.model_selection import RandomizedSearchCV\n",
    "# Number of trees in random forest\n",
    "n_estimators = [int(x) for x in np.linspace(start = 200, stop = 2000, num = 10)]\n",
    "# Number of features to consider at every split\n",
    "max_features = ['auto', 'sqrt']\n",
    "# Maximum number of levels in tree\n",
    "max_depth = [int(x) for x in np.linspace(10, 110, num = 11)]\n",
    "max_depth.append(None)\n",
    "# Minimum number of samples required to split a node\n",
    "min_samples_split = [2, 5, 10]\n",
    "# Minimum number of samples required at each leaf node\n",
    "min_samples_leaf = [1, 2, 4]\n",
    "# Method of selecting samples for training each tree\n",
    "bootstrap = [True, False]\n",
    "# Create the random grid\n",
    "random_grid = {'n_estimators': n_estimators,\n",
    "               'max_features': max_features,\n",
    "               'max_depth': max_depth,\n",
    "               'min_samples_split': min_samples_split,\n",
    "               'min_samples_leaf': min_samples_leaf,\n",
    "               'bootstrap': bootstrap}\n",
    "print(random_grid)"
   ]
  },
  {
   "cell_type": "code",
   "execution_count": 201,
   "id": "5dcdc92f",
   "metadata": {},
   "outputs": [
    {
     "name": "stdout",
     "output_type": "stream",
     "text": [
      "Fitting 5 folds for each of 100 candidates, totalling 500 fits\n"
     ]
    },
    {
     "data": {
      "text/plain": [
       "RandomizedSearchCV(cv=5, estimator=RandomForestClassifier(random_state=42),\n",
       "                   n_iter=100, n_jobs=-1,\n",
       "                   param_distributions={'bootstrap': [True, False],\n",
       "                                        'max_depth': [10, 20, 30, 40, 50, 60,\n",
       "                                                      70, 80, 90, 100, 110,\n",
       "                                                      None],\n",
       "                                        'max_features': ['auto', 'sqrt'],\n",
       "                                        'min_samples_leaf': [1, 2, 4],\n",
       "                                        'min_samples_split': [2, 5, 10],\n",
       "                                        'n_estimators': [200, 400, 600, 800,\n",
       "                                                         1000, 1200, 1400, 1600,\n",
       "                                                         1800, 2000]},\n",
       "                   random_state=42, verbose=2)"
      ]
     },
     "execution_count": 201,
     "metadata": {},
     "output_type": "execute_result"
    }
   ],
   "source": [
    "# Use the random grid to search for best hyperparameters\n",
    "# First create the base model to tune\n",
    "clf = RandomForestClassifier(n_estimators = 100, random_state= 42)\n",
    "# Random search of parameters, using 3 fold cross validation, \n",
    "# search across 100 different combinations, and use all available cores\n",
    "clf_random = RandomizedSearchCV(estimator = clf, param_distributions = random_grid, n_iter = 100, cv = 5, verbose=2, random_state=42, n_jobs = -1)\n",
    "# Fit the random search model\n",
    "clf_random.fit(X_train, y_train)"
   ]
  },
  {
   "cell_type": "code",
   "execution_count": 202,
   "id": "2ee153d1",
   "metadata": {},
   "outputs": [
    {
     "data": {
      "text/plain": [
       "{'n_estimators': 1000,\n",
       " 'min_samples_split': 10,\n",
       " 'min_samples_leaf': 2,\n",
       " 'max_features': 'sqrt',\n",
       " 'max_depth': 10,\n",
       " 'bootstrap': True}"
      ]
     },
     "execution_count": 202,
     "metadata": {},
     "output_type": "execute_result"
    }
   ],
   "source": [
    "clf_random.best_params_"
   ]
  },
  {
   "cell_type": "code",
   "execution_count": 203,
   "id": "67051d6b",
   "metadata": {},
   "outputs": [],
   "source": [
    "#Run the model substituting the best parameters\n",
    "forest = RandomForestClassifier(random_state=42,n_estimators= 1000,\n",
    " min_samples_split= 10,\n",
    " min_samples_leaf= 2,\n",
    " max_features= 'sqrt',\n",
    " max_depth= 10,\n",
    " bootstrap= True)"
   ]
  },
  {
   "cell_type": "code",
   "execution_count": 204,
   "id": "c7634555",
   "metadata": {},
   "outputs": [
    {
     "data": {
      "text/plain": [
       "RandomForestClassifier(max_depth=10, max_features='sqrt', min_samples_leaf=2,\n",
       "                       min_samples_split=10, n_estimators=1000,\n",
       "                       random_state=42)"
      ]
     },
     "execution_count": 204,
     "metadata": {},
     "output_type": "execute_result"
    }
   ],
   "source": [
    "forest.fit(X_train, y_train)"
   ]
  },
  {
   "cell_type": "code",
   "execution_count": 205,
   "id": "2756fe7b",
   "metadata": {},
   "outputs": [
    {
     "name": "stdout",
     "output_type": "stream",
     "text": [
      "Train set accuracy: 0.9326145552560647\n",
      "Test set accuracy: 0.9267751479289941\n"
     ]
    }
   ],
   "source": [
    "#train and test set prediction\n",
    "y_pred = forest.predict(X_test)\n",
    "y_pred_train = forest.predict(X_train)\n",
    "print(\"Train set accuracy:\",metrics.accuracy_score(y_train, y_pred_train))\n",
    "print(\"Test set accuracy:\",metrics.accuracy_score(y_test, y_pred))"
   ]
  },
  {
   "cell_type": "code",
   "execution_count": null,
   "id": "2f858a8b",
   "metadata": {},
   "outputs": [],
   "source": []
  },
  {
   "cell_type": "code",
   "execution_count": 206,
   "id": "ccb1a746",
   "metadata": {},
   "outputs": [],
   "source": [
    "from sklearn.model_selection import GridSearchCV\n",
    "# Create the parameter grid based on the results of random search \n",
    "param_grid = {\n",
    "    'bootstrap': [True],\n",
    "    'max_depth': [80, 90, 100, 110],\n",
    "    'max_features': [2, 3],\n",
    "    'min_samples_leaf': [3, 4, 5],\n",
    "    'min_samples_split': [8, 10, 12],\n",
    "    'n_estimators': [100, 200, 300, 1000]\n",
    "}\n",
    "# Create a based model\n",
    "clf = RandomForestClassifier(random_state= 42)\n",
    "# Instantiate the grid search model\n",
    "grid_search = GridSearchCV(estimator = clf, param_grid = param_grid, \n",
    "                          cv = 3, n_jobs = -1, verbose = 2)"
   ]
  },
  {
   "cell_type": "code",
   "execution_count": 207,
   "id": "3d1bfb53",
   "metadata": {},
   "outputs": [
    {
     "name": "stdout",
     "output_type": "stream",
     "text": [
      "Fitting 3 folds for each of 288 candidates, totalling 864 fits\n"
     ]
    },
    {
     "data": {
      "text/plain": [
       "{'bootstrap': True,\n",
       " 'max_depth': 80,\n",
       " 'max_features': 3,\n",
       " 'min_samples_leaf': 5,\n",
       " 'min_samples_split': 12,\n",
       " 'n_estimators': 100}"
      ]
     },
     "execution_count": 207,
     "metadata": {},
     "output_type": "execute_result"
    }
   ],
   "source": [
    "grid_search.fit(X_train, y_train)\n",
    "grid_search.best_params_"
   ]
  },
  {
   "cell_type": "code",
   "execution_count": 208,
   "id": "0b1a341a",
   "metadata": {},
   "outputs": [],
   "source": [
    "#Run the model substituting the best parameters\n",
    "forest = RandomForestClassifier(random_state=42,n_estimators= 100,\n",
    " min_samples_split= 12,\n",
    " min_samples_leaf= 5,\n",
    " max_features= 3,\n",
    " max_depth= 80,\n",
    " bootstrap= True)"
   ]
  },
  {
   "cell_type": "code",
   "execution_count": 209,
   "id": "2ff583fe",
   "metadata": {},
   "outputs": [
    {
     "data": {
      "text/plain": [
       "RandomForestClassifier(max_depth=80, max_features=3, min_samples_leaf=5,\n",
       "                       min_samples_split=12, random_state=42)"
      ]
     },
     "execution_count": 209,
     "metadata": {},
     "output_type": "execute_result"
    }
   ],
   "source": [
    "forest.fit(X_train, y_train)"
   ]
  },
  {
   "cell_type": "code",
   "execution_count": 210,
   "id": "414d854a",
   "metadata": {},
   "outputs": [
    {
     "name": "stdout",
     "output_type": "stream",
     "text": [
      "Train set accuracy: 0.9334073251942286\n",
      "Test set accuracy: 0.9256656804733728\n"
     ]
    }
   ],
   "source": [
    "#train and test set prediction\n",
    "y_pred = forest.predict(X_test)\n",
    "y_pred_train = forest.predict(X_train)\n",
    "print(\"Train set accuracy:\",metrics.accuracy_score(y_train, y_pred_train))\n",
    "print(\"Test set accuracy:\",metrics.accuracy_score(y_test, y_pred))"
   ]
  },
  {
   "cell_type": "code",
   "execution_count": null,
   "id": "43aee315",
   "metadata": {},
   "outputs": [],
   "source": []
  },
  {
   "cell_type": "code",
   "execution_count": 211,
   "id": "6df8510e",
   "metadata": {},
   "outputs": [
    {
     "name": "stdout",
     "output_type": "stream",
     "text": [
      "[[1590   51]\n",
      " [ 150  913]]\n"
     ]
    }
   ],
   "source": [
    "from sklearn.metrics import plot_confusion_matrix\n",
    "from sklearn.metrics import confusion_matrix, plot_confusion_matrix\n",
    "\n",
    "conf_mat = confusion_matrix(y_test, y_pred)\n",
    "print(conf_mat)"
   ]
  },
  {
   "cell_type": "code",
   "execution_count": 213,
   "id": "3e2a720c",
   "metadata": {},
   "outputs": [
    {
     "data": {
      "image/png": "[encoded data removed]",
      "text/plain": [
       "<Figure size 432x288 with 2 Axes>"
      ]
     },
     "metadata": {
      "needs_background": "light"
     },
     "output_type": "display_data"
    }
   ],
   "source": [
    "disp = plot_confusion_matrix(forest, X_test, y_test, cmap=plt.cm.Blues)\n",
    "plt.grid(False)\n",
    "plt.show()"
   ]
  },
  {
   "cell_type": "code",
   "execution_count": 214,
   "id": "679f013a",
   "metadata": {},
   "outputs": [
    {
     "name": "stdout",
     "output_type": "stream",
     "text": [
      "               precision    recall  f1-score   support\n",
      "\n",
      "Not Converted       0.91      0.97      0.94      1641\n",
      "    Converted       0.95      0.86      0.90      1063\n",
      "\n",
      "     accuracy                           0.93      2704\n",
      "    macro avg       0.93      0.91      0.92      2704\n",
      " weighted avg       0.93      0.93      0.92      2704\n",
      "\n"
     ]
    }
   ],
   "source": [
    "from sklearn.metrics import classification_report\n",
    "target_names = ['Not Converted', 'Converted']\n",
    "print(classification_report(y_test, y_pred, target_names=target_names))"
   ]
  },
  {
   "cell_type": "code",
   "execution_count": 215,
   "id": "6ab841e5",
   "metadata": {},
   "outputs": [],
   "source": [
    "TP = conf_mat[1,1] # true positive \n",
    "TN = conf_mat[0,0] # true negatives\n",
    "FP = conf_mat[0,1] # false positives\n",
    "FN = conf_mat[1,0] # false negatives"
   ]
  },
  {
   "cell_type": "code",
   "execution_count": 216,
   "id": "2b91a531",
   "metadata": {},
   "outputs": [
    {
     "name": "stdout",
     "output_type": "stream",
     "text": [
      "Sensitivity:  36.48\n"
     ]
    }
   ],
   "source": [
    "print(\"Sensitivity: \",round((TP/(TP+TN))*100,2))"
   ]
  },
  {
   "cell_type": "code",
   "execution_count": 217,
   "id": "3024b5ef",
   "metadata": {},
   "outputs": [
    {
     "name": "stdout",
     "output_type": "stream",
     "text": [
      "Specificity:  96.89\n"
     ]
    }
   ],
   "source": [
    "print(\"Specificity: \",round((TN/(TN+FP))*100,2))"
   ]
  },
  {
   "cell_type": "code",
   "execution_count": 218,
   "id": "33d11662",
   "metadata": {},
   "outputs": [
    {
     "name": "stdout",
     "output_type": "stream",
     "text": [
      "Precision:  94.71\n"
     ]
    }
   ],
   "source": [
    "precision = TP/(TP+FP)\n",
    "print(\"Precision: \",round((TP/(TP+FP))*100,2))"
   ]
  },
  {
   "cell_type": "code",
   "execution_count": 219,
   "id": "412dc1f1",
   "metadata": {},
   "outputs": [
    {
     "name": "stdout",
     "output_type": "stream",
     "text": [
      "Recall:  85.89\n"
     ]
    }
   ],
   "source": [
    "recall = TP/(TP+FN)\n",
    "print(\"Recall: \",round((TP/(TP+FN))*100,2))"
   ]
  },
  {
   "cell_type": "markdown",
   "id": "cf4d46bf",
   "metadata": {},
   "source": [
    "Precision: Precision is about being precise, i.e., how accurate your model is. In other words, you can say, when a model makes a prediction, how often it is correct. In your prediction case, when your Logistic Regression model predicted patients are going to suffer from diabetes, that patients have 95% of the time.\n",
    "\n",
    "Recall: If there are patients who have diabetes in the test set and your Logistic Regression model can identify it 83% of the time."
   ]
  },
  {
   "cell_type": "code",
   "execution_count": 220,
   "id": "93c601bb",
   "metadata": {},
   "outputs": [
    {
     "name": "stdout",
     "output_type": "stream",
     "text": [
      "F1 Score:  90.08386778490379\n"
     ]
    }
   ],
   "source": [
    "print(\"F1 Score: \",2*((precision*recall)/(precision+recall))*100)"
   ]
  },
  {
   "cell_type": "code",
   "execution_count": 222,
   "id": "61cb00d0",
   "metadata": {},
   "outputs": [
    {
     "data": {
      "image/png": "[encoded data removed]",
      "text/plain": [
       "<Figure size 432x288 with 1 Axes>"
      ]
     },
     "metadata": {
      "needs_background": "light"
     },
     "output_type": "display_data"
    }
   ],
   "source": [
    "y_pred_proba = forest.predict_proba(X_test)[::,1]\n",
    "fpr, tpr, _ = metrics.roc_curve(y_test,  y_pred_proba)\n",
    "auc = metrics.roc_auc_score(y_test, y_pred_proba)\n",
    "plt.plot(fpr,tpr,label=\"ROC Curve, auc=\"+str(auc))\n",
    "plt.legend(loc=4) \n",
    "plt.show()"
   ]
  },
  {
   "cell_type": "markdown",
   "id": "4b3b6b22",
   "metadata": {},
   "source": [
    "**Thank You!!!**"
   ]
  }
 ],
 "metadata": {
  "kernelspec": {
   "display_name": "Python 3 (ipykernel)",
   "language": "python",
   "name": "python3"
  },
  "language_info": {
   "codemirror_mode": {
    "name": "ipython",
    "version": 3
   },
   "file_extension": ".py",
   "mimetype": "text/x-python",
   "name": "python",
   "nbconvert_exporter": "python",
   "pygments_lexer": "ipython3",
   "version": "3.9.12"
  }
 },
 "nbformat": 4,
 "nbformat_minor": 5
}
